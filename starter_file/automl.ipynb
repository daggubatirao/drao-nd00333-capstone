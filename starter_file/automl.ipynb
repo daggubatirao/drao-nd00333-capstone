{
  "cells": [
    {
      "cell_type": "markdown",
      "source": [
        "# Automated ML\n",
        "\n",
        "Import Dependencies. "
      ],
      "metadata": {}
    },
    {
      "cell_type": "code",
      "source": [
        "!pip install xgboost==0.90"
      ],
      "outputs": [
        {
          "output_type": "stream",
          "name": "stdout",
          "text": [
            "Collecting xgboost==0.90\n",
            "  Downloading xgboost-0.90-py2.py3-none-manylinux1_x86_64.whl (142.8 MB)\n",
            "\u001b[K     |████████████████████████████████| 142.8 MB 25 kB/s s eta 0:00:01\n",
            "\u001b[?25hRequirement already satisfied: scipy in /anaconda/envs/azureml_py36/lib/python3.6/site-packages (from xgboost==0.90) (1.4.1)\n",
            "Requirement already satisfied: numpy in /anaconda/envs/azureml_py36/lib/python3.6/site-packages (from xgboost==0.90) (1.18.5)\n",
            "Installing collected packages: xgboost\n",
            "  Attempting uninstall: xgboost\n",
            "    Found existing installation: xgboost 1.3.3\n",
            "    Uninstalling xgboost-1.3.3:\n",
            "      Successfully uninstalled xgboost-1.3.3\n",
            "Successfully installed xgboost-0.90\n"
          ]
        }
      ],
      "execution_count": 1,
      "metadata": {}
    },
    {
      "cell_type": "code",
      "source": [
        "import logging\n",
        "import os\n",
        "import csv\n",
        "\n",
        "from matplotlib import pyplot as plt\n",
        "import numpy as np\n",
        "import pandas as pd\n",
        "from sklearn import datasets\n",
        "import pkg_resources\n",
        "\n",
        "import azureml.core\n",
        "from azureml.core.experiment import Experiment\n",
        "from azureml.core.workspace import Workspace\n",
        "from azureml.train.automl import AutoMLConfig\n",
        "from azureml.core.dataset import Dataset\n",
        "from azureml.core.compute import AmlCompute\n",
        "from azureml.core.compute import ComputeTarget\n",
        "from azureml.core.compute_target import ComputeTargetException\n",
        "\n",
        "from azureml.pipeline.steps import AutoMLStep\n",
        "\n",
        "# Check core SDK version number\n",
        "print(\"SDK version:\", azureml.core.VERSION)"
      ],
      "outputs": [
        {
          "output_type": "stream",
          "name": "stdout",
          "text": [
            "SDK version: 1.24.0\n"
          ]
        }
      ],
      "execution_count": 2,
      "metadata": {
        "gather": {
          "logged": 1617002369682
        },
        "jupyter": {
          "outputs_hidden": false,
          "source_hidden": false
        },
        "nteract": {
          "transient": {
            "deleting": false
          }
        }
      }
    },
    {
      "cell_type": "code",
      "source": [
        "ws = Workspace.from_config()\n",
        "print(ws.name, ws.resource_group, ws.location, ws.subscription_id, sep = '\\n')\n"
      ],
      "outputs": [
        {
          "output_type": "stream",
          "name": "stdout",
          "text": [
            "Performing interactive authentication. Please follow the instructions on the terminal.\n",
            "To sign in, use a web browser to open the page https://microsoft.com/devicelogin and enter the code AEUKG7W73 to authenticate.\n",
            "You have logged in. Now let us find all the subscriptions to which you have access...\n",
            "Interactive authentication successfully completed.\n",
            "quick-starts-ws-141541\n",
            "aml-quickstarts-141541\n",
            "southcentralus\n",
            "d4ad7261-832d-46b2-b093-22156001df5b\n"
          ]
        }
      ],
      "execution_count": 3,
      "metadata": {
        "gather": {
          "logged": 1617002393413
        },
        "jupyter": {
          "outputs_hidden": false,
          "source_hidden": false
        },
        "nteract": {
          "transient": {
            "deleting": false
          }
        }
      }
    },
    {
      "cell_type": "markdown",
      "source": [
        "Create Compute Cluster : Check if a compute cluster exists. Create a new cluster if a cluster doesn't exist. "
      ],
      "metadata": {}
    },
    {
      "cell_type": "code",
      "source": [
        "amlcompute_cluster_name = \"cluster-capstone\"\n",
        "try:\n",
        "    compute_target = ComputeTarget(workspace=ws, name=amlcompute_cluster_name)\n",
        "    print('Found existing cluster, use it.')\n",
        "except ComputeTargetException:\n",
        "    compute_config = AmlCompute.provisioning_configuration(vm_size='STANDARD_D2_V2',# for GPU, use \"STANDARD_NC6\"\n",
        "                                                           #vm_priority = 'lowpriority', # optional\n",
        "                                                           min_nodes=1,\n",
        "                                                           max_nodes=4)\n",
        "    compute_target = ComputeTarget.create(ws, amlcompute_cluster_name, compute_config)\n",
        "\n",
        "    compute_target.wait_for_completion(show_output=True, min_node_count = 1, timeout_in_minutes = 10)"
      ],
      "outputs": [
        {
          "output_type": "stream",
          "name": "stdout",
          "text": [
            "Creating...\n",
            "SucceededProvisioning operation finished, operation \"Succeeded\"\n",
            "Succeeded........................\n",
            "AmlCompute wait for completion finished\n",
            "\n",
            "Minimum number of nodes requested have been provisioned\n"
          ]
        }
      ],
      "execution_count": 4,
      "metadata": {
        "gather": {
          "logged": 1617002534493
        }
      }
    },
    {
      "cell_type": "markdown",
      "source": [
        "## Dataset\n",
        "\n",
        "### Overview\n",
        "Cardiovascular diseases (CVDs) are the number 1 cause of death globally, taking an estimated 17.9 million lives each year, which accounts for 31% of all deaths worlwide.Heart failure is a common event caused by CVDs and this dataset contains 12 features that can be used to predict mortality by heart failure. Most cardiovascular diseases can be prevented by addressing behavioural risk factors such as tobacco use, unhealthy diet and obesity, physical inactivity and harmful use of alcohol using population-wide strategies.\n",
        "\n",
        "People with cardiovascular disease or who are at high cardiovascular risk (due to the presence of one or more risk factors such as hypertension, diabetes, hyperlipidaemia or already established disease) need early detection and management wherein a machine learning model can be of great help.\n",
        "\n",
        "This Heart Failure PRediction dataset is downloaded from Kaggle. Death due to Heart Failure is predicted  using information usch as anaemia, diabetes, high blood pressure, platelets, serum_creatinine, serum_sodium, creatinine_phosporous and ejection_fraction(%bllod leaving the heart at each contraction)."
      ],
      "metadata": {}
    },
    {
      "cell_type": "code",
      "source": [
        "found = False\n",
        "key = \"HeartFailure Data\"\n",
        "description_text = \"HeartFailure Data from Kaggle\"\n",
        "\n",
        "if key in ws.datasets.keys(): \n",
        "        found = True\n",
        "        dataset = ws.datasets[key] \n",
        "\n",
        "if not found: \n",
        "    # get the datastore to upload prepared data\n",
        "    datastore = ws.get_default_datastore()\n",
        "\n",
        "    # upload the local file from src_dir to the target_path in datastore\n",
        "    datastore.upload(src_dir='data', target_path='data')\n",
        "\n",
        "    # create a dataset referencing the cloud location\n",
        "    dataset = Dataset.Tabular.from_delimited_files(path = [(datastore, ('data/heart_failure_clinical_records_dataset.csv'))])\n",
        "    dataset = dataset.register(workspace=ws, name=\"HeartFailure Data\", description = \"HeartFailure Data from Kaggle\" )\n",
        "\n",
        "df = dataset.to_pandas_dataframe()\n",
        "df.describe()"
      ],
      "outputs": [
        {
          "output_type": "stream",
          "name": "stdout",
          "text": [
            "Uploading an estimated of 1 files\n",
            "Uploading data/heart_failure_clinical_records_dataset.csv\n",
            "Uploaded data/heart_failure_clinical_records_dataset.csv, 1 files out of an estimated total of 1\n",
            "Uploaded 1 files\n"
          ]
        },
        {
          "output_type": "execute_result",
          "execution_count": 5,
          "data": {
            "text/plain": "              age     anaemia  creatinine_phosphokinase    diabetes  \\\ncount  299.000000  299.000000                299.000000  299.000000   \nmean    60.833893    0.431438                581.839465    0.418060   \nstd     11.894809    0.496107                970.287881    0.494067   \nmin     40.000000    0.000000                 23.000000    0.000000   \n25%     51.000000    0.000000                116.500000    0.000000   \n50%     60.000000    0.000000                250.000000    0.000000   \n75%     70.000000    1.000000                582.000000    1.000000   \nmax     95.000000    1.000000               7861.000000    1.000000   \n\n       ejection_fraction  high_blood_pressure      platelets  \\\ncount         299.000000           299.000000     299.000000   \nmean           38.083612             0.351171  263358.029264   \nstd            11.834841             0.478136   97804.236869   \nmin            14.000000             0.000000   25100.000000   \n25%            30.000000             0.000000  212500.000000   \n50%            38.000000             0.000000  262000.000000   \n75%            45.000000             1.000000  303500.000000   \nmax            80.000000             1.000000  850000.000000   \n\n       serum_creatinine  serum_sodium         sex    smoking        time  \\\ncount         299.00000    299.000000  299.000000  299.00000  299.000000   \nmean            1.39388    136.625418    0.648829    0.32107  130.260870   \nstd             1.03451      4.412477    0.478136    0.46767   77.614208   \nmin             0.50000    113.000000    0.000000    0.00000    4.000000   \n25%             0.90000    134.000000    0.000000    0.00000   73.000000   \n50%             1.10000    137.000000    1.000000    0.00000  115.000000   \n75%             1.40000    140.000000    1.000000    1.00000  203.000000   \nmax             9.40000    148.000000    1.000000    1.00000  285.000000   \n\n       DEATH_EVENT  \ncount    299.00000  \nmean       0.32107  \nstd        0.46767  \nmin        0.00000  \n25%        0.00000  \n50%        0.00000  \n75%        1.00000  \nmax        1.00000  ",
            "text/html": "<div>\n<style scoped>\n    .dataframe tbody tr th:only-of-type {\n        vertical-align: middle;\n    }\n\n    .dataframe tbody tr th {\n        vertical-align: top;\n    }\n\n    .dataframe thead th {\n        text-align: right;\n    }\n</style>\n<table border=\"1\" class=\"dataframe\">\n  <thead>\n    <tr style=\"text-align: right;\">\n      <th></th>\n      <th>age</th>\n      <th>anaemia</th>\n      <th>creatinine_phosphokinase</th>\n      <th>diabetes</th>\n      <th>ejection_fraction</th>\n      <th>high_blood_pressure</th>\n      <th>platelets</th>\n      <th>serum_creatinine</th>\n      <th>serum_sodium</th>\n      <th>sex</th>\n      <th>smoking</th>\n      <th>time</th>\n      <th>DEATH_EVENT</th>\n    </tr>\n  </thead>\n  <tbody>\n    <tr>\n      <th>count</th>\n      <td>299.000000</td>\n      <td>299.000000</td>\n      <td>299.000000</td>\n      <td>299.000000</td>\n      <td>299.000000</td>\n      <td>299.000000</td>\n      <td>299.000000</td>\n      <td>299.00000</td>\n      <td>299.000000</td>\n      <td>299.000000</td>\n      <td>299.00000</td>\n      <td>299.000000</td>\n      <td>299.00000</td>\n    </tr>\n    <tr>\n      <th>mean</th>\n      <td>60.833893</td>\n      <td>0.431438</td>\n      <td>581.839465</td>\n      <td>0.418060</td>\n      <td>38.083612</td>\n      <td>0.351171</td>\n      <td>263358.029264</td>\n      <td>1.39388</td>\n      <td>136.625418</td>\n      <td>0.648829</td>\n      <td>0.32107</td>\n      <td>130.260870</td>\n      <td>0.32107</td>\n    </tr>\n    <tr>\n      <th>std</th>\n      <td>11.894809</td>\n      <td>0.496107</td>\n      <td>970.287881</td>\n      <td>0.494067</td>\n      <td>11.834841</td>\n      <td>0.478136</td>\n      <td>97804.236869</td>\n      <td>1.03451</td>\n      <td>4.412477</td>\n      <td>0.478136</td>\n      <td>0.46767</td>\n      <td>77.614208</td>\n      <td>0.46767</td>\n    </tr>\n    <tr>\n      <th>min</th>\n      <td>40.000000</td>\n      <td>0.000000</td>\n      <td>23.000000</td>\n      <td>0.000000</td>\n      <td>14.000000</td>\n      <td>0.000000</td>\n      <td>25100.000000</td>\n      <td>0.50000</td>\n      <td>113.000000</td>\n      <td>0.000000</td>\n      <td>0.00000</td>\n      <td>4.000000</td>\n      <td>0.00000</td>\n    </tr>\n    <tr>\n      <th>25%</th>\n      <td>51.000000</td>\n      <td>0.000000</td>\n      <td>116.500000</td>\n      <td>0.000000</td>\n      <td>30.000000</td>\n      <td>0.000000</td>\n      <td>212500.000000</td>\n      <td>0.90000</td>\n      <td>134.000000</td>\n      <td>0.000000</td>\n      <td>0.00000</td>\n      <td>73.000000</td>\n      <td>0.00000</td>\n    </tr>\n    <tr>\n      <th>50%</th>\n      <td>60.000000</td>\n      <td>0.000000</td>\n      <td>250.000000</td>\n      <td>0.000000</td>\n      <td>38.000000</td>\n      <td>0.000000</td>\n      <td>262000.000000</td>\n      <td>1.10000</td>\n      <td>137.000000</td>\n      <td>1.000000</td>\n      <td>0.00000</td>\n      <td>115.000000</td>\n      <td>0.00000</td>\n    </tr>\n    <tr>\n      <th>75%</th>\n      <td>70.000000</td>\n      <td>1.000000</td>\n      <td>582.000000</td>\n      <td>1.000000</td>\n      <td>45.000000</td>\n      <td>1.000000</td>\n      <td>303500.000000</td>\n      <td>1.40000</td>\n      <td>140.000000</td>\n      <td>1.000000</td>\n      <td>1.00000</td>\n      <td>203.000000</td>\n      <td>1.00000</td>\n    </tr>\n    <tr>\n      <th>max</th>\n      <td>95.000000</td>\n      <td>1.000000</td>\n      <td>7861.000000</td>\n      <td>1.000000</td>\n      <td>80.000000</td>\n      <td>1.000000</td>\n      <td>850000.000000</td>\n      <td>9.40000</td>\n      <td>148.000000</td>\n      <td>1.000000</td>\n      <td>1.00000</td>\n      <td>285.000000</td>\n      <td>1.00000</td>\n    </tr>\n  </tbody>\n</table>\n</div>"
          },
          "metadata": {}
        }
      ],
      "execution_count": 5,
      "metadata": {
        "gather": {
          "logged": 1617002542617
        }
      }
    },
    {
      "cell_type": "markdown",
      "source": [
        "## AutoML Configuration\n",
        "\n",
        "TODO: Explain why you chose the automl settings and cofiguration you used below."
      ],
      "metadata": {}
    },
    {
      "cell_type": "code",
      "source": [
        "# Put your automl settings here\n",
        "automl_settings = {\n",
        "    \"experiment_timeout_minutes\": 30,\n",
        "    \"max_concurrent_iterations\": 10,\n",
        "    \"primary_metric\" : 'AUC_weighted'\n",
        "}\n",
        "\n",
        "# Put your automl config here\n",
        "automl_config = AutoMLConfig(compute_target=compute_target,\n",
        "                             task = \"classification\",\n",
        "                             training_data=dataset,\n",
        "                             label_column_name=\"DEATH_EVENT\", \n",
        "                             enable_early_stopping= True,\n",
        "                             featurization= 'auto',\n",
        "                             debug_log = \"automl_errors.log\",\n",
        "                             **automl_settings\n",
        "                            )"
      ],
      "outputs": [],
      "execution_count": 6,
      "metadata": {
        "gather": {
          "logged": 1617002542907
        },
        "jupyter": {
          "outputs_hidden": false,
          "source_hidden": false
        },
        "nteract": {
          "transient": {
            "deleting": false
          }
        }
      }
    },
    {
      "cell_type": "code",
      "source": [
        "# choose a name for experiment\n",
        "experiment_name = 'heart-failure-prediction-automl'\n",
        "\n",
        "experiment=Experiment(ws, experiment_name)\n",
        "\n",
        "remote_run = experiment.submit(automl_config)"
      ],
      "outputs": [
        {
          "output_type": "stream",
          "name": "stdout",
          "text": [
            "Running on remote.\n"
          ]
        }
      ],
      "execution_count": 7,
      "metadata": {
        "gather": {
          "logged": 1617002548773
        },
        "jupyter": {
          "outputs_hidden": false,
          "source_hidden": false
        },
        "nteract": {
          "transient": {
            "deleting": false
          }
        }
      }
    },
    {
      "cell_type": "markdown",
      "source": [
        "## Run Details\n",
        "\n",
        "OPTIONAL: Write about the different models trained and their performance. Why do you think some models did better than others?\n",
        "\n",
        "In the cell below, use the `RunDetails` widget to show the different experiments."
      ],
      "metadata": {}
    },
    {
      "cell_type": "code",
      "source": [
        "from azureml.widgets import RunDetails\n",
        "RunDetails(remote_run).show()"
      ],
      "outputs": [
        {
          "output_type": "display_data",
          "data": {
            "text/plain": "_AutoMLWidget(widget_settings={'childWidgetDisplay': 'popup', 'send_telemetry': False, 'log_level': 'INFO', 's…",
            "application/vnd.jupyter.widget-view+json": {
              "version_major": 2,
              "version_minor": 0,
              "model_id": "4a8238565911405598e2461b3e92b5bc"
            }
          },
          "metadata": {}
        },
        {
          "output_type": "display_data",
          "data": {
            "application/aml.mini.widget.v1": "{\"status\": \"Completed\", \"workbench_run_details_uri\": \"https://ml.azure.com/experiments/heart-failure-prediction-automl/runs/AutoML_fea5604c-b61b-4056-a4e4-96cf708b46b0?wsid=/subscriptions/d4ad7261-832d-46b2-b093-22156001df5b/resourcegroups/aml-quickstarts-141541/workspaces/quick-starts-ws-141541\", \"run_id\": \"AutoML_fea5604c-b61b-4056-a4e4-96cf708b46b0\", \"run_properties\": {\"run_id\": \"AutoML_fea5604c-b61b-4056-a4e4-96cf708b46b0\", \"created_utc\": \"2021-03-29T07:22:26.79663Z\", \"properties\": {\"num_iterations\": \"1000\", \"training_type\": \"TrainFull\", \"acquisition_function\": \"EI\", \"primary_metric\": \"AUC_weighted\", \"train_split\": \"0\", \"acquisition_parameter\": \"0\", \"num_cross_validation\": null, \"target\": \"cluster-capstone\", \"AMLSettingsJsonString\": \"{\\\"path\\\":null,\\\"name\\\":\\\"heart-failure-prediction-automl\\\",\\\"subscription_id\\\":\\\"d4ad7261-832d-46b2-b093-22156001df5b\\\",\\\"resource_group\\\":\\\"aml-quickstarts-141541\\\",\\\"workspace_name\\\":\\\"quick-starts-ws-141541\\\",\\\"region\\\":\\\"southcentralus\\\",\\\"compute_target\\\":\\\"cluster-capstone\\\",\\\"spark_service\\\":null,\\\"azure_service\\\":\\\"remote\\\",\\\"many_models\\\":false,\\\"pipeline_fetch_max_batch_size\\\":1,\\\"enable_batch_run\\\":false,\\\"iterations\\\":1000,\\\"primary_metric\\\":\\\"AUC_weighted\\\",\\\"task_type\\\":\\\"classification\\\",\\\"data_script\\\":null,\\\"validation_size\\\":0.0,\\\"n_cross_validations\\\":null,\\\"y_min\\\":null,\\\"y_max\\\":null,\\\"num_classes\\\":null,\\\"featurization\\\":\\\"auto\\\",\\\"_ignore_package_version_incompatibilities\\\":false,\\\"is_timeseries\\\":false,\\\"max_cores_per_iteration\\\":1,\\\"max_concurrent_iterations\\\":10,\\\"iteration_timeout_minutes\\\":null,\\\"mem_in_mb\\\":null,\\\"enforce_time_on_windows\\\":false,\\\"experiment_timeout_minutes\\\":30,\\\"experiment_exit_score\\\":null,\\\"whitelist_models\\\":null,\\\"blacklist_algos\\\":[\\\"TensorFlowLinearClassifier\\\",\\\"TensorFlowDNN\\\"],\\\"supported_models\\\":[\\\"SGD\\\",\\\"BernoulliNaiveBayes\\\",\\\"SVM\\\",\\\"KNN\\\",\\\"RandomForest\\\",\\\"XGBoostClassifier\\\",\\\"GradientBoosting\\\",\\\"LightGBM\\\",\\\"DecisionTree\\\",\\\"TensorFlowDNN\\\",\\\"LogisticRegression\\\",\\\"LinearSVM\\\",\\\"AveragedPerceptronClassifier\\\",\\\"ExtremeRandomTrees\\\",\\\"MultinomialNaiveBayes\\\",\\\"TensorFlowLinearClassifier\\\"],\\\"private_models\\\":[],\\\"auto_blacklist\\\":true,\\\"blacklist_samples_reached\\\":false,\\\"exclude_nan_labels\\\":true,\\\"verbosity\\\":20,\\\"_debug_log\\\":\\\"azureml_automl.log\\\",\\\"show_warnings\\\":false,\\\"model_explainability\\\":true,\\\"service_url\\\":null,\\\"sdk_url\\\":null,\\\"sdk_packages\\\":null,\\\"enable_onnx_compatible_models\\\":false,\\\"enable_split_onnx_featurizer_estimator_models\\\":false,\\\"vm_type\\\":\\\"STANDARD_D2_V2\\\",\\\"telemetry_verbosity\\\":20,\\\"send_telemetry\\\":true,\\\"enable_dnn\\\":false,\\\"scenario\\\":\\\"SDK-1.13.0\\\",\\\"environment_label\\\":null,\\\"save_mlflow\\\":false,\\\"force_text_dnn\\\":false,\\\"enable_feature_sweeping\\\":true,\\\"enable_early_stopping\\\":true,\\\"early_stopping_n_iters\\\":10,\\\"metrics\\\":null,\\\"enable_metric_confidence\\\":false,\\\"enable_ensembling\\\":true,\\\"enable_stack_ensembling\\\":true,\\\"ensemble_iterations\\\":15,\\\"enable_tf\\\":false,\\\"enable_subsampling\\\":null,\\\"subsample_seed\\\":null,\\\"enable_nimbusml\\\":false,\\\"enable_streaming\\\":false,\\\"force_streaming\\\":false,\\\"track_child_runs\\\":true,\\\"allowed_private_models\\\":[],\\\"label_column_name\\\":\\\"DEATH_EVENT\\\",\\\"weight_column_name\\\":null,\\\"cv_split_column_names\\\":null,\\\"enable_local_managed\\\":false,\\\"_local_managed_run_id\\\":null,\\\"cost_mode\\\":1,\\\"lag_length\\\":0,\\\"metric_operation\\\":\\\"maximize\\\",\\\"preprocess\\\":true}\", \"DataPrepJsonString\": \"{\\\\\\\"training_data\\\\\\\": \\\\\\\"{\\\\\\\\\\\\\\\"blocks\\\\\\\\\\\\\\\": [{\\\\\\\\\\\\\\\"id\\\\\\\\\\\\\\\": \\\\\\\\\\\\\\\"8ba7e4d6-82a9-4020-b0ac-04c6e3c6ee2f\\\\\\\\\\\\\\\", \\\\\\\\\\\\\\\"type\\\\\\\\\\\\\\\": \\\\\\\\\\\\\\\"Microsoft.DPrep.GetDatastoreFilesBlock\\\\\\\\\\\\\\\", \\\\\\\\\\\\\\\"arguments\\\\\\\\\\\\\\\": {\\\\\\\\\\\\\\\"datastores\\\\\\\\\\\\\\\": [{\\\\\\\\\\\\\\\"datastoreName\\\\\\\\\\\\\\\": \\\\\\\\\\\\\\\"workspaceblobstore\\\\\\\\\\\\\\\", \\\\\\\\\\\\\\\"path\\\\\\\\\\\\\\\": \\\\\\\\\\\\\\\"data/heart_failure_clinical_records_dataset.csv\\\\\\\\\\\\\\\", \\\\\\\\\\\\\\\"resourceGroup\\\\\\\\\\\\\\\": \\\\\\\\\\\\\\\"aml-quickstarts-141541\\\\\\\\\\\\\\\", \\\\\\\\\\\\\\\"subscription\\\\\\\\\\\\\\\": \\\\\\\\\\\\\\\"d4ad7261-832d-46b2-b093-22156001df5b\\\\\\\\\\\\\\\", \\\\\\\\\\\\\\\"workspaceName\\\\\\\\\\\\\\\": \\\\\\\\\\\\\\\"quick-starts-ws-141541\\\\\\\\\\\\\\\"}]}, \\\\\\\\\\\\\\\"localData\\\\\\\\\\\\\\\": {}, \\\\\\\\\\\\\\\"isEnabled\\\\\\\\\\\\\\\": true, \\\\\\\\\\\\\\\"name\\\\\\\\\\\\\\\": null, \\\\\\\\\\\\\\\"annotation\\\\\\\\\\\\\\\": null}, {\\\\\\\\\\\\\\\"id\\\\\\\\\\\\\\\": \\\\\\\\\\\\\\\"33a4742e-7d98-4e09-84d2-76c884bebfaa\\\\\\\\\\\\\\\", \\\\\\\\\\\\\\\"type\\\\\\\\\\\\\\\": \\\\\\\\\\\\\\\"Microsoft.DPrep.ParseDelimitedBlock\\\\\\\\\\\\\\\", \\\\\\\\\\\\\\\"arguments\\\\\\\\\\\\\\\": {\\\\\\\\\\\\\\\"columnHeadersMode\\\\\\\\\\\\\\\": 3, \\\\\\\\\\\\\\\"fileEncoding\\\\\\\\\\\\\\\": 0, \\\\\\\\\\\\\\\"handleQuotedLineBreaks\\\\\\\\\\\\\\\": false, \\\\\\\\\\\\\\\"preview\\\\\\\\\\\\\\\": false, \\\\\\\\\\\\\\\"separator\\\\\\\\\\\\\\\": \\\\\\\\\\\\\\\",\\\\\\\\\\\\\\\", \\\\\\\\\\\\\\\"skipRows\\\\\\\\\\\\\\\": 0, \\\\\\\\\\\\\\\"skipRowsMode\\\\\\\\\\\\\\\": 0}, \\\\\\\\\\\\\\\"localData\\\\\\\\\\\\\\\": {}, \\\\\\\\\\\\\\\"isEnabled\\\\\\\\\\\\\\\": true, \\\\\\\\\\\\\\\"name\\\\\\\\\\\\\\\": null, \\\\\\\\\\\\\\\"annotation\\\\\\\\\\\\\\\": null}, {\\\\\\\\\\\\\\\"id\\\\\\\\\\\\\\\": \\\\\\\\\\\\\\\"81772f99-b4a4-4b21-94e1-6fff5c10f9ca\\\\\\\\\\\\\\\", \\\\\\\\\\\\\\\"type\\\\\\\\\\\\\\\": \\\\\\\\\\\\\\\"Microsoft.DPrep.DropColumnsBlock\\\\\\\\\\\\\\\", \\\\\\\\\\\\\\\"arguments\\\\\\\\\\\\\\\": {\\\\\\\\\\\\\\\"columns\\\\\\\\\\\\\\\": {\\\\\\\\\\\\\\\"type\\\\\\\\\\\\\\\": 0, \\\\\\\\\\\\\\\"details\\\\\\\\\\\\\\\": {\\\\\\\\\\\\\\\"selectedColumns\\\\\\\\\\\\\\\": [\\\\\\\\\\\\\\\"Path\\\\\\\\\\\\\\\"]}}}, \\\\\\\\\\\\\\\"localData\\\\\\\\\\\\\\\": {}, \\\\\\\\\\\\\\\"isEnabled\\\\\\\\\\\\\\\": true, \\\\\\\\\\\\\\\"name\\\\\\\\\\\\\\\": null, \\\\\\\\\\\\\\\"annotation\\\\\\\\\\\\\\\": null}, {\\\\\\\\\\\\\\\"id\\\\\\\\\\\\\\\": \\\\\\\\\\\\\\\"307ca0ee-1a9c-460f-bc43-5bc4c77a85fa\\\\\\\\\\\\\\\", \\\\\\\\\\\\\\\"type\\\\\\\\\\\\\\\": \\\\\\\\\\\\\\\"Microsoft.DPrep.SetColumnTypesBlock\\\\\\\\\\\\\\\", \\\\\\\\\\\\\\\"arguments\\\\\\\\\\\\\\\": {\\\\\\\\\\\\\\\"columnConversion\\\\\\\\\\\\\\\": [{\\\\\\\\\\\\\\\"column\\\\\\\\\\\\\\\": {\\\\\\\\\\\\\\\"type\\\\\\\\\\\\\\\": 2, \\\\\\\\\\\\\\\"details\\\\\\\\\\\\\\\": {\\\\\\\\\\\\\\\"selectedColumn\\\\\\\\\\\\\\\": \\\\\\\\\\\\\\\"age\\\\\\\\\\\\\\\"}}, \\\\\\\\\\\\\\\"typeProperty\\\\\\\\\\\\\\\": 3}, {\\\\\\\\\\\\\\\"column\\\\\\\\\\\\\\\": {\\\\\\\\\\\\\\\"type\\\\\\\\\\\\\\\": 2, \\\\\\\\\\\\\\\"details\\\\\\\\\\\\\\\": {\\\\\\\\\\\\\\\"selectedColumn\\\\\\\\\\\\\\\": \\\\\\\\\\\\\\\"anaemia\\\\\\\\\\\\\\\"}}, \\\\\\\\\\\\\\\"typeProperty\\\\\\\\\\\\\\\": 2}, {\\\\\\\\\\\\\\\"column\\\\\\\\\\\\\\\": {\\\\\\\\\\\\\\\"type\\\\\\\\\\\\\\\": 2, \\\\\\\\\\\\\\\"details\\\\\\\\\\\\\\\": {\\\\\\\\\\\\\\\"selectedColumn\\\\\\\\\\\\\\\": \\\\\\\\\\\\\\\"creatinine_phosphokinase\\\\\\\\\\\\\\\"}}, \\\\\\\\\\\\\\\"typeProperty\\\\\\\\\\\\\\\": 2}, {\\\\\\\\\\\\\\\"column\\\\\\\\\\\\\\\": {\\\\\\\\\\\\\\\"type\\\\\\\\\\\\\\\": 2, \\\\\\\\\\\\\\\"details\\\\\\\\\\\\\\\": {\\\\\\\\\\\\\\\"selectedColumn\\\\\\\\\\\\\\\": \\\\\\\\\\\\\\\"diabetes\\\\\\\\\\\\\\\"}}, \\\\\\\\\\\\\\\"typeProperty\\\\\\\\\\\\\\\": 2}, {\\\\\\\\\\\\\\\"column\\\\\\\\\\\\\\\": {\\\\\\\\\\\\\\\"type\\\\\\\\\\\\\\\": 2, \\\\\\\\\\\\\\\"details\\\\\\\\\\\\\\\": {\\\\\\\\\\\\\\\"selectedColumn\\\\\\\\\\\\\\\": \\\\\\\\\\\\\\\"ejection_fraction\\\\\\\\\\\\\\\"}}, \\\\\\\\\\\\\\\"typeProperty\\\\\\\\\\\\\\\": 2}, {\\\\\\\\\\\\\\\"column\\\\\\\\\\\\\\\": {\\\\\\\\\\\\\\\"type\\\\\\\\\\\\\\\": 2, \\\\\\\\\\\\\\\"details\\\\\\\\\\\\\\\": {\\\\\\\\\\\\\\\"selectedColumn\\\\\\\\\\\\\\\": \\\\\\\\\\\\\\\"high_blood_pressure\\\\\\\\\\\\\\\"}}, \\\\\\\\\\\\\\\"typeProperty\\\\\\\\\\\\\\\": 2}, {\\\\\\\\\\\\\\\"column\\\\\\\\\\\\\\\": {\\\\\\\\\\\\\\\"type\\\\\\\\\\\\\\\": 2, \\\\\\\\\\\\\\\"details\\\\\\\\\\\\\\\": {\\\\\\\\\\\\\\\"selectedColumn\\\\\\\\\\\\\\\": \\\\\\\\\\\\\\\"platelets\\\\\\\\\\\\\\\"}}, \\\\\\\\\\\\\\\"typeProperty\\\\\\\\\\\\\\\": 3}, {\\\\\\\\\\\\\\\"column\\\\\\\\\\\\\\\": {\\\\\\\\\\\\\\\"type\\\\\\\\\\\\\\\": 2, \\\\\\\\\\\\\\\"details\\\\\\\\\\\\\\\": {\\\\\\\\\\\\\\\"selectedColumn\\\\\\\\\\\\\\\": \\\\\\\\\\\\\\\"serum_creatinine\\\\\\\\\\\\\\\"}}, \\\\\\\\\\\\\\\"typeProperty\\\\\\\\\\\\\\\": 3}, {\\\\\\\\\\\\\\\"column\\\\\\\\\\\\\\\": {\\\\\\\\\\\\\\\"type\\\\\\\\\\\\\\\": 2, \\\\\\\\\\\\\\\"details\\\\\\\\\\\\\\\": {\\\\\\\\\\\\\\\"selectedColumn\\\\\\\\\\\\\\\": \\\\\\\\\\\\\\\"serum_sodium\\\\\\\\\\\\\\\"}}, \\\\\\\\\\\\\\\"typeProperty\\\\\\\\\\\\\\\": 2}, {\\\\\\\\\\\\\\\"column\\\\\\\\\\\\\\\": {\\\\\\\\\\\\\\\"type\\\\\\\\\\\\\\\": 2, \\\\\\\\\\\\\\\"details\\\\\\\\\\\\\\\": {\\\\\\\\\\\\\\\"selectedColumn\\\\\\\\\\\\\\\": \\\\\\\\\\\\\\\"sex\\\\\\\\\\\\\\\"}}, \\\\\\\\\\\\\\\"typeProperty\\\\\\\\\\\\\\\": 2}, {\\\\\\\\\\\\\\\"column\\\\\\\\\\\\\\\": {\\\\\\\\\\\\\\\"type\\\\\\\\\\\\\\\": 2, \\\\\\\\\\\\\\\"details\\\\\\\\\\\\\\\": {\\\\\\\\\\\\\\\"selectedColumn\\\\\\\\\\\\\\\": \\\\\\\\\\\\\\\"smoking\\\\\\\\\\\\\\\"}}, \\\\\\\\\\\\\\\"typeProperty\\\\\\\\\\\\\\\": 2}, {\\\\\\\\\\\\\\\"column\\\\\\\\\\\\\\\": {\\\\\\\\\\\\\\\"type\\\\\\\\\\\\\\\": 2, \\\\\\\\\\\\\\\"details\\\\\\\\\\\\\\\": {\\\\\\\\\\\\\\\"selectedColumn\\\\\\\\\\\\\\\": \\\\\\\\\\\\\\\"time\\\\\\\\\\\\\\\"}}, \\\\\\\\\\\\\\\"typeProperty\\\\\\\\\\\\\\\": 2}, {\\\\\\\\\\\\\\\"column\\\\\\\\\\\\\\\": {\\\\\\\\\\\\\\\"type\\\\\\\\\\\\\\\": 2, \\\\\\\\\\\\\\\"details\\\\\\\\\\\\\\\": {\\\\\\\\\\\\\\\"selectedColumn\\\\\\\\\\\\\\\": \\\\\\\\\\\\\\\"DEATH_EVENT\\\\\\\\\\\\\\\"}}, \\\\\\\\\\\\\\\"typeProperty\\\\\\\\\\\\\\\": 2}]}, \\\\\\\\\\\\\\\"localData\\\\\\\\\\\\\\\": {}, \\\\\\\\\\\\\\\"isEnabled\\\\\\\\\\\\\\\": true, \\\\\\\\\\\\\\\"name\\\\\\\\\\\\\\\": null, \\\\\\\\\\\\\\\"annotation\\\\\\\\\\\\\\\": null}], \\\\\\\\\\\\\\\"inspectors\\\\\\\\\\\\\\\": [], \\\\\\\\\\\\\\\"meta\\\\\\\\\\\\\\\": {\\\\\\\\\\\\\\\"savedDatasetId\\\\\\\\\\\\\\\": \\\\\\\\\\\\\\\"ed8218bd-2f9b-4e15-80ad-c35fc2eab4ad\\\\\\\\\\\\\\\", \\\\\\\\\\\\\\\"datasetType\\\\\\\\\\\\\\\": \\\\\\\\\\\\\\\"tabular\\\\\\\\\\\\\\\", \\\\\\\\\\\\\\\"subscriptionId\\\\\\\\\\\\\\\": \\\\\\\\\\\\\\\"d4ad7261-832d-46b2-b093-22156001df5b\\\\\\\\\\\\\\\", \\\\\\\\\\\\\\\"workspaceId\\\\\\\\\\\\\\\": \\\\\\\\\\\\\\\"2722ccde-5c46-462d-b7c4-fa7e9b63410c\\\\\\\\\\\\\\\", \\\\\\\\\\\\\\\"workspaceLocation\\\\\\\\\\\\\\\": \\\\\\\\\\\\\\\"southcentralus\\\\\\\\\\\\\\\", \\\\\\\\\\\\\\\"partition_keys\\\\\\\\\\\\\\\": \\\\\\\\\\\\\\\"true\\\\\\\\\\\\\\\"}}\\\\\\\", \\\\\\\"activities\\\\\\\": 0}\", \"EnableSubsampling\": null, \"runTemplate\": \"AutoML\", \"azureml.runsource\": \"automl\", \"display_task_type\": \"classification\", \"dependencies_versions\": \"{\\\"azureml-widgets\\\": \\\"1.24.0\\\", \\\"azureml-train\\\": \\\"1.24.0\\\", \\\"azureml-train-restclients-hyperdrive\\\": \\\"1.24.0\\\", \\\"azureml-train-core\\\": \\\"1.24.0\\\", \\\"azureml-train-automl\\\": \\\"1.24.0\\\", \\\"azureml-train-automl-runtime\\\": \\\"1.24.0\\\", \\\"azureml-train-automl-client\\\": \\\"1.24.0\\\", \\\"azureml-tensorboard\\\": \\\"1.24.0\\\", \\\"azureml-telemetry\\\": \\\"1.24.0\\\", \\\"azureml-sdk\\\": \\\"1.24.0\\\", \\\"azureml-samples\\\": \\\"0+unknown\\\", \\\"azureml-pipeline\\\": \\\"1.24.0\\\", \\\"azureml-pipeline-steps\\\": \\\"1.24.0\\\", \\\"azureml-pipeline-core\\\": \\\"1.24.0\\\", \\\"azureml-opendatasets\\\": \\\"1.24.0\\\", \\\"azureml-model-management-sdk\\\": \\\"1.0.1b6.post1\\\", \\\"azureml-mlflow\\\": \\\"1.24.0\\\", \\\"azureml-interpret\\\": \\\"1.24.0\\\", \\\"azureml-explain-model\\\": \\\"1.24.0\\\", \\\"azureml-defaults\\\": \\\"1.24.0\\\", \\\"azureml-dataset-runtime\\\": \\\"1.24.0\\\", \\\"azureml-dataprep\\\": \\\"2.11.1\\\", \\\"azureml-dataprep-rslex\\\": \\\"1.9.0\\\", \\\"azureml-dataprep-native\\\": \\\"30.0.0\\\", \\\"azureml-datadrift\\\": \\\"1.24.0\\\", \\\"azureml-core\\\": \\\"1.24.0\\\", \\\"azureml-contrib-services\\\": \\\"1.24.0\\\", \\\"azureml-contrib-server\\\": \\\"1.24.0\\\", \\\"azureml-contrib-reinforcementlearning\\\": \\\"1.24.0\\\", \\\"azureml-contrib-pipeline-steps\\\": \\\"1.24.0\\\", \\\"azureml-contrib-notebook\\\": \\\"1.24.0\\\", \\\"azureml-contrib-gbdt\\\": \\\"1.24.0\\\", \\\"azureml-contrib-fairness\\\": \\\"1.24.0\\\", \\\"azureml-contrib-dataset\\\": \\\"1.24.0\\\", \\\"azureml-cli-common\\\": \\\"1.24.0\\\", \\\"azureml-automl-runtime\\\": \\\"1.24.0\\\", \\\"azureml-automl-dnn-nlp\\\": \\\"1.24.0\\\", \\\"azureml-automl-core\\\": \\\"1.24.0\\\", \\\"azureml-accel-models\\\": \\\"1.24.0\\\"}\", \"_aml_system_scenario_identification\": \"Remote.Parent\", \"ClientType\": \"SDK\", \"environment_cpu_name\": \"AzureML-AutoML\", \"environment_cpu_label\": \"prod\", \"environment_gpu_name\": \"AzureML-AutoML-GPU\", \"environment_gpu_label\": \"prod\", \"root_attribution\": \"automl\", \"attribution\": \"AutoML\", \"Orchestrator\": \"AutoML\", \"CancelUri\": \"https://southcentralus.experiments.azureml.net/jasmine/v1.0/subscriptions/d4ad7261-832d-46b2-b093-22156001df5b/resourceGroups/aml-quickstarts-141541/providers/Microsoft.MachineLearningServices/workspaces/quick-starts-ws-141541/experimentids/98a7af5e-7507-4693-abf8-1f102f75e88a/cancel/AutoML_fea5604c-b61b-4056-a4e4-96cf708b46b0\", \"ClientSdkVersion\": \"1.24.0\", \"snapshotId\": \"00000000-0000-0000-0000-000000000000\", \"SetupRunId\": \"AutoML_fea5604c-b61b-4056-a4e4-96cf708b46b0_setup\", \"SetupRunContainerId\": \"dcid.AutoML_fea5604c-b61b-4056-a4e4-96cf708b46b0_setup\", \"FeaturizationRunJsonPath\": \"featurizer_container.json\", \"FeaturizationRunId\": \"AutoML_fea5604c-b61b-4056-a4e4-96cf708b46b0_featurize\", \"ProblemInfoJsonString\": \"{\\\"dataset_num_categorical\\\": 0, \\\"is_sparse\\\": false, \\\"subsampling\\\": false, \\\"dataset_classes\\\": 2, \\\"dataset_features\\\": 12, \\\"dataset_samples\\\": 299, \\\"single_frequency_class_detected\\\": false}\", \"ModelExplainRunId\": \"AutoML_fea5604c-b61b-4056-a4e4-96cf708b46b0_ModelExplain\"}, \"tags\": {\"model_explain_run\": \"best_run\", \"_aml_system_azureml.automlComponent\": \"AutoML\", \"pipeline_id\": \"\", \"score\": \"\", \"predicted_cost\": \"\", \"fit_time\": \"\", \"training_percent\": \"\", \"iteration\": \"\", \"run_preprocessor\": \"\", \"run_algorithm\": \"\", \"dynamic_whitelisting_iterations\": \"<25>;<30>;<35>;<40>;<45>;<50>;<55>;<60>;\", \"automl_best_child_run_id\": \"AutoML_fea5604c-b61b-4056-a4e4-96cf708b46b0_63\", \"model_explain_best_run_child_id\": \"AutoML_fea5604c-b61b-4056-a4e4-96cf708b46b0_63\"}, \"end_time_utc\": \"2021-03-29T07:53:53.721993Z\", \"status\": \"Completed\", \"log_files\": {}, \"log_groups\": [], \"run_duration\": \"0:31:26\", \"run_number\": \"1\", \"run_queued_details\": {\"status\": \"Completed\", \"details\": null}}, \"child_runs\": [{\"run_id\": \"AutoML_fea5604c-b61b-4056-a4e4-96cf708b46b0_0\", \"run_number\": 5, \"metric\": null, \"status\": \"Completed\", \"run_type\": \"azureml.scriptrun\", \"training_percent\": \"100\", \"start_time\": \"2021-03-29T07:31:38.459975Z\", \"end_time\": \"2021-03-29T07:36:58.514239Z\", \"created_time\": \"2021-03-29T07:29:37.51183Z\", \"created_time_dt\": \"2021-03-29T07:29:37.51183Z\", \"duration\": \"0:07:21\", \"iteration\": \"0\", \"goal\": \"AUC_weighted_max\", \"run_name\": \"MaxAbsScaler, LightGBM\", \"run_properties\": \"copy=True\", \"primary_metric\": 0.88409554, \"best_metric\": 0.88409554}, {\"run_id\": \"AutoML_fea5604c-b61b-4056-a4e4-96cf708b46b0_3\", \"run_number\": 6, \"metric\": null, \"status\": \"Completed\", \"run_type\": \"azureml.scriptrun\", \"training_percent\": \"100\", \"start_time\": \"2021-03-29T07:29:52.535104Z\", \"end_time\": \"2021-03-29T07:30:44.135988Z\", \"created_time\": \"2021-03-29T07:29:37.643939Z\", \"created_time_dt\": \"2021-03-29T07:29:37.643939Z\", \"duration\": \"0:01:06\", \"iteration\": \"3\", \"goal\": \"AUC_weighted_max\", \"run_name\": \"RobustScaler, ExtremeRandomTrees\", \"run_properties\": \"copy=True, quantile_range=[10, 90], with_centering=False,\\n             with_scaling=False\", \"primary_metric\": 0.87795602, \"best_metric\": 0.90582667}, {\"run_id\": \"AutoML_fea5604c-b61b-4056-a4e4-96cf708b46b0_2\", \"run_number\": 7, \"metric\": null, \"status\": \"Completed\", \"run_type\": \"azureml.scriptrun\", \"training_percent\": \"100\", \"start_time\": \"2021-03-29T07:31:57.597736Z\", \"end_time\": \"2021-03-29T07:32:47.407281Z\", \"created_time\": \"2021-03-29T07:29:37.654128Z\", \"created_time_dt\": \"2021-03-29T07:29:37.654128Z\", \"duration\": \"0:03:09\", \"iteration\": \"2\", \"goal\": \"AUC_weighted_max\", \"run_name\": \"MinMaxScaler, RandomForest\", \"run_properties\": \"copy=True, feature_range=(0, 1\", \"primary_metric\": 0.90582667, \"best_metric\": 0.90582667}, {\"run_id\": \"AutoML_fea5604c-b61b-4056-a4e4-96cf708b46b0_5\", \"run_number\": 8, \"metric\": null, \"status\": \"Completed\", \"run_type\": \"azureml.scriptrun\", \"training_percent\": \"100\", \"start_time\": \"2021-03-29T07:31:41.243267Z\", \"end_time\": \"2021-03-29T07:36:55.955509Z\", \"created_time\": \"2021-03-29T07:29:37.654808Z\", \"created_time_dt\": \"2021-03-29T07:29:37.654808Z\", \"duration\": \"0:07:18\", \"iteration\": \"5\", \"goal\": \"AUC_weighted_max\", \"run_name\": \"MinMaxScaler, RandomForest\", \"run_properties\": \"copy=True, feature_range=(0, 1\", \"primary_metric\": 0.89680496, \"best_metric\": 0.90582667}, {\"run_id\": \"AutoML_fea5604c-b61b-4056-a4e4-96cf708b46b0_8\", \"run_number\": 9, \"metric\": null, \"status\": \"Completed\", \"run_type\": \"azureml.scriptrun\", \"training_percent\": \"100\", \"start_time\": \"2021-03-29T07:34:03.852556Z\", \"end_time\": \"2021-03-29T07:34:42.284933Z\", \"created_time\": \"2021-03-29T07:29:37.697142Z\", \"created_time_dt\": \"2021-03-29T07:29:37.697142Z\", \"duration\": \"0:05:04\", \"iteration\": \"8\", \"goal\": \"AUC_weighted_max\", \"run_name\": \"MinMaxScaler, ExtremeRandomTrees\", \"run_properties\": \"copy=True, feature_range=(0, 1\", \"primary_metric\": 0.87124496, \"best_metric\": 0.90582667}, {\"run_id\": \"AutoML_fea5604c-b61b-4056-a4e4-96cf708b46b0_4\", \"run_number\": 10, \"metric\": null, \"status\": \"Completed\", \"run_type\": \"azureml.scriptrun\", \"training_percent\": \"100\", \"start_time\": \"2021-03-29T07:34:57.943063Z\", \"end_time\": \"2021-03-29T07:35:41.586153Z\", \"created_time\": \"2021-03-29T07:29:37.725125Z\", \"created_time_dt\": \"2021-03-29T07:29:37.725125Z\", \"duration\": \"0:06:03\", \"iteration\": \"4\", \"goal\": \"AUC_weighted_max\", \"run_name\": \"MinMaxScaler, RandomForest\", \"run_properties\": \"copy=True, feature_range=(0, 1\", \"primary_metric\": 0.90244448, \"best_metric\": 0.90582667}, {\"run_id\": \"AutoML_fea5604c-b61b-4056-a4e4-96cf708b46b0_9\", \"run_number\": 11, \"metric\": null, \"status\": \"Completed\", \"run_type\": \"azureml.scriptrun\", \"training_percent\": \"100\", \"start_time\": \"2021-03-29T07:31:03.070007Z\", \"end_time\": \"2021-03-29T07:31:42.898429Z\", \"created_time\": \"2021-03-29T07:29:37.725984Z\", \"created_time_dt\": \"2021-03-29T07:29:37.725984Z\", \"duration\": \"0:02:05\", \"iteration\": \"9\", \"goal\": \"AUC_weighted_max\", \"run_name\": \"SparseNormalizer, KNN\", \"run_properties\": \"<azureml.automl.runtime.shared.model_wrappers.SparseNormalizer object at 0x7efcc3adba58\", \"primary_metric\": 0.7496161, \"best_metric\": 0.90582667}, {\"run_id\": \"AutoML_fea5604c-b61b-4056-a4e4-96cf708b46b0_6\", \"run_number\": 12, \"metric\": null, \"status\": \"Completed\", \"run_type\": \"azureml.scriptrun\", \"training_percent\": \"100\", \"start_time\": \"2021-03-29T07:31:39.202407Z\", \"end_time\": \"2021-03-29T07:36:55.811035Z\", \"created_time\": \"2021-03-29T07:29:37.739354Z\", \"created_time_dt\": \"2021-03-29T07:29:37.739354Z\", \"duration\": \"0:07:18\", \"iteration\": \"6\", \"goal\": \"AUC_weighted_max\", \"run_name\": \"StandardScalerWrapper, RandomForest\", \"run_properties\": \"<azureml.automl.runtime.shared.model_wrappers.StandardScalerWrapper object at 0x7f6bc063cb00\", \"primary_metric\": 0.87311545, \"best_metric\": 0.90582667}, {\"run_id\": \"AutoML_fea5604c-b61b-4056-a4e4-96cf708b46b0_1\", \"run_number\": 13, \"metric\": null, \"status\": \"Completed\", \"run_type\": \"azureml.scriptrun\", \"training_percent\": \"100\", \"start_time\": \"2021-03-29T07:35:50.299185Z\", \"end_time\": \"2021-03-29T07:36:39.800434Z\", \"created_time\": \"2021-03-29T07:29:37.647724Z\", \"created_time_dt\": \"2021-03-29T07:29:37.647724Z\", \"duration\": \"0:07:02\", \"iteration\": \"1\", \"goal\": \"AUC_weighted_max\", \"run_name\": \"MaxAbsScaler, XGBoostClassifier\", \"run_properties\": \"copy=True\", \"primary_metric\": 0.88473694, \"best_metric\": 0.88473694}, {\"run_id\": \"AutoML_fea5604c-b61b-4056-a4e4-96cf708b46b0_7\", \"run_number\": 14, \"metric\": null, \"status\": \"Completed\", \"run_type\": \"azureml.scriptrun\", \"training_percent\": \"100\", \"start_time\": \"2021-03-29T07:33:05.822153Z\", \"end_time\": \"2021-03-29T07:33:49.693214Z\", \"created_time\": \"2021-03-29T07:29:37.641812Z\", \"created_time_dt\": \"2021-03-29T07:29:37.641812Z\", \"duration\": \"0:04:12\", \"iteration\": \"7\", \"goal\": \"AUC_weighted_max\", \"run_name\": \"MinMaxScaler, ExtremeRandomTrees\", \"run_properties\": \"copy=True, feature_range=(0, 1\", \"primary_metric\": 0.90100787, \"best_metric\": 0.90582667}, {\"run_id\": \"AutoML_fea5604c-b61b-4056-a4e4-96cf708b46b0_10\", \"run_number\": 15, \"metric\": null, \"status\": \"Completed\", \"run_type\": \"azureml.scriptrun\", \"training_percent\": \"100\", \"start_time\": \"2021-03-29T07:37:13.000432Z\", \"end_time\": \"2021-03-29T07:38:02.528162Z\", \"created_time\": \"2021-03-29T07:30:48.509485Z\", \"created_time_dt\": \"2021-03-29T07:30:48.509485Z\", \"duration\": \"0:07:14\", \"iteration\": \"10\", \"goal\": \"AUC_weighted_max\", \"run_name\": \"MinMaxScaler, ExtremeRandomTrees\", \"run_properties\": \"copy=True, feature_range=(0, 1\", \"primary_metric\": 0.87634202, \"best_metric\": 0.90582667}, {\"run_id\": \"AutoML_fea5604c-b61b-4056-a4e4-96cf708b46b0_11\", \"run_number\": 16, \"metric\": null, \"status\": \"Completed\", \"run_type\": \"azureml.scriptrun\", \"training_percent\": \"100\", \"start_time\": \"2021-03-29T07:37:16.555549Z\", \"end_time\": \"2021-03-29T07:37:53.169995Z\", \"created_time\": \"2021-03-29T07:31:47.13295Z\", \"created_time_dt\": \"2021-03-29T07:31:47.13295Z\", \"duration\": \"0:06:06\", \"iteration\": \"11\", \"goal\": \"AUC_weighted_max\", \"run_name\": \"RobustScaler, ExtremeRandomTrees\", \"run_properties\": \"copy=True, quantile_range=[10, 90], with_centering=True,\\n             with_scaling=False\", \"primary_metric\": 0.88241588, \"best_metric\": 0.90582667}, {\"run_id\": \"AutoML_fea5604c-b61b-4056-a4e4-96cf708b46b0_12\", \"run_number\": 17, \"metric\": null, \"status\": \"Completed\", \"run_type\": \"azureml.scriptrun\", \"training_percent\": \"100\", \"start_time\": \"2021-03-29T07:38:00.854891Z\", \"end_time\": \"2021-03-29T07:38:43.401678Z\", \"created_time\": \"2021-03-29T07:32:51.883529Z\", \"created_time_dt\": \"2021-03-29T07:32:51.883529Z\", \"duration\": \"0:05:51\", \"iteration\": \"12\", \"goal\": \"AUC_weighted_max\", \"run_name\": \"StandardScalerWrapper, RandomForest\", \"run_properties\": \"<azureml.automl.runtime.shared.model_wrappers.StandardScalerWrapper object at 0x7f16bc06ea58\", \"primary_metric\": 0.8986338, \"best_metric\": 0.90582667}, {\"run_id\": \"AutoML_fea5604c-b61b-4056-a4e4-96cf708b46b0_13\", \"run_number\": 18, \"metric\": null, \"status\": \"Failed\", \"run_type\": null, \"training_percent\": \"100\", \"start_time\": \"2021-03-29T07:33:53.893128Z\", \"end_time\": \"2021-03-29T07:33:55.523087Z\", \"created_time\": \"2021-03-29T07:33:53.893128Z\", \"created_time_dt\": \"2021-03-29T07:33:53.893128Z\", \"duration\": \"0:00:01\", \"iteration\": \"13\", \"goal\": null, \"run_name\": \"Failed\", \"run_properties\": null}, {\"run_id\": \"AutoML_fea5604c-b61b-4056-a4e4-96cf708b46b0_14\", \"run_number\": 19, \"metric\": null, \"status\": \"Completed\", \"run_type\": \"azureml.scriptrun\", \"training_percent\": \"100\", \"start_time\": \"2021-03-29T07:38:14.196074Z\", \"end_time\": \"2021-03-29T07:39:04.653249Z\", \"created_time\": \"2021-03-29T07:33:59.970488Z\", \"created_time_dt\": \"2021-03-29T07:33:59.970488Z\", \"duration\": \"0:05:04\", \"iteration\": \"14\", \"goal\": \"AUC_weighted_max\", \"run_name\": \"RobustScaler, RandomForest\", \"run_properties\": \"copy=True, quantile_range=[10, 90], with_centering=True,\\n             with_scaling=False\", \"primary_metric\": 0.86770808, \"best_metric\": 0.90582667}, {\"run_id\": \"AutoML_fea5604c-b61b-4056-a4e4-96cf708b46b0_15\", \"run_number\": 20, \"metric\": null, \"status\": \"Completed\", \"run_type\": \"azureml.scriptrun\", \"training_percent\": \"100\", \"start_time\": \"2021-03-29T07:38:58.23737Z\", \"end_time\": \"2021-03-29T07:39:48.049023Z\", \"created_time\": \"2021-03-29T07:34:46.620799Z\", \"created_time_dt\": \"2021-03-29T07:34:46.620799Z\", \"duration\": \"0:05:01\", \"iteration\": \"15\", \"goal\": \"AUC_weighted_max\", \"run_name\": \"StandardScalerWrapper, KNN\", \"run_properties\": \"<azureml.automl.runtime.shared.model_wrappers.StandardScalerWrapper object at 0x7f208a65f0b8\", \"primary_metric\": 0.52030533, \"best_metric\": 0.90582667}, {\"run_id\": \"AutoML_fea5604c-b61b-4056-a4e4-96cf708b46b0_16\", \"run_number\": 21, \"metric\": null, \"status\": \"Completed\", \"run_type\": \"azureml.scriptrun\", \"training_percent\": \"100\", \"start_time\": \"2021-03-29T07:39:16.785957Z\", \"end_time\": \"2021-03-29T07:40:02.518237Z\", \"created_time\": \"2021-03-29T07:35:46.058761Z\", \"created_time_dt\": \"2021-03-29T07:35:46.058761Z\", \"duration\": \"0:04:16\", \"iteration\": \"16\", \"goal\": \"AUC_weighted_max\", \"run_name\": \"MinMaxScaler, RandomForest\", \"run_properties\": \"copy=True, feature_range=(0, 1\", \"primary_metric\": 0.87346195, \"best_metric\": 0.90582667}, {\"run_id\": \"AutoML_fea5604c-b61b-4056-a4e4-96cf708b46b0_17\", \"run_number\": 22, \"metric\": null, \"status\": \"Completed\", \"run_type\": \"azureml.scriptrun\", \"training_percent\": \"100\", \"start_time\": \"2021-03-29T07:39:42.150633Z\", \"end_time\": \"2021-03-29T07:40:28.097066Z\", \"created_time\": \"2021-03-29T07:36:44.362548Z\", \"created_time_dt\": \"2021-03-29T07:36:44.362548Z\", \"duration\": \"0:03:43\", \"iteration\": \"17\", \"goal\": \"AUC_weighted_max\", \"run_name\": \"MinMaxScaler, ExtremeRandomTrees\", \"run_properties\": \"copy=True, feature_range=(0, 1\", \"primary_metric\": 0.82360891, \"best_metric\": 0.90582667}, {\"run_id\": \"AutoML_fea5604c-b61b-4056-a4e4-96cf708b46b0_19\", \"run_number\": 23, \"metric\": null, \"status\": \"Completed\", \"run_type\": \"azureml.scriptrun\", \"training_percent\": \"100\", \"start_time\": \"2021-03-29T07:39:56.711527Z\", \"end_time\": \"2021-03-29T07:40:41.739566Z\", \"created_time\": \"2021-03-29T07:37:01.932032Z\", \"created_time_dt\": \"2021-03-29T07:37:01.932032Z\", \"duration\": \"0:03:39\", \"iteration\": \"19\", \"goal\": \"AUC_weighted_max\", \"run_name\": \"StandardScalerWrapper, XGBoostClassifier\", \"run_properties\": \"<azureml.automl.runtime.shared.model_wrappers.StandardScalerWrapper object at 0x7f8a54c51320\", \"primary_metric\": 0.90890998, \"best_metric\": 0.90890998}, {\"run_id\": \"AutoML_fea5604c-b61b-4056-a4e4-96cf708b46b0_18\", \"run_number\": 24, \"metric\": null, \"status\": \"Completed\", \"run_type\": \"azureml.scriptrun\", \"training_percent\": \"100\", \"start_time\": \"2021-03-29T07:40:04.840979Z\", \"end_time\": \"2021-03-29T07:40:51.468678Z\", \"created_time\": \"2021-03-29T07:37:02.150493Z\", \"created_time_dt\": \"2021-03-29T07:37:02.150493Z\", \"duration\": \"0:03:49\", \"iteration\": \"18\", \"goal\": \"AUC_weighted_max\", \"run_name\": \"MaxAbsScaler, RandomForest\", \"run_properties\": \"copy=True\", \"primary_metric\": 0.8909646, \"best_metric\": 0.90582667}, {\"run_id\": \"AutoML_fea5604c-b61b-4056-a4e4-96cf708b46b0_20\", \"run_number\": 25, \"metric\": null, \"status\": \"Completed\", \"run_type\": \"azureml.scriptrun\", \"training_percent\": \"100\", \"start_time\": \"2021-03-29T07:40:13.804095Z\", \"end_time\": \"2021-03-29T07:41:01.054337Z\", \"created_time\": \"2021-03-29T07:37:09.131424Z\", \"created_time_dt\": \"2021-03-29T07:37:09.131424Z\", \"duration\": \"0:03:51\", \"iteration\": \"20\", \"goal\": \"AUC_weighted_max\", \"run_name\": \"MaxAbsScaler, RandomForest\", \"run_properties\": \"copy=True\", \"primary_metric\": 0.89913521, \"best_metric\": 0.90890998}, {\"run_id\": \"AutoML_fea5604c-b61b-4056-a4e4-96cf708b46b0_21\", \"run_number\": 26, \"metric\": null, \"status\": \"Completed\", \"run_type\": \"azureml.scriptrun\", \"training_percent\": \"100\", \"start_time\": \"2021-03-29T07:40:42.402267Z\", \"end_time\": \"2021-03-29T07:41:20.91693Z\", \"created_time\": \"2021-03-29T07:37:57.820213Z\", \"created_time_dt\": \"2021-03-29T07:37:57.820213Z\", \"duration\": \"0:03:23\", \"iteration\": \"21\", \"goal\": \"AUC_weighted_max\", \"run_name\": \"MaxAbsScaler, ExtremeRandomTrees\", \"run_properties\": \"copy=True\", \"primary_metric\": 0.84150526, \"best_metric\": 0.90890998}, {\"run_id\": \"AutoML_fea5604c-b61b-4056-a4e4-96cf708b46b0_22\", \"run_number\": 27, \"metric\": null, \"status\": \"Completed\", \"run_type\": \"azureml.scriptrun\", \"training_percent\": \"100\", \"start_time\": \"2021-03-29T07:40:57.192443Z\", \"end_time\": \"2021-03-29T07:41:47.037898Z\", \"created_time\": \"2021-03-29T07:38:06.78485Z\", \"created_time_dt\": \"2021-03-29T07:38:06.78485Z\", \"duration\": \"0:03:40\", \"iteration\": \"22\", \"goal\": \"AUC_weighted_max\", \"run_name\": \"MaxAbsScaler, ExtremeRandomTrees\", \"run_properties\": \"copy=True\", \"primary_metric\": 0.86341737, \"best_metric\": 0.90890998}, {\"run_id\": \"AutoML_fea5604c-b61b-4056-a4e4-96cf708b46b0_23\", \"run_number\": 28, \"metric\": null, \"status\": \"Completed\", \"run_type\": \"azureml.scriptrun\", \"training_percent\": \"100\", \"start_time\": \"2021-03-29T07:41:04.494234Z\", \"end_time\": \"2021-03-29T07:41:48.849027Z\", \"created_time\": \"2021-03-29T07:38:47.416976Z\", \"created_time_dt\": \"2021-03-29T07:38:47.416976Z\", \"duration\": \"0:03:01\", \"iteration\": \"23\", \"goal\": \"AUC_weighted_max\", \"run_name\": \"StandardScalerWrapper, LightGBM\", \"run_properties\": \"<azureml.automl.runtime.shared.model_wrappers.StandardScalerWrapper object at 0x7f0b4d3dfe10\", \"primary_metric\": 0.86324523, \"best_metric\": 0.90890998}, {\"run_id\": \"AutoML_fea5604c-b61b-4056-a4e4-96cf708b46b0_24\", \"run_number\": 29, \"metric\": null, \"status\": \"Completed\", \"run_type\": \"azureml.scriptrun\", \"training_percent\": \"100\", \"start_time\": \"2021-03-29T07:41:17.63713Z\", \"end_time\": \"2021-03-29T07:42:00.723253Z\", \"created_time\": \"2021-03-29T07:39:08.738401Z\", \"created_time_dt\": \"2021-03-29T07:39:08.738401Z\", \"duration\": \"0:02:51\", \"iteration\": \"24\", \"goal\": \"AUC_weighted_max\", \"run_name\": \"StandardScalerWrapper, ExtremeRandomTrees\", \"run_properties\": \"<azureml.automl.runtime.shared.model_wrappers.StandardScalerWrapper object at 0x7fab742a57f0\", \"primary_metric\": 0.82952986, \"best_metric\": 0.90890998}, {\"run_id\": \"AutoML_fea5604c-b61b-4056-a4e4-96cf708b46b0_25\", \"run_number\": 30, \"metric\": null, \"status\": \"Completed\", \"run_type\": \"azureml.scriptrun\", \"training_percent\": \"100\", \"start_time\": \"2021-03-29T07:42:01.903932Z\", \"end_time\": \"2021-03-29T07:42:44.414119Z\", \"created_time\": \"2021-03-29T07:39:57.312865Z\", \"created_time_dt\": \"2021-03-29T07:39:57.312865Z\", \"duration\": \"0:02:47\", \"iteration\": \"25\", \"goal\": \"AUC_weighted_max\", \"run_name\": \"MinMaxScaler, RandomForest\", \"run_properties\": \"copy=True, feature_range=(0, 1\", \"primary_metric\": 0.89323865, \"best_metric\": 0.90890998}, {\"run_id\": \"AutoML_fea5604c-b61b-4056-a4e4-96cf708b46b0_26\", \"run_number\": 31, \"metric\": null, \"status\": \"Completed\", \"run_type\": \"azureml.scriptrun\", \"training_percent\": \"100\", \"start_time\": \"2021-03-29T07:42:14.651361Z\", \"end_time\": \"2021-03-29T07:42:57.678872Z\", \"created_time\": \"2021-03-29T07:40:06.622155Z\", \"created_time_dt\": \"2021-03-29T07:40:06.622155Z\", \"duration\": \"0:02:51\", \"iteration\": \"26\", \"goal\": \"AUC_weighted_max\", \"run_name\": \"MinMaxScaler, LightGBM\", \"run_properties\": \"copy=True, feature_range=(0, 1\", \"primary_metric\": 0.89564666, \"best_metric\": 0.90890998}, {\"run_id\": \"AutoML_fea5604c-b61b-4056-a4e4-96cf708b46b0_27\", \"run_number\": 32, \"metric\": null, \"status\": \"Completed\", \"run_type\": \"azureml.scriptrun\", \"training_percent\": \"100\", \"start_time\": \"2021-03-29T07:42:31.963019Z\", \"end_time\": \"2021-03-29T07:43:27.685271Z\", \"created_time\": \"2021-03-29T07:40:31.27041Z\", \"created_time_dt\": \"2021-03-29T07:40:31.27041Z\", \"duration\": \"0:02:56\", \"iteration\": \"27\", \"goal\": \"AUC_weighted_max\", \"run_name\": \"MinMaxScaler, LightGBM\", \"run_properties\": \"copy=True, feature_range=(0, 1\", \"primary_metric\": 0.90751515, \"best_metric\": 0.90890998}, {\"run_id\": \"AutoML_fea5604c-b61b-4056-a4e4-96cf708b46b0_28\", \"run_number\": 33, \"metric\": null, \"status\": \"Completed\", \"run_type\": \"azureml.scriptrun\", \"training_percent\": \"100\", \"start_time\": \"2021-03-29T07:42:58.153109Z\", \"end_time\": \"2021-03-29T07:43:47.175893Z\", \"created_time\": \"2021-03-29T07:40:44.423882Z\", \"created_time_dt\": \"2021-03-29T07:40:44.423882Z\", \"duration\": \"0:03:02\", \"iteration\": \"28\", \"goal\": \"AUC_weighted_max\", \"run_name\": \"StandardScalerWrapper, LightGBM\", \"run_properties\": \"<azureml.automl.runtime.shared.model_wrappers.StandardScalerWrapper object at 0x7f074050aa90\", \"primary_metric\": 0.89204846, \"best_metric\": 0.90890998}, {\"run_id\": \"AutoML_fea5604c-b61b-4056-a4e4-96cf708b46b0_29\", \"run_number\": 34, \"metric\": null, \"status\": \"Completed\", \"run_type\": \"azureml.scriptrun\", \"training_percent\": \"100\", \"start_time\": \"2021-03-29T07:42:58.04657Z\", \"end_time\": \"2021-03-29T07:43:40.721511Z\", \"created_time\": \"2021-03-29T07:40:54.008191Z\", \"created_time_dt\": \"2021-03-29T07:40:54.008191Z\", \"duration\": \"0:02:46\", \"iteration\": \"29\", \"goal\": \"AUC_weighted_max\", \"run_name\": \"StandardScalerWrapper, LightGBM\", \"run_properties\": \"<azureml.automl.runtime.shared.model_wrappers.StandardScalerWrapper object at 0x7f2c39010a58\", \"primary_metric\": 0.89869429, \"best_metric\": 0.90890998}, {\"run_id\": \"AutoML_fea5604c-b61b-4056-a4e4-96cf708b46b0_30\", \"run_number\": 35, \"metric\": null, \"status\": \"Completed\", \"run_type\": \"azureml.scriptrun\", \"training_percent\": \"100\", \"start_time\": \"2021-03-29T07:43:09.624248Z\", \"end_time\": \"2021-03-29T07:43:56.663948Z\", \"created_time\": \"2021-03-29T07:41:05.15286Z\", \"created_time_dt\": \"2021-03-29T07:41:05.15286Z\", \"duration\": \"0:02:51\", \"iteration\": \"30\", \"goal\": \"AUC_weighted_max\", \"run_name\": \"TruncatedSVDWrapper, XGBoostClassifier\", \"run_properties\": \"n_components=0.6531578947368422, random_state=None\", \"primary_metric\": 0.85498932, \"best_metric\": 0.90890998}, {\"run_id\": \"AutoML_fea5604c-b61b-4056-a4e4-96cf708b46b0_31\", \"run_number\": 36, \"metric\": null, \"status\": \"Completed\", \"run_type\": \"azureml.scriptrun\", \"training_percent\": \"100\", \"start_time\": \"2021-03-29T07:43:43.585554Z\", \"end_time\": \"2021-03-29T07:44:28.548331Z\", \"created_time\": \"2021-03-29T07:41:22.886686Z\", \"created_time_dt\": \"2021-03-29T07:41:22.886686Z\", \"duration\": \"0:03:05\", \"iteration\": \"31\", \"goal\": \"AUC_weighted_max\", \"run_name\": \"MaxAbsScaler, LightGBM\", \"run_properties\": \"copy=True\", \"primary_metric\": 0.88359906, \"best_metric\": 0.90890998}, {\"run_id\": \"AutoML_fea5604c-b61b-4056-a4e4-96cf708b46b0_32\", \"run_number\": 37, \"metric\": null, \"status\": \"Completed\", \"run_type\": \"azureml.scriptrun\", \"training_percent\": \"100\", \"start_time\": \"2021-03-29T07:43:53.616961Z\", \"end_time\": \"2021-03-29T07:44:36.078294Z\", \"created_time\": \"2021-03-29T07:41:48.703835Z\", \"created_time_dt\": \"2021-03-29T07:41:48.703835Z\", \"duration\": \"0:02:47\", \"iteration\": \"32\", \"goal\": \"AUC_weighted_max\", \"run_name\": \"StandardScalerWrapper, LightGBM\", \"run_properties\": \"<azureml.automl.runtime.shared.model_wrappers.StandardScalerWrapper object at 0x7f6813468320\", \"primary_metric\": 0.88668975, \"best_metric\": 0.90890998}, {\"run_id\": \"AutoML_fea5604c-b61b-4056-a4e4-96cf708b46b0_33\", \"run_number\": 38, \"metric\": null, \"status\": \"Completed\", \"run_type\": \"azureml.scriptrun\", \"training_percent\": \"100\", \"start_time\": \"2021-03-29T07:44:01.49727Z\", \"end_time\": \"2021-03-29T07:44:40.269729Z\", \"created_time\": \"2021-03-29T07:41:51.854375Z\", \"created_time_dt\": \"2021-03-29T07:41:51.854375Z\", \"duration\": \"0:02:48\", \"iteration\": \"33\", \"goal\": \"AUC_weighted_max\", \"run_name\": \"MaxAbsScaler, LightGBM\", \"run_properties\": \"copy=True\", \"primary_metric\": 0.90994837, \"best_metric\": 0.90994837}, {\"run_id\": \"AutoML_fea5604c-b61b-4056-a4e4-96cf708b46b0_34\", \"run_number\": 39, \"metric\": null, \"status\": \"Completed\", \"run_type\": \"azureml.scriptrun\", \"training_percent\": \"100\", \"start_time\": \"2021-03-29T07:44:08.339775Z\", \"end_time\": \"2021-03-29T07:45:01.18705Z\", \"created_time\": \"2021-03-29T07:42:02.688245Z\", \"created_time_dt\": \"2021-03-29T07:42:02.688245Z\", \"duration\": \"0:02:58\", \"iteration\": \"34\", \"goal\": \"AUC_weighted_max\", \"run_name\": \"MaxAbsScaler, LightGBM\", \"run_properties\": \"copy=True\", \"primary_metric\": 0.9104746, \"best_metric\": 0.9104746}, {\"run_id\": \"AutoML_fea5604c-b61b-4056-a4e4-96cf708b46b0_35\", \"run_number\": 40, \"metric\": null, \"status\": \"Completed\", \"run_type\": \"azureml.scriptrun\", \"training_percent\": \"100\", \"start_time\": \"2021-03-29T07:44:54.324527Z\", \"end_time\": \"2021-03-29T07:45:38.141528Z\", \"created_time\": \"2021-03-29T07:42:47.49632Z\", \"created_time_dt\": \"2021-03-29T07:42:47.49632Z\", \"duration\": \"0:02:50\", \"iteration\": \"35\", \"goal\": \"AUC_weighted_max\", \"run_name\": \"SparseNormalizer, XGBoostClassifier\", \"run_properties\": \"<azureml.automl.runtime.shared.model_wrappers.SparseNormalizer object at 0x7f1a703c2240\", \"primary_metric\": 0.9052393, \"best_metric\": 0.9104746}, {\"run_id\": \"AutoML_fea5604c-b61b-4056-a4e4-96cf708b46b0_36\", \"run_number\": 41, \"metric\": null, \"status\": \"Completed\", \"run_type\": \"azureml.scriptrun\", \"training_percent\": \"100\", \"start_time\": \"2021-03-29T07:45:13.440811Z\", \"end_time\": \"2021-03-29T07:45:57.304652Z\", \"created_time\": \"2021-03-29T07:43:02.769303Z\", \"created_time_dt\": \"2021-03-29T07:43:02.769303Z\", \"duration\": \"0:02:54\", \"iteration\": \"36\", \"goal\": \"AUC_weighted_max\", \"run_name\": \"TruncatedSVDWrapper, XGBoostClassifier\", \"run_properties\": \"n_components=0.7521052631578947, random_state=None\", \"primary_metric\": 0.85671382, \"best_metric\": 0.9104746}, {\"run_id\": \"AutoML_fea5604c-b61b-4056-a4e4-96cf708b46b0_37\", \"run_number\": 42, \"metric\": null, \"status\": \"Completed\", \"run_type\": \"azureml.scriptrun\", \"training_percent\": \"100\", \"start_time\": \"2021-03-29T07:45:47.606103Z\", \"end_time\": \"2021-03-29T07:46:42.308951Z\", \"created_time\": \"2021-03-29T07:43:29.391459Z\", \"created_time_dt\": \"2021-03-29T07:43:29.391459Z\", \"duration\": \"0:03:12\", \"iteration\": \"37\", \"goal\": \"AUC_weighted_max\", \"run_name\": \"RobustScaler, GradientBoosting\", \"run_properties\": \"copy=True, quantile_range=[10, 90], with_centering=False,\\n             with_scaling=True\", \"primary_metric\": 0.8988398, \"best_metric\": 0.9104746}, {\"run_id\": \"AutoML_fea5604c-b61b-4056-a4e4-96cf708b46b0_38\", \"run_number\": 43, \"metric\": null, \"status\": \"Completed\", \"run_type\": \"azureml.scriptrun\", \"training_percent\": \"100\", \"start_time\": \"2021-03-29T07:45:54.680557Z\", \"end_time\": \"2021-03-29T07:46:38.56787Z\", \"created_time\": \"2021-03-29T07:43:42.462887Z\", \"created_time_dt\": \"2021-03-29T07:43:42.462887Z\", \"duration\": \"0:02:56\", \"iteration\": \"38\", \"goal\": \"AUC_weighted_max\", \"run_name\": \"SparseNormalizer, XGBoostClassifier\", \"run_properties\": \"<azureml.automl.runtime.shared.model_wrappers.SparseNormalizer object at 0x7f05e02569b0\", \"primary_metric\": 0.90133656, \"best_metric\": 0.9104746}, {\"run_id\": \"AutoML_fea5604c-b61b-4056-a4e4-96cf708b46b0_39\", \"run_number\": 44, \"metric\": null, \"status\": \"Completed\", \"run_type\": \"azureml.scriptrun\", \"training_percent\": \"100\", \"start_time\": \"2021-03-29T07:45:54.059309Z\", \"end_time\": \"2021-03-29T07:46:41.60382Z\", \"created_time\": \"2021-03-29T07:43:48.843911Z\", \"created_time_dt\": \"2021-03-29T07:43:48.843911Z\", \"duration\": \"0:02:52\", \"iteration\": \"39\", \"goal\": \"AUC_weighted_max\", \"run_name\": \"StandardScalerWrapper, ExtremeRandomTrees\", \"run_properties\": \"<azureml.automl.runtime.shared.model_wrappers.StandardScalerWrapper object at 0x7f55855c1fd0\", \"primary_metric\": 0.88660357, \"best_metric\": 0.9104746}, {\"run_id\": \"AutoML_fea5604c-b61b-4056-a4e4-96cf708b46b0_40\", \"run_number\": 45, \"metric\": null, \"status\": \"Completed\", \"run_type\": \"azureml.scriptrun\", \"training_percent\": \"100\", \"start_time\": \"2021-03-29T07:46:11.89543Z\", \"end_time\": \"2021-03-29T07:47:00.116059Z\", \"created_time\": \"2021-03-29T07:43:59.237462Z\", \"created_time_dt\": \"2021-03-29T07:43:59.237462Z\", \"duration\": \"0:03:00\", \"iteration\": \"40\", \"goal\": \"AUC_weighted_max\", \"run_name\": \"TruncatedSVDWrapper, XGBoostClassifier\", \"run_properties\": \"n_components=0.7521052631578947, random_state=None\", \"primary_metric\": 0.84502127, \"best_metric\": 0.9104746}, {\"run_id\": \"AutoML_fea5604c-b61b-4056-a4e4-96cf708b46b0_41\", \"run_number\": 46, \"metric\": null, \"status\": \"Completed\", \"run_type\": \"azureml.scriptrun\", \"training_percent\": \"100\", \"start_time\": \"2021-03-29T07:46:56.871332Z\", \"end_time\": \"2021-03-29T07:47:42.797482Z\", \"created_time\": \"2021-03-29T07:44:30.157134Z\", \"created_time_dt\": \"2021-03-29T07:44:30.157134Z\", \"duration\": \"0:03:12\", \"iteration\": \"41\", \"goal\": \"AUC_weighted_max\", \"run_name\": \"SparseNormalizer, LightGBM\", \"run_properties\": \"<azureml.automl.runtime.shared.model_wrappers.SparseNormalizer object at 0x7fee00078a58\", \"primary_metric\": 0.89799537, \"best_metric\": 0.9104746}, {\"run_id\": \"AutoML_fea5604c-b61b-4056-a4e4-96cf708b46b0_42\", \"run_number\": 47, \"metric\": null, \"status\": \"Completed\", \"run_type\": \"azureml.scriptrun\", \"training_percent\": \"100\", \"start_time\": \"2021-03-29T07:46:58.724323Z\", \"end_time\": \"2021-03-29T07:47:49.062507Z\", \"created_time\": \"2021-03-29T07:44:37.783693Z\", \"created_time_dt\": \"2021-03-29T07:44:37.783693Z\", \"duration\": \"0:03:11\", \"iteration\": \"42\", \"goal\": \"AUC_weighted_max\", \"run_name\": \"SparseNormalizer, XGBoostClassifier\", \"run_properties\": \"<azureml.automl.runtime.shared.model_wrappers.SparseNormalizer object at 0x7f1d6a073710\", \"primary_metric\": 0.90132363, \"best_metric\": 0.9104746}, {\"run_id\": \"AutoML_fea5604c-b61b-4056-a4e4-96cf708b46b0_43\", \"run_number\": 48, \"metric\": null, \"status\": \"Completed\", \"run_type\": \"azureml.scriptrun\", \"training_percent\": \"100\", \"start_time\": \"2021-03-29T07:47:00.270753Z\", \"end_time\": \"2021-03-29T07:47:55.554435Z\", \"created_time\": \"2021-03-29T07:44:42.024143Z\", \"created_time_dt\": \"2021-03-29T07:44:42.024143Z\", \"duration\": \"0:03:13\", \"iteration\": \"43\", \"goal\": \"AUC_weighted_max\", \"run_name\": \"RobustScaler, ExtremeRandomTrees\", \"run_properties\": \"copy=True, quantile_range=[10, 90], with_centering=True,\\n             with_scaling=True\", \"primary_metric\": 0.8825642, \"best_metric\": 0.9104746}, {\"run_id\": \"AutoML_fea5604c-b61b-4056-a4e4-96cf708b46b0_44\", \"run_number\": 49, \"metric\": null, \"status\": \"Completed\", \"run_type\": \"azureml.scriptrun\", \"training_percent\": \"100\", \"start_time\": \"2021-03-29T07:47:16.627626Z\", \"end_time\": \"2021-03-29T07:48:10.646912Z\", \"created_time\": \"2021-03-29T07:45:02.888688Z\", \"created_time_dt\": \"2021-03-29T07:45:02.888688Z\", \"duration\": \"0:03:07\", \"iteration\": \"44\", \"goal\": \"AUC_weighted_max\", \"run_name\": \"SparseNormalizer, XGBoostClassifier\", \"run_properties\": \"<azureml.automl.runtime.shared.model_wrappers.SparseNormalizer object at 0x7f6b59cbe550\", \"primary_metric\": 0.89854079, \"best_metric\": 0.9104746}, {\"run_id\": \"AutoML_fea5604c-b61b-4056-a4e4-96cf708b46b0_45\", \"run_number\": 50, \"metric\": null, \"status\": \"Completed\", \"run_type\": \"azureml.scriptrun\", \"training_percent\": \"100\", \"start_time\": \"2021-03-29T07:48:06.838991Z\", \"end_time\": \"2021-03-29T07:48:49.054866Z\", \"created_time\": \"2021-03-29T07:45:40.777483Z\", \"created_time_dt\": \"2021-03-29T07:45:40.777483Z\", \"duration\": \"0:03:08\", \"iteration\": \"45\", \"goal\": \"AUC_weighted_max\", \"run_name\": \"MinMaxScaler, LightGBM\", \"run_properties\": \"copy=True, feature_range=(0, 1\", \"primary_metric\": 0.88061161, \"best_metric\": 0.9104746}, {\"run_id\": \"AutoML_fea5604c-b61b-4056-a4e4-96cf708b46b0_46\", \"run_number\": 51, \"metric\": null, \"status\": \"Completed\", \"run_type\": \"azureml.scriptrun\", \"training_percent\": \"100\", \"start_time\": \"2021-03-29T07:48:09.171814Z\", \"end_time\": \"2021-03-29T07:49:08.522374Z\", \"created_time\": \"2021-03-29T07:45:59.172927Z\", \"created_time_dt\": \"2021-03-29T07:45:59.172927Z\", \"duration\": \"0:03:09\", \"iteration\": \"46\", \"goal\": \"AUC_weighted_max\", \"run_name\": \"RobustScaler, ExtremeRandomTrees\", \"run_properties\": \"copy=True, quantile_range=[25, 75], with_centering=True,\\n             with_scaling=False\", \"primary_metric\": 0.87048456, \"best_metric\": 0.9104746}, {\"run_id\": \"AutoML_fea5604c-b61b-4056-a4e4-96cf708b46b0_47\", \"run_number\": 52, \"metric\": null, \"status\": \"Completed\", \"run_type\": \"azureml.scriptrun\", \"training_percent\": \"100\", \"start_time\": \"2021-03-29T07:48:55.335998Z\", \"end_time\": \"2021-03-29T07:49:40.495112Z\", \"created_time\": \"2021-03-29T07:46:40.517705Z\", \"created_time_dt\": \"2021-03-29T07:46:40.517705Z\", \"duration\": \"0:02:59\", \"iteration\": \"47\", \"goal\": \"AUC_weighted_max\", \"run_name\": \"MinMaxScaler, ExtremeRandomTrees\", \"run_properties\": \"copy=True, feature_range=(0, 1\", \"primary_metric\": 0.86801766, \"best_metric\": 0.9104746}, {\"run_id\": \"AutoML_fea5604c-b61b-4056-a4e4-96cf708b46b0_48\", \"run_number\": 53, \"metric\": null, \"status\": \"Completed\", \"run_type\": \"azureml.scriptrun\", \"training_percent\": \"100\", \"start_time\": \"2021-03-29T07:49:21.458504Z\", \"end_time\": \"2021-03-29T07:50:15.758399Z\", \"created_time\": \"2021-03-29T07:46:43.90674Z\", \"created_time_dt\": \"2021-03-29T07:46:43.90674Z\", \"duration\": \"0:03:31\", \"iteration\": \"48\", \"goal\": \"AUC_weighted_max\", \"run_name\": \"MinMaxScaler, GradientBoosting\", \"run_properties\": \"copy=True, feature_range=(0, 1\", \"primary_metric\": 0.89746581, \"best_metric\": 0.9104746}, {\"run_id\": \"AutoML_fea5604c-b61b-4056-a4e4-96cf708b46b0_49\", \"run_number\": 54, \"metric\": null, \"status\": \"Completed\", \"run_type\": \"azureml.scriptrun\", \"training_percent\": \"100\", \"start_time\": \"2021-03-29T07:49:02.998067Z\", \"end_time\": \"2021-03-29T07:49:47.491975Z\", \"created_time\": \"2021-03-29T07:46:43.967735Z\", \"created_time_dt\": \"2021-03-29T07:46:43.967735Z\", \"duration\": \"0:03:03\", \"iteration\": \"49\", \"goal\": \"AUC_weighted_max\", \"run_name\": \"SparseNormalizer, LightGBM\", \"run_properties\": \"<azureml.automl.runtime.shared.model_wrappers.SparseNormalizer object at 0x7fdee6dd99e8\", \"primary_metric\": 0.89864092, \"best_metric\": 0.9104746}, {\"run_id\": \"AutoML_fea5604c-b61b-4056-a4e4-96cf708b46b0_50\", \"run_number\": 55, \"metric\": null, \"status\": \"Completed\", \"run_type\": \"azureml.scriptrun\", \"training_percent\": \"100\", \"start_time\": \"2021-03-29T07:49:58.488855Z\", \"end_time\": \"2021-03-29T07:50:39.146503Z\", \"created_time\": \"2021-03-29T07:47:02.749131Z\", \"created_time_dt\": \"2021-03-29T07:47:02.749131Z\", \"duration\": \"0:03:36\", \"iteration\": \"50\", \"goal\": \"AUC_weighted_max\", \"run_name\": \"SparseNormalizer, LightGBM\", \"run_properties\": \"<azureml.automl.runtime.shared.model_wrappers.SparseNormalizer object at 0x7f1472c9ae10\", \"primary_metric\": 0.792392, \"best_metric\": 0.9104746}, {\"run_id\": \"AutoML_fea5604c-b61b-4056-a4e4-96cf708b46b0_51\", \"run_number\": 56, \"metric\": null, \"status\": \"Completed\", \"run_type\": \"azureml.scriptrun\", \"training_percent\": \"100\", \"start_time\": \"2021-03-29T07:50:02.07174Z\", \"end_time\": \"2021-03-29T07:50:46.575772Z\", \"created_time\": \"2021-03-29T07:47:46.042413Z\", \"created_time_dt\": \"2021-03-29T07:47:46.042413Z\", \"duration\": \"0:03:00\", \"iteration\": \"51\", \"goal\": \"AUC_weighted_max\", \"run_name\": \"SparseNormalizer, XGBoostClassifier\", \"run_properties\": \"<azureml.automl.runtime.shared.model_wrappers.SparseNormalizer object at 0x7f05e0046470\", \"primary_metric\": 0.88466894, \"best_metric\": 0.9104746}, {\"run_id\": \"AutoML_fea5604c-b61b-4056-a4e4-96cf708b46b0_52\", \"run_number\": 57, \"metric\": null, \"status\": \"Completed\", \"run_type\": \"azureml.scriptrun\", \"training_percent\": \"100\", \"start_time\": \"2021-03-29T07:50:29.889666Z\", \"end_time\": \"2021-03-29T07:51:18.441666Z\", \"created_time\": \"2021-03-29T07:47:52.147029Z\", \"created_time_dt\": \"2021-03-29T07:47:52.147029Z\", \"duration\": \"0:03:26\", \"iteration\": \"52\", \"goal\": \"AUC_weighted_max\", \"run_name\": \"MaxAbsScaler, ExtremeRandomTrees\", \"run_properties\": \"copy=True\", \"primary_metric\": 0.87786072, \"best_metric\": 0.9104746}, {\"run_id\": \"AutoML_fea5604c-b61b-4056-a4e4-96cf708b46b0_53\", \"run_number\": 58, \"metric\": null, \"status\": \"Completed\", \"run_type\": \"azureml.scriptrun\", \"training_percent\": \"100\", \"start_time\": \"2021-03-29T07:50:55.209815Z\", \"end_time\": \"2021-03-29T07:51:46.615499Z\", \"created_time\": \"2021-03-29T07:47:57.82019Z\", \"created_time_dt\": \"2021-03-29T07:47:57.82019Z\", \"duration\": \"0:03:48\", \"iteration\": \"53\", \"goal\": \"AUC_weighted_max\", \"run_name\": \"StandardScalerWrapper, LightGBM\", \"run_properties\": \"<azureml.automl.runtime.shared.model_wrappers.StandardScalerWrapper object at 0x7f9e56ab3a58\", \"primary_metric\": 0.875739, \"best_metric\": 0.9104746}, {\"run_id\": \"AutoML_fea5604c-b61b-4056-a4e4-96cf708b46b0_54\", \"run_number\": 59, \"metric\": null, \"status\": \"Completed\", \"run_type\": \"azureml.scriptrun\", \"training_percent\": \"100\", \"start_time\": \"2021-03-29T07:51:01.956027Z\", \"end_time\": \"2021-03-29T07:51:46.403811Z\", \"created_time\": \"2021-03-29T07:48:12.33333Z\", \"created_time_dt\": \"2021-03-29T07:48:12.33333Z\", \"duration\": \"0:03:34\", \"iteration\": \"54\", \"goal\": \"AUC_weighted_max\", \"run_name\": \"SparseNormalizer, XGBoostClassifier\", \"run_properties\": \"<azureml.automl.runtime.shared.model_wrappers.SparseNormalizer object at 0x7f53cd6b6eb8\", \"primary_metric\": 0.90604255, \"best_metric\": 0.9104746}, {\"run_id\": \"AutoML_fea5604c-b61b-4056-a4e4-96cf708b46b0_55\", \"run_number\": 60, \"metric\": null, \"status\": \"Canceled\", \"run_type\": \"azureml.scriptrun\", \"training_percent\": \"100\", \"start_time\": \"2021-03-29T07:51:32.422684Z\", \"end_time\": \"2021-03-29T07:51:56.359407Z\", \"created_time\": \"2021-03-29T07:48:52.560403Z\", \"created_time_dt\": \"2021-03-29T07:48:52.560403Z\", \"duration\": \"0:03:03\", \"iteration\": \"55\", \"goal\": null, \"run_name\": \"MinMaxScaler, LightGBM\", \"run_properties\": null}, {\"run_id\": \"AutoML_fea5604c-b61b-4056-a4e4-96cf708b46b0_56\", \"run_number\": 61, \"metric\": null, \"status\": \"Canceled\", \"run_type\": \"azureml.scriptrun\", \"training_percent\": \"100\", \"start_time\": \"2021-03-29T07:51:44.627666Z\", \"end_time\": \"2021-03-29T07:51:54.843514Z\", \"created_time\": \"2021-03-29T07:49:10.284472Z\", \"created_time_dt\": \"2021-03-29T07:49:10.284472Z\", \"duration\": \"0:02:44\", \"iteration\": \"56\", \"goal\": null, \"run_name\": \"Canceled\", \"run_properties\": null}, {\"run_id\": \"AutoML_fea5604c-b61b-4056-a4e4-96cf708b46b0_57\", \"run_number\": 62, \"metric\": null, \"status\": \"Canceled\", \"run_type\": \"azureml.scriptrun\", \"training_percent\": \"100\", \"start_time\": \"2021-03-29T07:49:43.351289Z\", \"end_time\": \"2021-03-29T07:51:54.332456Z\", \"created_time\": \"2021-03-29T07:49:43.351289Z\", \"created_time_dt\": \"2021-03-29T07:49:43.351289Z\", \"duration\": \"0:02:10\", \"iteration\": \"57\", \"goal\": null, \"run_name\": \"Canceled\", \"run_properties\": null}, {\"run_id\": \"AutoML_fea5604c-b61b-4056-a4e4-96cf708b46b0_58\", \"run_number\": 63, \"metric\": null, \"status\": \"Canceled\", \"run_type\": \"azureml.scriptrun\", \"training_percent\": \"100\", \"start_time\": \"2021-03-29T07:49:49.235481Z\", \"end_time\": \"2021-03-29T07:51:56.376697Z\", \"created_time\": \"2021-03-29T07:49:49.235481Z\", \"created_time_dt\": \"2021-03-29T07:49:49.235481Z\", \"duration\": \"0:02:07\", \"iteration\": \"58\", \"goal\": null, \"run_name\": \"Canceled\", \"run_properties\": null}, {\"run_id\": \"AutoML_fea5604c-b61b-4056-a4e4-96cf708b46b0_59\", \"run_number\": 64, \"metric\": null, \"status\": \"Canceled\", \"run_type\": \"azureml.scriptrun\", \"training_percent\": \"100\", \"start_time\": \"2021-03-29T07:50:17.509942Z\", \"end_time\": \"2021-03-29T07:51:56.347839Z\", \"created_time\": \"2021-03-29T07:50:17.509942Z\", \"created_time_dt\": \"2021-03-29T07:50:17.509942Z\", \"duration\": \"0:01:38\", \"iteration\": \"59\", \"goal\": null, \"run_name\": \"Canceled\", \"run_properties\": null}, {\"run_id\": \"AutoML_fea5604c-b61b-4056-a4e4-96cf708b46b0_60\", \"run_number\": 65, \"metric\": null, \"status\": \"Canceled\", \"run_type\": \"azureml.scriptrun\", \"training_percent\": \"100\", \"start_time\": \"2021-03-29T07:50:42.37589Z\", \"end_time\": \"2021-03-29T07:51:54.459219Z\", \"created_time\": \"2021-03-29T07:50:42.37589Z\", \"created_time_dt\": \"2021-03-29T07:50:42.37589Z\", \"duration\": \"0:01:12\", \"iteration\": \"60\", \"goal\": null, \"run_name\": \"Canceled\", \"run_properties\": null}, {\"run_id\": \"AutoML_fea5604c-b61b-4056-a4e4-96cf708b46b0_61\", \"run_number\": 66, \"metric\": null, \"status\": \"Canceled\", \"run_type\": \"azureml.scriptrun\", \"training_percent\": \"100\", \"start_time\": \"2021-03-29T07:50:48.438696Z\", \"end_time\": \"2021-03-29T07:51:54.456151Z\", \"created_time\": \"2021-03-29T07:50:48.438696Z\", \"created_time_dt\": \"2021-03-29T07:50:48.438696Z\", \"duration\": \"0:01:06\", \"iteration\": \"61\", \"goal\": null, \"run_name\": \"Canceled\", \"run_properties\": null}, {\"run_id\": \"AutoML_fea5604c-b61b-4056-a4e4-96cf708b46b0_62\", \"run_number\": 67, \"metric\": null, \"status\": \"Canceled\", \"run_type\": \"azureml.scriptrun\", \"training_percent\": \"100\", \"start_time\": \"2021-03-29T07:51:20.356259Z\", \"end_time\": \"2021-03-29T07:51:55.523344Z\", \"created_time\": \"2021-03-29T07:51:20.356259Z\", \"created_time_dt\": \"2021-03-29T07:51:20.356259Z\", \"duration\": \"0:00:35\", \"iteration\": \"62\", \"goal\": null, \"run_name\": \"Canceled\", \"run_properties\": null}, {\"run_id\": \"AutoML_fea5604c-b61b-4056-a4e4-96cf708b46b0_63\", \"run_number\": 68, \"metric\": null, \"status\": \"Completed\", \"run_type\": \"azureml.scriptrun\", \"training_percent\": \"100\", \"start_time\": \"2021-03-29T07:52:07.568685Z\", \"end_time\": \"2021-03-29T07:53:46.815399Z\", \"created_time\": \"2021-03-29T07:51:57.744902Z\", \"created_time_dt\": \"2021-03-29T07:51:57.744902Z\", \"duration\": \"0:01:49\", \"iteration\": \"63\", \"goal\": \"AUC_weighted_max\", \"run_name\": \"VotingEnsemble\", \"run_properties\": \"classification_labels=None,\\n                              estimators=[('34',\\n                                           Pipeline(memory=None,\\n                                                    steps=[('maxabsscaler',\\n                                                            MaxAbsScaler(copy=True\", \"primary_metric\": 0.92632493, \"best_metric\": 0.92632493}, {\"run_id\": \"AutoML_fea5604c-b61b-4056-a4e4-96cf708b46b0_64\", \"run_number\": 69, \"metric\": null, \"status\": \"Completed\", \"run_type\": \"azureml.scriptrun\", \"training_percent\": \"100\", \"start_time\": \"2021-03-29T07:52:05.232325Z\", \"end_time\": \"2021-03-29T07:53:43.207864Z\", \"created_time\": \"2021-03-29T07:51:57.765837Z\", \"created_time_dt\": \"2021-03-29T07:51:57.765837Z\", \"duration\": \"0:01:45\", \"iteration\": \"64\", \"goal\": \"AUC_weighted_max\", \"run_name\": \"StackEnsemble\", \"run_properties\": \"base_learners=[('34',\\n                                        Pipeline(memory=None,\\n                                                 steps=[('maxabsscaler',\\n                                                         MaxAbsScaler(copy=True\", \"primary_metric\": 0.9224203, \"best_metric\": 0.92632493}], \"children_metrics\": {\"categories\": [0], \"series\": {\"AUC_macro\": [{\"categories\": [\"0\", \"1\", \"2\", \"3\", \"4\", \"5\", \"6\", \"7\", \"8\", \"9\", \"10\", \"11\", \"12\", \"14\", \"15\", \"16\", \"17\", \"18\", \"19\", \"20\", \"21\", \"22\", \"23\", \"24\", \"25\", \"26\", \"27\", \"28\", \"29\", \"30\", \"31\", \"32\", \"33\", \"34\", \"35\", \"36\", \"37\", \"38\", \"39\", \"40\", \"41\", \"42\", \"43\", \"44\", \"45\", \"46\", \"47\", \"48\", \"49\", \"50\", \"51\", \"52\", \"53\", \"54\", \"63\", \"64\"], \"mode\": \"markers\", \"name\": \"AUC_macro\", \"stepped\": false, \"type\": \"scatter\", \"data\": [0.8840955354735103, 0.8847369443591411, 0.905826666771232, 0.87795602271489, 0.9024444800516884, 0.8968049561761232, 0.87311545010418, 0.9010078664216536, 0.8712449611072037, 0.7496161006793443, 0.8763420225740021, 0.8824158812159958, 0.8986337982912925, 0.867708076928157, 0.5203053263648802, 0.8734619511834042, 0.8236089120748732, 0.8909645992176312, 0.9089099837731132, 0.8991352100332077, 0.8415052566088036, 0.8634173735007259, 0.8632452305555279, 0.829529863443193, 0.8932386477007187, 0.8956466586701713, 0.9075151509923248, 0.8920484615964593, 0.8986942894951475, 0.8549893177305362, 0.8835990615262354, 0.8866897456916336, 0.9099483657816038, 0.9104745980288886, 0.9052392955379224, 0.8567138217469452, 0.8988397969561586, 0.9013365565593826, 0.8866035736849811, 0.8450212663025592, 0.8979953715811269, 0.9013236311298669, 0.8825642034654047, 0.8985407920878175, 0.8806116079202176, 0.8704845637094494, 0.8680176567901968, 0.897465807112203, 0.8986409225743321, 0.7923920026790736, 0.8846689374952534, 0.877860723806662, 0.875739003608054, 0.9060425498308794, 0.9263249305466126, 0.9224203009169829]}, {\"categories\": [\"0\", \"1\", \"2\", \"3\", \"4\", \"5\", \"6\", \"7\", \"8\", \"9\", \"10\", \"11\", \"12\", \"14\", \"15\", \"16\", \"17\", \"18\", \"19\", \"20\", \"21\", \"22\", \"23\", \"24\", \"25\", \"26\", \"27\", \"28\", \"29\", \"30\", \"31\", \"32\", \"33\", \"34\", \"35\", \"36\", \"37\", \"38\", \"39\", \"40\", \"41\", \"42\", \"43\", \"44\", \"45\", \"46\", \"47\", \"48\", \"49\", \"50\", \"51\", \"52\", \"53\", \"54\", \"63\", \"64\"], \"mode\": \"lines\", \"name\": \"AUC_macro_max\", \"stepped\": true, \"type\": \"scatter\", \"data\": [0.8840955354735103, 0.8847369443591411, 0.905826666771232, 0.905826666771232, 0.905826666771232, 0.905826666771232, 0.905826666771232, 0.905826666771232, 0.905826666771232, 0.905826666771232, 0.905826666771232, 0.905826666771232, 0.905826666771232, 0.905826666771232, 0.905826666771232, 0.905826666771232, 0.905826666771232, 0.905826666771232, 0.9089099837731132, 0.9089099837731132, 0.9089099837731132, 0.9089099837731132, 0.9089099837731132, 0.9089099837731132, 0.9089099837731132, 0.9089099837731132, 0.9089099837731132, 0.9089099837731132, 0.9089099837731132, 0.9089099837731132, 0.9089099837731132, 0.9089099837731132, 0.9099483657816038, 0.9104745980288886, 0.9104745980288886, 0.9104745980288886, 0.9104745980288886, 0.9104745980288886, 0.9104745980288886, 0.9104745980288886, 0.9104745980288886, 0.9104745980288886, 0.9104745980288886, 0.9104745980288886, 0.9104745980288886, 0.9104745980288886, 0.9104745980288886, 0.9104745980288886, 0.9104745980288886, 0.9104745980288886, 0.9104745980288886, 0.9104745980288886, 0.9104745980288886, 0.9104745980288886, 0.9263249305466126, 0.9263249305466126]}], \"f1_score_macro\": [{\"categories\": [\"0\", \"1\", \"2\", \"3\", \"4\", \"5\", \"6\", \"7\", \"8\", \"9\", \"10\", \"11\", \"12\", \"14\", \"15\", \"16\", \"17\", \"18\", \"19\", \"20\", \"21\", \"22\", \"23\", \"24\", \"25\", \"26\", \"27\", \"28\", \"29\", \"30\", \"31\", \"32\", \"33\", \"34\", \"35\", \"36\", \"37\", \"38\", \"39\", \"40\", \"41\", \"42\", \"43\", \"44\", \"45\", \"46\", \"47\", \"48\", \"49\", \"50\", \"51\", \"52\", \"53\", \"54\", \"63\", \"64\"], \"mode\": \"markers\", \"name\": \"f1_score_macro\", \"stepped\": false, \"type\": \"scatter\", \"data\": [0.8043314151248963, 0.8078501228997539, 0.8163077879998731, 0.7365807843645191, 0.8014782303275789, 0.8110629823392367, 0.7942968098794134, 0.8297176418582559, 0.7107276688796623, 0.6844538166645457, 0.6974288417483577, 0.76413884530525, 0.78203182588825, 0.7848916058511122, 0.5251633085767229, 0.6663859416773829, 0.7207142588680411, 0.7950574592990304, 0.7859560894600321, 0.8286480150284496, 0.7601074142204155, 0.7958420114463653, 0.5350038360332479, 0.7441142982727349, 0.7896902119212188, 0.815559550644474, 0.8156511932015427, 0.7833249195333742, 0.7987410678525293, 0.6804906189061307, 0.755180218998159, 0.7714900285695371, 0.8267369788332969, 0.8279857684937635, 0.827253427181861, 0.7535155395446539, 0.8140489699105007, 0.7776350436473803, 0.8062135241385799, 0.7618616744297858, 0.7885046281373713, 0.8396072629416619, 0.6784726792652336, 0.8303022936910406, 0.4024893878511494, 0.7942213465700946, 0.7968267413415542, 0.8220311039332777, 0.7499908175265959, 0.42413644667467887, 0.7937015492687247, 0.7747488313383182, 0.5658140930065483, 0.828621018706467, 0.8468079549483234, 0.6126070830141235]}, {\"categories\": [\"0\", \"1\", \"2\", \"3\", \"4\", \"5\", \"6\", \"7\", \"8\", \"9\", \"10\", \"11\", \"12\", \"14\", \"15\", \"16\", \"17\", \"18\", \"19\", \"20\", \"21\", \"22\", \"23\", \"24\", \"25\", \"26\", \"27\", \"28\", \"29\", \"30\", \"31\", \"32\", \"33\", \"34\", \"35\", \"36\", \"37\", \"38\", \"39\", \"40\", \"41\", \"42\", \"43\", \"44\", \"45\", \"46\", \"47\", \"48\", \"49\", \"50\", \"51\", \"52\", \"53\", \"54\", \"63\", \"64\"], \"mode\": \"lines\", \"name\": \"f1_score_macro_max\", \"stepped\": true, \"type\": \"scatter\", \"data\": [0.8043314151248963, 0.8078501228997539, 0.8163077879998731, 0.8163077879998731, 0.8163077879998731, 0.8163077879998731, 0.8163077879998731, 0.8297176418582559, 0.8297176418582559, 0.8297176418582559, 0.8297176418582559, 0.8297176418582559, 0.8297176418582559, 0.8297176418582559, 0.8297176418582559, 0.8297176418582559, 0.8297176418582559, 0.8297176418582559, 0.8297176418582559, 0.8297176418582559, 0.8297176418582559, 0.8297176418582559, 0.8297176418582559, 0.8297176418582559, 0.8297176418582559, 0.8297176418582559, 0.8297176418582559, 0.8297176418582559, 0.8297176418582559, 0.8297176418582559, 0.8297176418582559, 0.8297176418582559, 0.8297176418582559, 0.8297176418582559, 0.8297176418582559, 0.8297176418582559, 0.8297176418582559, 0.8297176418582559, 0.8297176418582559, 0.8297176418582559, 0.8297176418582559, 0.8396072629416619, 0.8396072629416619, 0.8396072629416619, 0.8396072629416619, 0.8396072629416619, 0.8396072629416619, 0.8396072629416619, 0.8396072629416619, 0.8396072629416619, 0.8396072629416619, 0.8396072629416619, 0.8396072629416619, 0.8396072629416619, 0.8468079549483234, 0.8468079549483234]}], \"f1_score_micro\": [{\"categories\": [\"0\", \"1\", \"2\", \"3\", \"4\", \"5\", \"6\", \"7\", \"8\", \"9\", \"10\", \"11\", \"12\", \"14\", \"15\", \"16\", \"17\", \"18\", \"19\", \"20\", \"21\", \"22\", \"23\", \"24\", \"25\", \"26\", \"27\", \"28\", \"29\", \"30\", \"31\", \"32\", \"33\", \"34\", \"35\", \"36\", \"37\", \"38\", \"39\", \"40\", \"41\", \"42\", \"43\", \"44\", \"45\", \"46\", \"47\", \"48\", \"49\", \"50\", \"51\", \"52\", \"53\", \"54\", \"63\", \"64\"], \"mode\": \"markers\", \"name\": \"f1_score_micro\", \"stepped\": false, \"type\": \"scatter\", \"data\": [0.8359770114942527, 0.8358620689655172, 0.8493103448275864, 0.8062068965517242, 0.8293103448275863, 0.8427586206896553, 0.8258620689655173, 0.8629885057471265, 0.7893103448275862, 0.7659770114942528, 0.7794252873563218, 0.8227586206896552, 0.8022988505747126, 0.8122988505747125, 0.6389655172413793, 0.7726436781609195, 0.7556321839080459, 0.8189655172413793, 0.8258620689655173, 0.859425287356322, 0.7889655172413793, 0.8293103448275861, 0.7291954022988507, 0.7757471264367817, 0.8155172413793105, 0.8491954022988507, 0.8459770114942529, 0.8327586206896551, 0.8393103448275863, 0.7589655172413794, 0.8058620689655174, 0.8190804597701149, 0.8560919540229885, 0.8560919540229885, 0.8563218390804599, 0.7955172413793103, 0.8394252873563219, 0.8194252873563219, 0.8462068965517243, 0.7956321839080459, 0.8327586206896551, 0.8662068965517242, 0.7760919540229885, 0.8562068965517241, 0.6791954022988507, 0.8224137931034482, 0.8257471264367815, 0.8560919540229885, 0.8094252873563219, 0.6858620689655173, 0.8327586206896551, 0.8262068965517241, 0.7358620689655173, 0.8562068965517243, 0.8729885057471265, 0.7495402298850574]}, {\"categories\": [\"0\", \"1\", \"2\", \"3\", \"4\", \"5\", \"6\", \"7\", \"8\", \"9\", \"10\", \"11\", \"12\", \"14\", \"15\", \"16\", \"17\", \"18\", \"19\", \"20\", \"21\", \"22\", \"23\", \"24\", \"25\", \"26\", \"27\", \"28\", \"29\", \"30\", \"31\", \"32\", \"33\", \"34\", \"35\", \"36\", \"37\", \"38\", \"39\", \"40\", \"41\", \"42\", \"43\", \"44\", \"45\", \"46\", \"47\", \"48\", \"49\", \"50\", \"51\", \"52\", \"53\", \"54\", \"63\", \"64\"], \"mode\": \"lines\", \"name\": \"f1_score_micro_max\", \"stepped\": true, \"type\": \"scatter\", \"data\": [0.8359770114942527, 0.8359770114942527, 0.8493103448275864, 0.8493103448275864, 0.8493103448275864, 0.8493103448275864, 0.8493103448275864, 0.8629885057471265, 0.8629885057471265, 0.8629885057471265, 0.8629885057471265, 0.8629885057471265, 0.8629885057471265, 0.8629885057471265, 0.8629885057471265, 0.8629885057471265, 0.8629885057471265, 0.8629885057471265, 0.8629885057471265, 0.8629885057471265, 0.8629885057471265, 0.8629885057471265, 0.8629885057471265, 0.8629885057471265, 0.8629885057471265, 0.8629885057471265, 0.8629885057471265, 0.8629885057471265, 0.8629885057471265, 0.8629885057471265, 0.8629885057471265, 0.8629885057471265, 0.8629885057471265, 0.8629885057471265, 0.8629885057471265, 0.8629885057471265, 0.8629885057471265, 0.8629885057471265, 0.8629885057471265, 0.8629885057471265, 0.8629885057471265, 0.8662068965517242, 0.8662068965517242, 0.8662068965517242, 0.8662068965517242, 0.8662068965517242, 0.8662068965517242, 0.8662068965517242, 0.8662068965517242, 0.8662068965517242, 0.8662068965517242, 0.8662068965517242, 0.8662068965517242, 0.8662068965517242, 0.8729885057471265, 0.8729885057471265]}], \"recall_score_micro\": [{\"categories\": [\"0\", \"1\", \"2\", \"3\", \"4\", \"5\", \"6\", \"7\", \"8\", \"9\", \"10\", \"11\", \"12\", \"14\", \"15\", \"16\", \"17\", \"18\", \"19\", \"20\", \"21\", \"22\", \"23\", \"24\", \"25\", \"26\", \"27\", \"28\", \"29\", \"30\", \"31\", \"32\", \"33\", \"34\", \"35\", \"36\", \"37\", \"38\", \"39\", \"40\", \"41\", \"42\", \"43\", \"44\", \"45\", \"46\", \"47\", \"48\", \"49\", \"50\", \"51\", \"52\", \"53\", \"54\", \"63\", \"64\"], \"mode\": \"markers\", \"name\": \"recall_score_micro\", \"stepped\": false, \"type\": \"scatter\", \"data\": [0.8359770114942527, 0.8358620689655172, 0.8493103448275864, 0.8062068965517242, 0.8293103448275863, 0.8427586206896553, 0.8258620689655173, 0.8629885057471265, 0.7893103448275862, 0.7659770114942528, 0.7794252873563218, 0.8227586206896552, 0.8022988505747126, 0.8122988505747125, 0.6389655172413793, 0.7726436781609195, 0.7556321839080459, 0.8189655172413793, 0.8258620689655173, 0.859425287356322, 0.7889655172413793, 0.8293103448275861, 0.7291954022988506, 0.7757471264367817, 0.8155172413793105, 0.8491954022988507, 0.8459770114942529, 0.8327586206896551, 0.8393103448275863, 0.7589655172413794, 0.8058620689655174, 0.8190804597701149, 0.8560919540229885, 0.8560919540229885, 0.8563218390804599, 0.7955172413793103, 0.8394252873563219, 0.8194252873563219, 0.8462068965517243, 0.7956321839080459, 0.8327586206896551, 0.8662068965517242, 0.7760919540229885, 0.8562068965517241, 0.6791954022988507, 0.8224137931034482, 0.8257471264367815, 0.8560919540229885, 0.8094252873563219, 0.6858620689655173, 0.8327586206896551, 0.8262068965517241, 0.7358620689655173, 0.8562068965517243, 0.8729885057471265, 0.7495402298850574]}, {\"categories\": [\"0\", \"1\", \"2\", \"3\", \"4\", \"5\", \"6\", \"7\", \"8\", \"9\", \"10\", \"11\", \"12\", \"14\", \"15\", \"16\", \"17\", \"18\", \"19\", \"20\", \"21\", \"22\", \"23\", \"24\", \"25\", \"26\", \"27\", \"28\", \"29\", \"30\", \"31\", \"32\", \"33\", \"34\", \"35\", \"36\", \"37\", \"38\", \"39\", \"40\", \"41\", \"42\", \"43\", \"44\", \"45\", \"46\", \"47\", \"48\", \"49\", \"50\", \"51\", \"52\", \"53\", \"54\", \"63\", \"64\"], \"mode\": \"lines\", \"name\": \"recall_score_micro_max\", \"stepped\": true, \"type\": \"scatter\", \"data\": [0.8359770114942527, 0.8359770114942527, 0.8493103448275864, 0.8493103448275864, 0.8493103448275864, 0.8493103448275864, 0.8493103448275864, 0.8629885057471265, 0.8629885057471265, 0.8629885057471265, 0.8629885057471265, 0.8629885057471265, 0.8629885057471265, 0.8629885057471265, 0.8629885057471265, 0.8629885057471265, 0.8629885057471265, 0.8629885057471265, 0.8629885057471265, 0.8629885057471265, 0.8629885057471265, 0.8629885057471265, 0.8629885057471265, 0.8629885057471265, 0.8629885057471265, 0.8629885057471265, 0.8629885057471265, 0.8629885057471265, 0.8629885057471265, 0.8629885057471265, 0.8629885057471265, 0.8629885057471265, 0.8629885057471265, 0.8629885057471265, 0.8629885057471265, 0.8629885057471265, 0.8629885057471265, 0.8629885057471265, 0.8629885057471265, 0.8629885057471265, 0.8629885057471265, 0.8662068965517242, 0.8662068965517242, 0.8662068965517242, 0.8662068965517242, 0.8662068965517242, 0.8662068965517242, 0.8662068965517242, 0.8662068965517242, 0.8662068965517242, 0.8662068965517242, 0.8662068965517242, 0.8662068965517242, 0.8662068965517242, 0.8729885057471265, 0.8729885057471265]}], \"AUC_weighted\": [{\"categories\": [\"0\", \"1\", \"2\", \"3\", \"4\", \"5\", \"6\", \"7\", \"8\", \"9\", \"10\", \"11\", \"12\", \"14\", \"15\", \"16\", \"17\", \"18\", \"19\", \"20\", \"21\", \"22\", \"23\", \"24\", \"25\", \"26\", \"27\", \"28\", \"29\", \"30\", \"31\", \"32\", \"33\", \"34\", \"35\", \"36\", \"37\", \"38\", \"39\", \"40\", \"41\", \"42\", \"43\", \"44\", \"45\", \"46\", \"47\", \"48\", \"49\", \"50\", \"51\", \"52\", \"53\", \"54\", \"63\", \"64\"], \"mode\": \"markers\", \"name\": \"AUC_weighted\", \"stepped\": false, \"type\": \"scatter\", \"data\": [0.8840955354735103, 0.8847369443591411, 0.905826666771232, 0.87795602271489, 0.9024444800516884, 0.8968049561761232, 0.87311545010418, 0.9010078664216536, 0.8712449611072038, 0.7496161006793443, 0.8763420225740018, 0.8824158812159958, 0.8986337982912925, 0.8677080769281572, 0.5203053263648802, 0.8734619511834042, 0.8236089120748732, 0.8909645992176312, 0.9089099837731132, 0.8991352100332077, 0.8415052566088036, 0.8634173735007259, 0.8632452305555279, 0.829529863443193, 0.8932386477007187, 0.8956466586701713, 0.9075151509923248, 0.8920484615964593, 0.8986942894951475, 0.8549893177305362, 0.8835990615262356, 0.8866897456916336, 0.9099483657816038, 0.9104745980288887, 0.9052392955379224, 0.8567138217469454, 0.8988397969561586, 0.9013365565593826, 0.886603573684981, 0.8450212663025592, 0.8979953715811269, 0.9013236311298669, 0.8825642034654047, 0.8985407920878175, 0.8806116079202176, 0.8704845637094494, 0.8680176567901968, 0.897465807112203, 0.8986409225743323, 0.7923920026790736, 0.8846689374952534, 0.877860723806662, 0.875739003608054, 0.9060425498308794, 0.9263249305466124, 0.9224203009169829]}, {\"categories\": [\"0\", \"1\", \"2\", \"3\", \"4\", \"5\", \"6\", \"7\", \"8\", \"9\", \"10\", \"11\", \"12\", \"14\", \"15\", \"16\", \"17\", \"18\", \"19\", \"20\", \"21\", \"22\", \"23\", \"24\", \"25\", \"26\", \"27\", \"28\", \"29\", \"30\", \"31\", \"32\", \"33\", \"34\", \"35\", \"36\", \"37\", \"38\", \"39\", \"40\", \"41\", \"42\", \"43\", \"44\", \"45\", \"46\", \"47\", \"48\", \"49\", \"50\", \"51\", \"52\", \"53\", \"54\", \"63\", \"64\"], \"mode\": \"lines\", \"name\": \"AUC_weighted_max\", \"stepped\": true, \"type\": \"scatter\", \"data\": [0.8840955354735103, 0.8847369443591411, 0.905826666771232, 0.905826666771232, 0.905826666771232, 0.905826666771232, 0.905826666771232, 0.905826666771232, 0.905826666771232, 0.905826666771232, 0.905826666771232, 0.905826666771232, 0.905826666771232, 0.905826666771232, 0.905826666771232, 0.905826666771232, 0.905826666771232, 0.905826666771232, 0.9089099837731132, 0.9089099837731132, 0.9089099837731132, 0.9089099837731132, 0.9089099837731132, 0.9089099837731132, 0.9089099837731132, 0.9089099837731132, 0.9089099837731132, 0.9089099837731132, 0.9089099837731132, 0.9089099837731132, 0.9089099837731132, 0.9089099837731132, 0.9099483657816038, 0.9104745980288887, 0.9104745980288887, 0.9104745980288887, 0.9104745980288887, 0.9104745980288887, 0.9104745980288887, 0.9104745980288887, 0.9104745980288887, 0.9104745980288887, 0.9104745980288887, 0.9104745980288887, 0.9104745980288887, 0.9104745980288887, 0.9104745980288887, 0.9104745980288887, 0.9104745980288887, 0.9104745980288887, 0.9104745980288887, 0.9104745980288887, 0.9104745980288887, 0.9104745980288887, 0.9263249305466124, 0.9263249305466124]}], \"average_precision_score_macro\": [{\"categories\": [\"0\", \"1\", \"2\", \"3\", \"4\", \"5\", \"6\", \"7\", \"8\", \"9\", \"10\", \"11\", \"12\", \"14\", \"15\", \"16\", \"17\", \"18\", \"19\", \"20\", \"21\", \"22\", \"23\", \"24\", \"25\", \"26\", \"27\", \"28\", \"29\", \"30\", \"31\", \"32\", \"33\", \"34\", \"35\", \"36\", \"37\", \"38\", \"39\", \"40\", \"41\", \"42\", \"43\", \"44\", \"45\", \"46\", \"47\", \"48\", \"49\", \"50\", \"51\", \"52\", \"53\", \"54\", \"63\", \"64\"], \"mode\": \"markers\", \"name\": \"average_precision_score_macro\", \"stepped\": false, \"type\": \"scatter\", \"data\": [0.8807888197525153, 0.8807340475847678, 0.904532068670334, 0.8705038376973994, 0.8971886746539605, 0.8776485032758412, 0.8689078571662691, 0.9002209901477954, 0.8696175359941736, 0.7610796181270093, 0.8677044498271362, 0.8852014652624852, 0.8846891799740382, 0.8527561193379244, 0.5793782772753733, 0.8526985936607566, 0.805820322138476, 0.8844213895111096, 0.8985389415472792, 0.8825102987487806, 0.8424538356658975, 0.8616642485775777, 0.8580967947304068, 0.8281802892951122, 0.8732401420549467, 0.8907105383194984, 0.903179845795866, 0.8808221880192534, 0.8918700360456674, 0.8348633339430013, 0.8671721136736347, 0.8788298046745794, 0.9029730654893973, 0.9001165448222184, 0.8958011448678537, 0.8398941544520128, 0.8922101343545299, 0.896233353549667, 0.8851612529981938, 0.814848987340498, 0.891743623015153, 0.8962625152126751, 0.883708250366789, 0.8895798758087725, 0.8814370404019497, 0.8706096972251615, 0.8713585432556157, 0.8877149494328641, 0.8810399462289947, 0.7763587947762327, 0.8779574862575892, 0.8759630029618783, 0.8625837385267724, 0.8920835404770407, 0.9153967599671194, 0.912829991770862]}, {\"categories\": [\"0\", \"1\", \"2\", \"3\", \"4\", \"5\", \"6\", \"7\", \"8\", \"9\", \"10\", \"11\", \"12\", \"14\", \"15\", \"16\", \"17\", \"18\", \"19\", \"20\", \"21\", \"22\", \"23\", \"24\", \"25\", \"26\", \"27\", \"28\", \"29\", \"30\", \"31\", \"32\", \"33\", \"34\", \"35\", \"36\", \"37\", \"38\", \"39\", \"40\", \"41\", \"42\", \"43\", \"44\", \"45\", \"46\", \"47\", \"48\", \"49\", \"50\", \"51\", \"52\", \"53\", \"54\", \"63\", \"64\"], \"mode\": \"lines\", \"name\": \"average_precision_score_macro_max\", \"stepped\": true, \"type\": \"scatter\", \"data\": [0.8807888197525153, 0.8807888197525153, 0.904532068670334, 0.904532068670334, 0.904532068670334, 0.904532068670334, 0.904532068670334, 0.904532068670334, 0.904532068670334, 0.904532068670334, 0.904532068670334, 0.904532068670334, 0.904532068670334, 0.904532068670334, 0.904532068670334, 0.904532068670334, 0.904532068670334, 0.904532068670334, 0.904532068670334, 0.904532068670334, 0.904532068670334, 0.904532068670334, 0.904532068670334, 0.904532068670334, 0.904532068670334, 0.904532068670334, 0.904532068670334, 0.904532068670334, 0.904532068670334, 0.904532068670334, 0.904532068670334, 0.904532068670334, 0.904532068670334, 0.904532068670334, 0.904532068670334, 0.904532068670334, 0.904532068670334, 0.904532068670334, 0.904532068670334, 0.904532068670334, 0.904532068670334, 0.904532068670334, 0.904532068670334, 0.904532068670334, 0.904532068670334, 0.904532068670334, 0.904532068670334, 0.904532068670334, 0.904532068670334, 0.904532068670334, 0.904532068670334, 0.904532068670334, 0.904532068670334, 0.904532068670334, 0.9153967599671194, 0.9153967599671194]}], \"precision_score_weighted\": [{\"categories\": [\"0\", \"1\", \"2\", \"3\", \"4\", \"5\", \"6\", \"7\", \"8\", \"9\", \"10\", \"11\", \"12\", \"14\", \"15\", \"16\", \"17\", \"18\", \"19\", \"20\", \"21\", \"22\", \"23\", \"24\", \"25\", \"26\", \"27\", \"28\", \"29\", \"30\", \"31\", \"32\", \"33\", \"34\", \"35\", \"36\", \"37\", \"38\", \"39\", \"40\", \"41\", \"42\", \"43\", \"44\", \"45\", \"46\", \"47\", \"48\", \"49\", \"50\", \"51\", \"52\", \"53\", \"54\", \"63\", \"64\"], \"mode\": \"markers\", \"name\": \"precision_score_weighted\", \"stepped\": false, \"type\": \"scatter\", \"data\": [0.8443308716969533, 0.8506678986628277, 0.8610204134945514, 0.8347267226276971, 0.8460591087085696, 0.852447275320468, 0.8447758664741203, 0.8743176236177499, 0.8183531644332493, 0.7837569262377359, 0.7933614682585448, 0.8423765368518241, 0.8390727265511406, 0.8341626291073345, 0.6261394969463244, 0.811210908363482, 0.7847478128977599, 0.8439415809060231, 0.8350718081947862, 0.8698835046762333, 0.8109884243175184, 0.8464500963803813, 0.7728228394013175, 0.8012473284461665, 0.8428105889939588, 0.8588267763860851, 0.8585008210180624, 0.8426995536114725, 0.851133082518891, 0.7838032495555235, 0.8248174712274057, 0.8353385776207615, 0.8714784182972339, 0.8678402235754075, 0.8774795161942837, 0.8052444255012313, 0.8548168715065267, 0.8420330790953731, 0.862958980949086, 0.8105671078602112, 0.8451683899239016, 0.8844424890818973, 0.8193306995972913, 0.8770731622463652, 0.47055053507728895, 0.841980591628346, 0.8479246238372692, 0.8667346835310802, 0.8302936813034265, 0.5339298454221166, 0.8503271757394696, 0.8456662203280644, 0.7886978865338359, 0.8752868205687191, 0.8919211589019449, 0.6365200969528556]}, {\"categories\": [\"0\", \"1\", \"2\", \"3\", \"4\", \"5\", \"6\", \"7\", \"8\", \"9\", \"10\", \"11\", \"12\", \"14\", \"15\", \"16\", \"17\", \"18\", \"19\", \"20\", \"21\", \"22\", \"23\", \"24\", \"25\", \"26\", \"27\", \"28\", \"29\", \"30\", \"31\", \"32\", \"33\", \"34\", \"35\", \"36\", \"37\", \"38\", \"39\", \"40\", \"41\", \"42\", \"43\", \"44\", \"45\", \"46\", \"47\", \"48\", \"49\", \"50\", \"51\", \"52\", \"53\", \"54\", \"63\", \"64\"], \"mode\": \"lines\", \"name\": \"precision_score_weighted_max\", \"stepped\": true, \"type\": \"scatter\", \"data\": [0.8443308716969533, 0.8506678986628277, 0.8610204134945514, 0.8610204134945514, 0.8610204134945514, 0.8610204134945514, 0.8610204134945514, 0.8743176236177499, 0.8743176236177499, 0.8743176236177499, 0.8743176236177499, 0.8743176236177499, 0.8743176236177499, 0.8743176236177499, 0.8743176236177499, 0.8743176236177499, 0.8743176236177499, 0.8743176236177499, 0.8743176236177499, 0.8743176236177499, 0.8743176236177499, 0.8743176236177499, 0.8743176236177499, 0.8743176236177499, 0.8743176236177499, 0.8743176236177499, 0.8743176236177499, 0.8743176236177499, 0.8743176236177499, 0.8743176236177499, 0.8743176236177499, 0.8743176236177499, 0.8743176236177499, 0.8743176236177499, 0.8774795161942837, 0.8774795161942837, 0.8774795161942837, 0.8774795161942837, 0.8774795161942837, 0.8774795161942837, 0.8774795161942837, 0.8844424890818973, 0.8844424890818973, 0.8844424890818973, 0.8844424890818973, 0.8844424890818973, 0.8844424890818973, 0.8844424890818973, 0.8844424890818973, 0.8844424890818973, 0.8844424890818973, 0.8844424890818973, 0.8844424890818973, 0.8844424890818973, 0.8919211589019449, 0.8919211589019449]}], \"recall_score_weighted\": [{\"categories\": [\"0\", \"1\", \"2\", \"3\", \"4\", \"5\", \"6\", \"7\", \"8\", \"9\", \"10\", \"11\", \"12\", \"14\", \"15\", \"16\", \"17\", \"18\", \"19\", \"20\", \"21\", \"22\", \"23\", \"24\", \"25\", \"26\", \"27\", \"28\", \"29\", \"30\", \"31\", \"32\", \"33\", \"34\", \"35\", \"36\", \"37\", \"38\", \"39\", \"40\", \"41\", \"42\", \"43\", \"44\", \"45\", \"46\", \"47\", \"48\", \"49\", \"50\", \"51\", \"52\", \"53\", \"54\", \"63\", \"64\"], \"mode\": \"markers\", \"name\": \"recall_score_weighted\", \"stepped\": false, \"type\": \"scatter\", \"data\": [0.8359770114942527, 0.8358620689655172, 0.8493103448275864, 0.8062068965517242, 0.8293103448275863, 0.8427586206896553, 0.8258620689655173, 0.8629885057471265, 0.7893103448275862, 0.7659770114942528, 0.7794252873563218, 0.8227586206896552, 0.8022988505747126, 0.8122988505747125, 0.6389655172413793, 0.7726436781609195, 0.7556321839080459, 0.8189655172413793, 0.8258620689655173, 0.859425287356322, 0.7889655172413793, 0.8293103448275861, 0.7291954022988506, 0.7757471264367817, 0.8155172413793105, 0.8491954022988507, 0.8459770114942529, 0.8327586206896551, 0.8393103448275863, 0.7589655172413794, 0.8058620689655174, 0.8190804597701149, 0.8560919540229885, 0.8560919540229885, 0.8563218390804599, 0.7955172413793103, 0.8394252873563219, 0.8194252873563219, 0.8462068965517243, 0.7956321839080459, 0.8327586206896551, 0.8662068965517242, 0.7760919540229885, 0.8562068965517241, 0.6791954022988507, 0.8224137931034482, 0.8257471264367815, 0.8560919540229885, 0.8094252873563219, 0.6858620689655173, 0.8327586206896551, 0.8262068965517241, 0.7358620689655173, 0.8562068965517243, 0.8729885057471265, 0.7495402298850574]}, {\"categories\": [\"0\", \"1\", \"2\", \"3\", \"4\", \"5\", \"6\", \"7\", \"8\", \"9\", \"10\", \"11\", \"12\", \"14\", \"15\", \"16\", \"17\", \"18\", \"19\", \"20\", \"21\", \"22\", \"23\", \"24\", \"25\", \"26\", \"27\", \"28\", \"29\", \"30\", \"31\", \"32\", \"33\", \"34\", \"35\", \"36\", \"37\", \"38\", \"39\", \"40\", \"41\", \"42\", \"43\", \"44\", \"45\", \"46\", \"47\", \"48\", \"49\", \"50\", \"51\", \"52\", \"53\", \"54\", \"63\", \"64\"], \"mode\": \"lines\", \"name\": \"recall_score_weighted_max\", \"stepped\": true, \"type\": \"scatter\", \"data\": [0.8359770114942527, 0.8359770114942527, 0.8493103448275864, 0.8493103448275864, 0.8493103448275864, 0.8493103448275864, 0.8493103448275864, 0.8629885057471265, 0.8629885057471265, 0.8629885057471265, 0.8629885057471265, 0.8629885057471265, 0.8629885057471265, 0.8629885057471265, 0.8629885057471265, 0.8629885057471265, 0.8629885057471265, 0.8629885057471265, 0.8629885057471265, 0.8629885057471265, 0.8629885057471265, 0.8629885057471265, 0.8629885057471265, 0.8629885057471265, 0.8629885057471265, 0.8629885057471265, 0.8629885057471265, 0.8629885057471265, 0.8629885057471265, 0.8629885057471265, 0.8629885057471265, 0.8629885057471265, 0.8629885057471265, 0.8629885057471265, 0.8629885057471265, 0.8629885057471265, 0.8629885057471265, 0.8629885057471265, 0.8629885057471265, 0.8629885057471265, 0.8629885057471265, 0.8662068965517242, 0.8662068965517242, 0.8662068965517242, 0.8662068965517242, 0.8662068965517242, 0.8662068965517242, 0.8662068965517242, 0.8662068965517242, 0.8662068965517242, 0.8662068965517242, 0.8662068965517242, 0.8662068965517242, 0.8662068965517242, 0.8729885057471265, 0.8729885057471265]}], \"norm_macro_recall\": [{\"categories\": [\"0\", \"1\", \"2\", \"3\", \"4\", \"5\", \"6\", \"7\", \"8\", \"9\", \"10\", \"11\", \"12\", \"14\", \"15\", \"16\", \"17\", \"18\", \"19\", \"20\", \"21\", \"22\", \"23\", \"24\", \"25\", \"26\", \"27\", \"28\", \"29\", \"30\", \"31\", \"32\", \"33\", \"34\", \"35\", \"36\", \"37\", \"38\", \"39\", \"40\", \"41\", \"42\", \"43\", \"44\", \"45\", \"46\", \"47\", \"48\", \"49\", \"50\", \"51\", \"52\", \"53\", \"54\", \"63\", \"64\"], \"mode\": \"markers\", \"name\": \"norm_macro_recall\", \"stepped\": false, \"type\": \"scatter\", \"data\": [0.6154165791620023, 0.626049804187676, 0.6324658310796754, 0.4497248308518332, 0.6333119178050528, 0.6258113027958566, 0.6055943663506592, 0.6380008676170004, 0.40717511004124274, 0.3560714227928186, 0.3851636741722554, 0.48718412880026146, 0.6302244015836693, 0.6085246276098679, 0.1267612930547713, 0.33425265238194296, 0.48220852856779634, 0.6363864222479783, 0.5662958359337078, 0.6532007423037172, 0.5681612133099547, 0.6100293875333922, 0.14500360750360747, 0.5199985528709785, 0.6289118266681195, 0.6323672645051364, 0.6416062711125641, 0.5448469980947098, 0.5837569376339399, 0.3609835970030478, 0.5062074520953239, 0.530549975069426, 0.6522042053420771, 0.6535750567129285, 0.6594145228023945, 0.5156457010444424, 0.6505340583012208, 0.5582275913763328, 0.5767909109070436, 0.5461123601163647, 0.5633232529611247, 0.6720041787604716, 0.34633515607199816, 0.6611455929018859, 0.0, 0.6202555152703895, 0.6257845461809992, 0.6471028344907063, 0.49375146363933553, 0.022222222222222233, 0.5778562711125639, 0.5123067839229167, 0.18883038459125417, 0.6513293857172575, 0.684117796137247, 0.3338396386222473]}, {\"categories\": [\"0\", \"1\", \"2\", \"3\", \"4\", \"5\", \"6\", \"7\", \"8\", \"9\", \"10\", \"11\", \"12\", \"14\", \"15\", \"16\", \"17\", \"18\", \"19\", \"20\", \"21\", \"22\", \"23\", \"24\", \"25\", \"26\", \"27\", \"28\", \"29\", \"30\", \"31\", \"32\", \"33\", \"34\", \"35\", \"36\", \"37\", \"38\", \"39\", \"40\", \"41\", \"42\", \"43\", \"44\", \"45\", \"46\", \"47\", \"48\", \"49\", \"50\", \"51\", \"52\", \"53\", \"54\", \"63\", \"64\"], \"mode\": \"lines\", \"name\": \"norm_macro_recall_max\", \"stepped\": true, \"type\": \"scatter\", \"data\": [0.6154165791620023, 0.626049804187676, 0.6324658310796754, 0.6324658310796754, 0.6333119178050528, 0.6333119178050528, 0.6333119178050528, 0.6380008676170004, 0.6380008676170004, 0.6380008676170004, 0.6380008676170004, 0.6380008676170004, 0.6380008676170004, 0.6380008676170004, 0.6380008676170004, 0.6380008676170004, 0.6380008676170004, 0.6380008676170004, 0.6380008676170004, 0.6532007423037172, 0.6532007423037172, 0.6532007423037172, 0.6532007423037172, 0.6532007423037172, 0.6532007423037172, 0.6532007423037172, 0.6532007423037172, 0.6532007423037172, 0.6532007423037172, 0.6532007423037172, 0.6532007423037172, 0.6532007423037172, 0.6532007423037172, 0.6535750567129285, 0.6594145228023945, 0.6594145228023945, 0.6594145228023945, 0.6594145228023945, 0.6594145228023945, 0.6594145228023945, 0.6594145228023945, 0.6720041787604716, 0.6720041787604716, 0.6720041787604716, 0.6720041787604716, 0.6720041787604716, 0.6720041787604716, 0.6720041787604716, 0.6720041787604716, 0.6720041787604716, 0.6720041787604716, 0.6720041787604716, 0.6720041787604716, 0.6720041787604716, 0.684117796137247, 0.684117796137247]}], \"log_loss\": [{\"categories\": [\"0\", \"1\", \"2\", \"3\", \"4\", \"5\", \"6\", \"7\", \"8\", \"9\", \"10\", \"11\", \"12\", \"14\", \"15\", \"16\", \"17\", \"18\", \"19\", \"20\", \"21\", \"22\", \"23\", \"24\", \"25\", \"26\", \"27\", \"28\", \"29\", \"30\", \"31\", \"32\", \"33\", \"34\", \"35\", \"36\", \"37\", \"38\", \"39\", \"40\", \"41\", \"42\", \"43\", \"44\", \"45\", \"46\", \"47\", \"48\", \"49\", \"50\", \"51\", \"52\", \"53\", \"54\", \"63\", \"64\"], \"mode\": \"markers\", \"name\": \"log_loss\", \"stepped\": false, \"type\": \"scatter\", \"data\": [0.4772179826627182, 0.41764279466886123, 0.3774611052650208, 0.46155728493688475, 0.37907480967306406, 0.4000364736610825, 0.41178782281833326, 0.3879333692174339, 0.47689286142349535, 1.2837639362986895, 0.4707218257736918, 0.43729868759628515, 0.4303973523926919, 0.45806827591085114, 0.7617709563916407, 0.4783402603024868, 0.6422874616649804, 0.530957106083881, 0.4652367527361444, 0.3702239026350521, 0.5223065098728619, 0.4837425999287758, 0.5225842657558071, 0.5722017236583088, 0.45097090226419134, 0.394958421578941, 0.36709574548911306, 0.44445598291054605, 0.39838524116252083, 0.536206282216625, 0.43546186909304596, 0.4066282924932393, 0.35559536476617637, 0.35588812837030076, 0.40464124321997963, 0.4340809664648904, 0.5751170441882404, 0.43334078783074564, 0.4295928356311246, 0.5533240386118983, 0.40160459345480026, 0.38596890290992286, 0.4868583516792361, 0.40217931020387676, 0.604314842637587, 0.5652926824303875, 0.49337513220107576, 0.3841654665050303, 0.4195043184408701, 0.5815625913096704, 0.4103140045984829, 0.45725497072355337, 0.5141830605745976, 0.4046309653077243, 0.3858987661930585, 0.5225814407382819]}, {\"categories\": [\"0\", \"1\", \"2\", \"3\", \"4\", \"5\", \"6\", \"7\", \"8\", \"9\", \"10\", \"11\", \"12\", \"14\", \"15\", \"16\", \"17\", \"18\", \"19\", \"20\", \"21\", \"22\", \"23\", \"24\", \"25\", \"26\", \"27\", \"28\", \"29\", \"30\", \"31\", \"32\", \"33\", \"34\", \"35\", \"36\", \"37\", \"38\", \"39\", \"40\", \"41\", \"42\", \"43\", \"44\", \"45\", \"46\", \"47\", \"48\", \"49\", \"50\", \"51\", \"52\", \"53\", \"54\", \"63\", \"64\"], \"mode\": \"lines\", \"name\": \"log_loss_min\", \"stepped\": true, \"type\": \"scatter\", \"data\": [0.4772179826627182, 0.41764279466886123, 0.3774611052650208, 0.3774611052650208, 0.3774611052650208, 0.3774611052650208, 0.3774611052650208, 0.3774611052650208, 0.3774611052650208, 0.3774611052650208, 0.3774611052650208, 0.3774611052650208, 0.3774611052650208, 0.3774611052650208, 0.3774611052650208, 0.3774611052650208, 0.3774611052650208, 0.3774611052650208, 0.3774611052650208, 0.3702239026350521, 0.3702239026350521, 0.3702239026350521, 0.3702239026350521, 0.3702239026350521, 0.3702239026350521, 0.3702239026350521, 0.36709574548911306, 0.36709574548911306, 0.36709574548911306, 0.36709574548911306, 0.36709574548911306, 0.36709574548911306, 0.35559536476617637, 0.35559536476617637, 0.35559536476617637, 0.35559536476617637, 0.35559536476617637, 0.35559536476617637, 0.35559536476617637, 0.35559536476617637, 0.35559536476617637, 0.35559536476617637, 0.35559536476617637, 0.35559536476617637, 0.35559536476617637, 0.35559536476617637, 0.35559536476617637, 0.35559536476617637, 0.35559536476617637, 0.35559536476617637, 0.35559536476617637, 0.35559536476617637, 0.35559536476617637, 0.35559536476617637, 0.35559536476617637, 0.35559536476617637]}], \"f1_score_weighted\": [{\"categories\": [\"0\", \"1\", \"2\", \"3\", \"4\", \"5\", \"6\", \"7\", \"8\", \"9\", \"10\", \"11\", \"12\", \"14\", \"15\", \"16\", \"17\", \"18\", \"19\", \"20\", \"21\", \"22\", \"23\", \"24\", \"25\", \"26\", \"27\", \"28\", \"29\", \"30\", \"31\", \"32\", \"33\", \"34\", \"35\", \"36\", \"37\", \"38\", \"39\", \"40\", \"41\", \"42\", \"43\", \"44\", \"45\", \"46\", \"47\", \"48\", \"49\", \"50\", \"51\", \"52\", \"53\", \"54\", \"63\", \"64\"], \"mode\": \"markers\", \"name\": \"f1_score_weighted\", \"stepped\": false, \"type\": \"scatter\", \"data\": [0.8333388901455894, 0.8342588560383983, 0.845736959959536, 0.7847065420816399, 0.8300171451955398, 0.841355688191339, 0.8242303288378959, 0.8583728449894059, 0.7620731068799593, 0.743922190318357, 0.7551067231097832, 0.8080632350624907, 0.807419741416352, 0.8152847984297802, 0.6071892452709331, 0.7359943115313925, 0.757057255654279, 0.823577484614493, 0.8208423832388133, 0.8561708093311541, 0.7937602018876517, 0.8259130945017688, 0.6523731316388517, 0.7774699944237445, 0.8205159022283341, 0.8456344448780644, 0.8435260312041241, 0.8211522541636878, 0.8318696389214606, 0.7358737281206168, 0.7970540831904459, 0.8102170987989659, 0.8513880183377447, 0.852321428225053, 0.8507104133306382, 0.7924610439763515, 0.8387282564426052, 0.8121777306705219, 0.836431096589904, 0.7973901769207409, 0.8254498780662558, 0.8617564864443779, 0.7390337090757118, 0.851041046733061, 0.5534120288954022, 0.8249393266614332, 0.827510695980801, 0.853886426275032, 0.7959502512337859, 0.5677179112483434, 0.8264488072405042, 0.8122761022626156, 0.6659544671846801, 0.8511415568145531, 0.8676950680007479, 0.6746020554463946]}, {\"categories\": [\"0\", \"1\", \"2\", \"3\", \"4\", \"5\", \"6\", \"7\", \"8\", \"9\", \"10\", \"11\", \"12\", \"14\", \"15\", \"16\", \"17\", \"18\", \"19\", \"20\", \"21\", \"22\", \"23\", \"24\", \"25\", \"26\", \"27\", \"28\", \"29\", \"30\", \"31\", \"32\", \"33\", \"34\", \"35\", \"36\", \"37\", \"38\", \"39\", \"40\", \"41\", \"42\", \"43\", \"44\", \"45\", \"46\", \"47\", \"48\", \"49\", \"50\", \"51\", \"52\", \"53\", \"54\", \"63\", \"64\"], \"mode\": \"lines\", \"name\": \"f1_score_weighted_max\", \"stepped\": true, \"type\": \"scatter\", \"data\": [0.8333388901455894, 0.8342588560383983, 0.845736959959536, 0.845736959959536, 0.845736959959536, 0.845736959959536, 0.845736959959536, 0.8583728449894059, 0.8583728449894059, 0.8583728449894059, 0.8583728449894059, 0.8583728449894059, 0.8583728449894059, 0.8583728449894059, 0.8583728449894059, 0.8583728449894059, 0.8583728449894059, 0.8583728449894059, 0.8583728449894059, 0.8583728449894059, 0.8583728449894059, 0.8583728449894059, 0.8583728449894059, 0.8583728449894059, 0.8583728449894059, 0.8583728449894059, 0.8583728449894059, 0.8583728449894059, 0.8583728449894059, 0.8583728449894059, 0.8583728449894059, 0.8583728449894059, 0.8583728449894059, 0.8583728449894059, 0.8583728449894059, 0.8583728449894059, 0.8583728449894059, 0.8583728449894059, 0.8583728449894059, 0.8583728449894059, 0.8583728449894059, 0.8617564864443779, 0.8617564864443779, 0.8617564864443779, 0.8617564864443779, 0.8617564864443779, 0.8617564864443779, 0.8617564864443779, 0.8617564864443779, 0.8617564864443779, 0.8617564864443779, 0.8617564864443779, 0.8617564864443779, 0.8617564864443779, 0.8676950680007479, 0.8676950680007479]}], \"precision_score_micro\": [{\"categories\": [\"0\", \"1\", \"2\", \"3\", \"4\", \"5\", \"6\", \"7\", \"8\", \"9\", \"10\", \"11\", \"12\", \"14\", \"15\", \"16\", \"17\", \"18\", \"19\", \"20\", \"21\", \"22\", \"23\", \"24\", \"25\", \"26\", \"27\", \"28\", \"29\", \"30\", \"31\", \"32\", \"33\", \"34\", \"35\", \"36\", \"37\", \"38\", \"39\", \"40\", \"41\", \"42\", \"43\", \"44\", \"45\", \"46\", \"47\", \"48\", \"49\", \"50\", \"51\", \"52\", \"53\", \"54\", \"63\", \"64\"], \"mode\": \"markers\", \"name\": \"precision_score_micro\", \"stepped\": false, \"type\": \"scatter\", \"data\": [0.8359770114942527, 0.8358620689655172, 0.8493103448275864, 0.8062068965517242, 0.8293103448275863, 0.8427586206896553, 0.8258620689655173, 0.8629885057471265, 0.7893103448275862, 0.7659770114942528, 0.7794252873563218, 0.8227586206896552, 0.8022988505747126, 0.8122988505747125, 0.6389655172413793, 0.7726436781609195, 0.7556321839080459, 0.8189655172413793, 0.8258620689655173, 0.859425287356322, 0.7889655172413793, 0.8293103448275861, 0.7291954022988506, 0.7757471264367817, 0.8155172413793105, 0.8491954022988507, 0.8459770114942529, 0.8327586206896551, 0.8393103448275863, 0.7589655172413794, 0.8058620689655174, 0.8190804597701149, 0.8560919540229885, 0.8560919540229885, 0.8563218390804599, 0.7955172413793103, 0.8394252873563219, 0.8194252873563219, 0.8462068965517243, 0.7956321839080459, 0.8327586206896551, 0.8662068965517242, 0.7760919540229885, 0.8562068965517241, 0.6791954022988507, 0.8224137931034482, 0.8257471264367815, 0.8560919540229885, 0.8094252873563219, 0.6858620689655173, 0.8327586206896551, 0.8262068965517241, 0.7358620689655173, 0.8562068965517243, 0.8729885057471265, 0.7495402298850574]}, {\"categories\": [\"0\", \"1\", \"2\", \"3\", \"4\", \"5\", \"6\", \"7\", \"8\", \"9\", \"10\", \"11\", \"12\", \"14\", \"15\", \"16\", \"17\", \"18\", \"19\", \"20\", \"21\", \"22\", \"23\", \"24\", \"25\", \"26\", \"27\", \"28\", \"29\", \"30\", \"31\", \"32\", \"33\", \"34\", \"35\", \"36\", \"37\", \"38\", \"39\", \"40\", \"41\", \"42\", \"43\", \"44\", \"45\", \"46\", \"47\", \"48\", \"49\", \"50\", \"51\", \"52\", \"53\", \"54\", \"63\", \"64\"], \"mode\": \"lines\", \"name\": \"precision_score_micro_max\", \"stepped\": true, \"type\": \"scatter\", \"data\": [0.8359770114942527, 0.8359770114942527, 0.8493103448275864, 0.8493103448275864, 0.8493103448275864, 0.8493103448275864, 0.8493103448275864, 0.8629885057471265, 0.8629885057471265, 0.8629885057471265, 0.8629885057471265, 0.8629885057471265, 0.8629885057471265, 0.8629885057471265, 0.8629885057471265, 0.8629885057471265, 0.8629885057471265, 0.8629885057471265, 0.8629885057471265, 0.8629885057471265, 0.8629885057471265, 0.8629885057471265, 0.8629885057471265, 0.8629885057471265, 0.8629885057471265, 0.8629885057471265, 0.8629885057471265, 0.8629885057471265, 0.8629885057471265, 0.8629885057471265, 0.8629885057471265, 0.8629885057471265, 0.8629885057471265, 0.8629885057471265, 0.8629885057471265, 0.8629885057471265, 0.8629885057471265, 0.8629885057471265, 0.8629885057471265, 0.8629885057471265, 0.8629885057471265, 0.8662068965517242, 0.8662068965517242, 0.8662068965517242, 0.8662068965517242, 0.8662068965517242, 0.8662068965517242, 0.8662068965517242, 0.8662068965517242, 0.8662068965517242, 0.8662068965517242, 0.8662068965517242, 0.8662068965517242, 0.8662068965517242, 0.8729885057471265, 0.8729885057471265]}], \"accuracy\": [{\"categories\": [\"0\", \"1\", \"2\", \"3\", \"4\", \"5\", \"6\", \"7\", \"8\", \"9\", \"10\", \"11\", \"12\", \"14\", \"15\", \"16\", \"17\", \"18\", \"19\", \"20\", \"21\", \"22\", \"23\", \"24\", \"25\", \"26\", \"27\", \"28\", \"29\", \"30\", \"31\", \"32\", \"33\", \"34\", \"35\", \"36\", \"37\", \"38\", \"39\", \"40\", \"41\", \"42\", \"43\", \"44\", \"45\", \"46\", \"47\", \"48\", \"49\", \"50\", \"51\", \"52\", \"53\", \"54\", \"63\", \"64\"], \"mode\": \"markers\", \"name\": \"accuracy\", \"stepped\": false, \"type\": \"scatter\", \"data\": [0.8359770114942527, 0.8358620689655172, 0.8493103448275864, 0.8062068965517242, 0.8293103448275863, 0.8427586206896553, 0.8258620689655173, 0.8629885057471265, 0.7893103448275862, 0.7659770114942528, 0.7794252873563218, 0.8227586206896552, 0.8022988505747126, 0.8122988505747125, 0.6389655172413793, 0.7726436781609195, 0.7556321839080459, 0.8189655172413793, 0.8258620689655173, 0.859425287356322, 0.7889655172413793, 0.8293103448275861, 0.7291954022988506, 0.7757471264367817, 0.8155172413793105, 0.8491954022988507, 0.8459770114942529, 0.8327586206896551, 0.8393103448275863, 0.7589655172413794, 0.8058620689655174, 0.8190804597701149, 0.8560919540229885, 0.8560919540229885, 0.8563218390804599, 0.7955172413793103, 0.8394252873563219, 0.8194252873563219, 0.8462068965517243, 0.7956321839080459, 0.8327586206896551, 0.8662068965517242, 0.7760919540229885, 0.8562068965517241, 0.6791954022988507, 0.8224137931034482, 0.8257471264367815, 0.8560919540229885, 0.8094252873563219, 0.6858620689655173, 0.8327586206896551, 0.8262068965517241, 0.7358620689655173, 0.8562068965517243, 0.8729885057471265, 0.7495402298850574]}, {\"categories\": [\"0\", \"1\", \"2\", \"3\", \"4\", \"5\", \"6\", \"7\", \"8\", \"9\", \"10\", \"11\", \"12\", \"14\", \"15\", \"16\", \"17\", \"18\", \"19\", \"20\", \"21\", \"22\", \"23\", \"24\", \"25\", \"26\", \"27\", \"28\", \"29\", \"30\", \"31\", \"32\", \"33\", \"34\", \"35\", \"36\", \"37\", \"38\", \"39\", \"40\", \"41\", \"42\", \"43\", \"44\", \"45\", \"46\", \"47\", \"48\", \"49\", \"50\", \"51\", \"52\", \"53\", \"54\", \"63\", \"64\"], \"mode\": \"lines\", \"name\": \"accuracy_max\", \"stepped\": true, \"type\": \"scatter\", \"data\": [0.8359770114942527, 0.8359770114942527, 0.8493103448275864, 0.8493103448275864, 0.8493103448275864, 0.8493103448275864, 0.8493103448275864, 0.8629885057471265, 0.8629885057471265, 0.8629885057471265, 0.8629885057471265, 0.8629885057471265, 0.8629885057471265, 0.8629885057471265, 0.8629885057471265, 0.8629885057471265, 0.8629885057471265, 0.8629885057471265, 0.8629885057471265, 0.8629885057471265, 0.8629885057471265, 0.8629885057471265, 0.8629885057471265, 0.8629885057471265, 0.8629885057471265, 0.8629885057471265, 0.8629885057471265, 0.8629885057471265, 0.8629885057471265, 0.8629885057471265, 0.8629885057471265, 0.8629885057471265, 0.8629885057471265, 0.8629885057471265, 0.8629885057471265, 0.8629885057471265, 0.8629885057471265, 0.8629885057471265, 0.8629885057471265, 0.8629885057471265, 0.8629885057471265, 0.8662068965517242, 0.8662068965517242, 0.8662068965517242, 0.8662068965517242, 0.8662068965517242, 0.8662068965517242, 0.8662068965517242, 0.8662068965517242, 0.8662068965517242, 0.8662068965517242, 0.8662068965517242, 0.8662068965517242, 0.8662068965517242, 0.8729885057471265, 0.8729885057471265]}], \"precision_score_macro\": [{\"categories\": [\"0\", \"1\", \"2\", \"3\", \"4\", \"5\", \"6\", \"7\", \"8\", \"9\", \"10\", \"11\", \"12\", \"14\", \"15\", \"16\", \"17\", \"18\", \"19\", \"20\", \"21\", \"22\", \"23\", \"24\", \"25\", \"26\", \"27\", \"28\", \"29\", \"30\", \"31\", \"32\", \"33\", \"34\", \"35\", \"36\", \"37\", \"38\", \"39\", \"40\", \"41\", \"42\", \"43\", \"44\", \"45\", \"46\", \"47\", \"48\", \"49\", \"50\", \"51\", \"52\", \"53\", \"54\", \"63\", \"64\"], \"mode\": \"markers\", \"name\": \"precision_score_macro\", \"stepped\": false, \"type\": \"scatter\", \"data\": [0.8167365852764965, 0.8232986049897815, 0.8377727272727272, 0.8418847348303871, 0.8039539313455724, 0.8230848904053575, 0.8098706187248388, 0.8665273741006005, 0.8207996009626445, 0.7703082497212932, 0.7791041965281096, 0.8537762145262147, 0.7810183618728679, 0.7843082962676784, 0.5543597592139792, 0.8228077392927469, 0.730740321414874, 0.7912448611647697, 0.8096246520451326, 0.8488807798481712, 0.7547818512756593, 0.8143857519292302, 0.7568076081007116, 0.7550281934249325, 0.7871429134161333, 0.833033247719511, 0.8303403679653678, 0.8343030339225992, 0.8361868232835052, 0.7611671356019183, 0.7990201670945378, 0.8194449254449255, 0.8569304741152568, 0.8515513968838777, 0.8602451715586726, 0.7685671375408216, 0.8221215728715728, 0.8179494033172523, 0.8711225380899293, 0.7655069112174375, 0.8289626063613478, 0.8744794289966924, 0.8390319185645272, 0.8640720946355958, 0.33959770114942534, 0.7967456624024635, 0.8038595769555521, 0.8371151375545978, 0.8101902638424378, 0.44201149425287356, 0.8322894915915512, 0.8556048697679133, 0.7945839262908228, 0.8642291489974557, 0.8847332253939806, 0.5956505161505162]}, {\"categories\": [\"0\", \"1\", \"2\", \"3\", \"4\", \"5\", \"6\", \"7\", \"8\", \"9\", \"10\", \"11\", \"12\", \"14\", \"15\", \"16\", \"17\", \"18\", \"19\", \"20\", \"21\", \"22\", \"23\", \"24\", \"25\", \"26\", \"27\", \"28\", \"29\", \"30\", \"31\", \"32\", \"33\", \"34\", \"35\", \"36\", \"37\", \"38\", \"39\", \"40\", \"41\", \"42\", \"43\", \"44\", \"45\", \"46\", \"47\", \"48\", \"49\", \"50\", \"51\", \"52\", \"53\", \"54\", \"63\", \"64\"], \"mode\": \"lines\", \"name\": \"precision_score_macro_max\", \"stepped\": true, \"type\": \"scatter\", \"data\": [0.8167365852764965, 0.8232986049897815, 0.8377727272727272, 0.8418847348303871, 0.8418847348303871, 0.8418847348303871, 0.8418847348303871, 0.8665273741006005, 0.8665273741006005, 0.8665273741006005, 0.8665273741006005, 0.8665273741006005, 0.8665273741006005, 0.8665273741006005, 0.8665273741006005, 0.8665273741006005, 0.8665273741006005, 0.8665273741006005, 0.8665273741006005, 0.8665273741006005, 0.8665273741006005, 0.8665273741006005, 0.8665273741006005, 0.8665273741006005, 0.8665273741006005, 0.8665273741006005, 0.8665273741006005, 0.8665273741006005, 0.8665273741006005, 0.8665273741006005, 0.8665273741006005, 0.8665273741006005, 0.8665273741006005, 0.8665273741006005, 0.8665273741006005, 0.8665273741006005, 0.8665273741006005, 0.8665273741006005, 0.8711225380899293, 0.8711225380899293, 0.8711225380899293, 0.8744794289966924, 0.8744794289966924, 0.8744794289966924, 0.8744794289966924, 0.8744794289966924, 0.8744794289966924, 0.8744794289966924, 0.8744794289966924, 0.8744794289966924, 0.8744794289966924, 0.8744794289966924, 0.8744794289966924, 0.8744794289966924, 0.8847332253939806, 0.8847332253939806]}], \"balanced_accuracy\": [{\"categories\": [\"0\", \"1\", \"2\", \"3\", \"4\", \"5\", \"6\", \"7\", \"8\", \"9\", \"10\", \"11\", \"12\", \"14\", \"15\", \"16\", \"17\", \"18\", \"19\", \"20\", \"21\", \"22\", \"23\", \"24\", \"25\", \"26\", \"27\", \"28\", \"29\", \"30\", \"31\", \"32\", \"33\", \"34\", \"35\", \"36\", \"37\", \"38\", \"39\", \"40\", \"41\", \"42\", \"43\", \"44\", \"45\", \"46\", \"47\", \"48\", \"49\", \"50\", \"51\", \"52\", \"53\", \"54\", \"63\", \"64\"], \"mode\": \"markers\", \"name\": \"balanced_accuracy\", \"stepped\": false, \"type\": \"scatter\", \"data\": [0.8077082895810014, 0.8130249020938379, 0.8162329155398377, 0.7248624154259166, 0.8166559589025265, 0.8129056513979283, 0.8027971831753294, 0.8190004338085002, 0.7035875550206214, 0.6780357113964093, 0.6925818370861277, 0.7435920644001307, 0.8151122007918348, 0.804262313804934, 0.5513534193685796, 0.6671263261909715, 0.7411042642838982, 0.8181932111239891, 0.7831479179668539, 0.8266003711518586, 0.7840806066549775, 0.8050146937666961, 0.5725018037518037, 0.7599992764354893, 0.8144559133340599, 0.8161836322525682, 0.820803135556282, 0.7724234990473549, 0.79187846881697, 0.6804917985015239, 0.753103726047662, 0.765274987534713, 0.8261021026710387, 0.8267875283564642, 0.8297072614011973, 0.7578228505222213, 0.8252670291506103, 0.7791137956881664, 0.7883954554535219, 0.7730561800581823, 0.7816616264805625, 0.8360020893802357, 0.6731675780359991, 0.8305727964509428, 0.5, 0.8101277576351947, 0.8128922730904996, 0.8235514172453531, 0.7468757318196678, 0.5111111111111111, 0.7889281355562818, 0.7561533919614584, 0.5944151922956271, 0.8256646928586286, 0.8420588980686234, 0.6669198193111237]}, {\"categories\": [\"0\", \"1\", \"2\", \"3\", \"4\", \"5\", \"6\", \"7\", \"8\", \"9\", \"10\", \"11\", \"12\", \"14\", \"15\", \"16\", \"17\", \"18\", \"19\", \"20\", \"21\", \"22\", \"23\", \"24\", \"25\", \"26\", \"27\", \"28\", \"29\", \"30\", \"31\", \"32\", \"33\", \"34\", \"35\", \"36\", \"37\", \"38\", \"39\", \"40\", \"41\", \"42\", \"43\", \"44\", \"45\", \"46\", \"47\", \"48\", \"49\", \"50\", \"51\", \"52\", \"53\", \"54\", \"63\", \"64\"], \"mode\": \"lines\", \"name\": \"balanced_accuracy_max\", \"stepped\": true, \"type\": \"scatter\", \"data\": [0.8077082895810014, 0.8130249020938379, 0.8162329155398377, 0.8162329155398377, 0.8166559589025265, 0.8166559589025265, 0.8166559589025265, 0.8190004338085002, 0.8190004338085002, 0.8190004338085002, 0.8190004338085002, 0.8190004338085002, 0.8190004338085002, 0.8190004338085002, 0.8190004338085002, 0.8190004338085002, 0.8190004338085002, 0.8190004338085002, 0.8190004338085002, 0.8266003711518586, 0.8266003711518586, 0.8266003711518586, 0.8266003711518586, 0.8266003711518586, 0.8266003711518586, 0.8266003711518586, 0.8266003711518586, 0.8266003711518586, 0.8266003711518586, 0.8266003711518586, 0.8266003711518586, 0.8266003711518586, 0.8266003711518586, 0.8267875283564642, 0.8297072614011973, 0.8297072614011973, 0.8297072614011973, 0.8297072614011973, 0.8297072614011973, 0.8297072614011973, 0.8297072614011973, 0.8360020893802357, 0.8360020893802357, 0.8360020893802357, 0.8360020893802357, 0.8360020893802357, 0.8360020893802357, 0.8360020893802357, 0.8360020893802357, 0.8360020893802357, 0.8360020893802357, 0.8360020893802357, 0.8360020893802357, 0.8360020893802357, 0.8420588980686234, 0.8420588980686234]}], \"average_precision_score_micro\": [{\"categories\": [\"0\", \"1\", \"2\", \"3\", \"4\", \"5\", \"6\", \"7\", \"8\", \"9\", \"10\", \"11\", \"12\", \"14\", \"15\", \"16\", \"17\", \"18\", \"19\", \"20\", \"21\", \"22\", \"23\", \"24\", \"25\", \"26\", \"27\", \"28\", \"29\", \"30\", \"31\", \"32\", \"33\", \"34\", \"35\", \"36\", \"37\", \"38\", \"39\", \"40\", \"41\", \"42\", \"43\", \"44\", \"45\", \"46\", \"47\", \"48\", \"49\", \"50\", \"51\", \"52\", \"53\", \"54\", \"63\", \"64\"], \"mode\": \"markers\", \"name\": \"average_precision_score_micro\", \"stepped\": false, \"type\": \"scatter\", \"data\": [0.9020054536251629, 0.9033793522124445, 0.9224076777854057, 0.8841707479784595, 0.9143868613329733, 0.9082129320713918, 0.8844344562336814, 0.9156383801378816, 0.873846477868337, 0.7964089391804331, 0.8765135493253476, 0.8951163845671253, 0.8923691053691052, 0.8792189258257664, 0.6466874753087125, 0.8734575049791896, 0.8302425698082005, 0.894321971016774, 0.9145380507917885, 0.9101213602115816, 0.8639665051080172, 0.8864086676498413, 0.8573210217643196, 0.8396768873537519, 0.8900558253053455, 0.9126230860555415, 0.9165136754115502, 0.8937052845074843, 0.9101303451239444, 0.8568537216151395, 0.8961935230377021, 0.9079777172006851, 0.9254146149593868, 0.924181474530681, 0.9081213218350737, 0.8793281271904098, 0.9047266229335591, 0.9058313767856591, 0.8964678375081057, 0.8678372293678052, 0.9074365750222878, 0.9080775291241426, 0.871147359097278, 0.9045491450735478, 0.8534936718258687, 0.8843517094424131, 0.8846245715197488, 0.9163352243891314, 0.8988471882791147, 0.8120290822026496, 0.898125881701208, 0.8837988492753241, 0.8589388718276755, 0.9114940889537142, 0.9289700615317044, 0.8913205109773792]}, {\"categories\": [\"0\", \"1\", \"2\", \"3\", \"4\", \"5\", \"6\", \"7\", \"8\", \"9\", \"10\", \"11\", \"12\", \"14\", \"15\", \"16\", \"17\", \"18\", \"19\", \"20\", \"21\", \"22\", \"23\", \"24\", \"25\", \"26\", \"27\", \"28\", \"29\", \"30\", \"31\", \"32\", \"33\", \"34\", \"35\", \"36\", \"37\", \"38\", \"39\", \"40\", \"41\", \"42\", \"43\", \"44\", \"45\", \"46\", \"47\", \"48\", \"49\", \"50\", \"51\", \"52\", \"53\", \"54\", \"63\", \"64\"], \"mode\": \"lines\", \"name\": \"average_precision_score_micro_max\", \"stepped\": true, \"type\": \"scatter\", \"data\": [0.9020054536251629, 0.9033793522124445, 0.9224076777854057, 0.9224076777854057, 0.9224076777854057, 0.9224076777854057, 0.9224076777854057, 0.9224076777854057, 0.9224076777854057, 0.9224076777854057, 0.9224076777854057, 0.9224076777854057, 0.9224076777854057, 0.9224076777854057, 0.9224076777854057, 0.9224076777854057, 0.9224076777854057, 0.9224076777854057, 0.9224076777854057, 0.9224076777854057, 0.9224076777854057, 0.9224076777854057, 0.9224076777854057, 0.9224076777854057, 0.9224076777854057, 0.9224076777854057, 0.9224076777854057, 0.9224076777854057, 0.9224076777854057, 0.9224076777854057, 0.9224076777854057, 0.9224076777854057, 0.9254146149593868, 0.9254146149593868, 0.9254146149593868, 0.9254146149593868, 0.9254146149593868, 0.9254146149593868, 0.9254146149593868, 0.9254146149593868, 0.9254146149593868, 0.9254146149593868, 0.9254146149593868, 0.9254146149593868, 0.9254146149593868, 0.9254146149593868, 0.9254146149593868, 0.9254146149593868, 0.9254146149593868, 0.9254146149593868, 0.9254146149593868, 0.9254146149593868, 0.9254146149593868, 0.9254146149593868, 0.9289700615317044, 0.9289700615317044]}], \"recall_score_macro\": [{\"categories\": [\"0\", \"1\", \"2\", \"3\", \"4\", \"5\", \"6\", \"7\", \"8\", \"9\", \"10\", \"11\", \"12\", \"14\", \"15\", \"16\", \"17\", \"18\", \"19\", \"20\", \"21\", \"22\", \"23\", \"24\", \"25\", \"26\", \"27\", \"28\", \"29\", \"30\", \"31\", \"32\", \"33\", \"34\", \"35\", \"36\", \"37\", \"38\", \"39\", \"40\", \"41\", \"42\", \"43\", \"44\", \"45\", \"46\", \"47\", \"48\", \"49\", \"50\", \"51\", \"52\", \"53\", \"54\", \"63\", \"64\"], \"mode\": \"markers\", \"name\": \"recall_score_macro\", \"stepped\": false, \"type\": \"scatter\", \"data\": [0.8077082895810014, 0.8130249020938379, 0.8162329155398377, 0.7248624154259166, 0.8166559589025265, 0.8129056513979283, 0.8027971831753294, 0.8190004338085002, 0.7035875550206214, 0.6780357113964093, 0.6925818370861277, 0.7435920644001307, 0.8151122007918348, 0.804262313804934, 0.5513534193685796, 0.6671263261909715, 0.7411042642838982, 0.8181932111239891, 0.7831479179668539, 0.8266003711518586, 0.7840806066549775, 0.8050146937666961, 0.5725018037518037, 0.7599992764354893, 0.8144559133340599, 0.8161836322525682, 0.820803135556282, 0.7724234990473549, 0.79187846881697, 0.6804917985015239, 0.753103726047662, 0.765274987534713, 0.8261021026710387, 0.8267875283564642, 0.8297072614011973, 0.7578228505222213, 0.8252670291506103, 0.7791137956881664, 0.7883954554535219, 0.7730561800581823, 0.7816616264805625, 0.8360020893802357, 0.6731675780359991, 0.8305727964509428, 0.5, 0.8101277576351947, 0.8128922730904996, 0.8235514172453531, 0.7468757318196678, 0.5111111111111111, 0.7889281355562818, 0.7561533919614584, 0.5944151922956271, 0.8256646928586286, 0.8420588980686234, 0.6669198193111237]}, {\"categories\": [\"0\", \"1\", \"2\", \"3\", \"4\", \"5\", \"6\", \"7\", \"8\", \"9\", \"10\", \"11\", \"12\", \"14\", \"15\", \"16\", \"17\", \"18\", \"19\", \"20\", \"21\", \"22\", \"23\", \"24\", \"25\", \"26\", \"27\", \"28\", \"29\", \"30\", \"31\", \"32\", \"33\", \"34\", \"35\", \"36\", \"37\", \"38\", \"39\", \"40\", \"41\", \"42\", \"43\", \"44\", \"45\", \"46\", \"47\", \"48\", \"49\", \"50\", \"51\", \"52\", \"53\", \"54\", \"63\", \"64\"], \"mode\": \"lines\", \"name\": \"recall_score_macro_max\", \"stepped\": true, \"type\": \"scatter\", \"data\": [0.8077082895810014, 0.8130249020938379, 0.8162329155398377, 0.8162329155398377, 0.8166559589025265, 0.8166559589025265, 0.8166559589025265, 0.8190004338085002, 0.8190004338085002, 0.8190004338085002, 0.8190004338085002, 0.8190004338085002, 0.8190004338085002, 0.8190004338085002, 0.8190004338085002, 0.8190004338085002, 0.8190004338085002, 0.8190004338085002, 0.8190004338085002, 0.8266003711518586, 0.8266003711518586, 0.8266003711518586, 0.8266003711518586, 0.8266003711518586, 0.8266003711518586, 0.8266003711518586, 0.8266003711518586, 0.8266003711518586, 0.8266003711518586, 0.8266003711518586, 0.8266003711518586, 0.8266003711518586, 0.8266003711518586, 0.8267875283564642, 0.8297072614011973, 0.8297072614011973, 0.8297072614011973, 0.8297072614011973, 0.8297072614011973, 0.8297072614011973, 0.8297072614011973, 0.8360020893802357, 0.8360020893802357, 0.8360020893802357, 0.8360020893802357, 0.8360020893802357, 0.8360020893802357, 0.8360020893802357, 0.8360020893802357, 0.8360020893802357, 0.8360020893802357, 0.8360020893802357, 0.8360020893802357, 0.8360020893802357, 0.8420588980686234, 0.8420588980686234]}], \"AUC_micro\": [{\"categories\": [\"0\", \"1\", \"2\", \"3\", \"4\", \"5\", \"6\", \"7\", \"8\", \"9\", \"10\", \"11\", \"12\", \"14\", \"15\", \"16\", \"17\", \"18\", \"19\", \"20\", \"21\", \"22\", \"23\", \"24\", \"25\", \"26\", \"27\", \"28\", \"29\", \"30\", \"31\", \"32\", \"33\", \"34\", \"35\", \"36\", \"37\", \"38\", \"39\", \"40\", \"41\", \"42\", \"43\", \"44\", \"45\", \"46\", \"47\", \"48\", \"49\", \"50\", \"51\", \"52\", \"53\", \"54\", \"63\", \"64\"], \"mode\": \"markers\", \"name\": \"AUC_micro\", \"stepped\": false, \"type\": \"scatter\", \"data\": [0.9035422116527941, 0.9042166732725592, 0.9204155106354868, 0.8793024177566389, 0.9105402298850576, 0.9056747258554629, 0.8867948209803144, 0.9155811864182851, 0.868704056017968, 0.8096416963931828, 0.872245871317215, 0.8922634429911481, 0.8893668912670101, 0.8787529396221428, 0.6464215880565465, 0.8663511692429647, 0.8275346809353945, 0.8921134892323952, 0.9104369137270446, 0.9091543136477739, 0.8594176245210727, 0.886021799445105, 0.8421854934601664, 0.8370824415378518, 0.8867958779231074, 0.9093433742898664, 0.9159534945171093, 0.8887858369665741, 0.9062732197119832, 0.8548307570352754, 0.8912010833663627, 0.9007176641564275, 0.9211327784383669, 0.9207506936187079, 0.9066687805522526, 0.87064962346413, 0.9036883339939227, 0.9024485400977673, 0.8935090500726648, 0.8610355397014138, 0.9040684370458447, 0.9071697714361211, 0.8653745541022593, 0.9036161976483024, 0.8379320914255516, 0.8848367023384858, 0.8875949266745937, 0.9146376007398599, 0.8963218390804597, 0.8015792046505483, 0.8963550006605893, 0.8808423834059982, 0.8479184832870921, 0.9082672744087728, 0.9243042674065267, 0.8755186946756506]}, {\"categories\": [\"0\", \"1\", \"2\", \"3\", \"4\", \"5\", \"6\", \"7\", \"8\", \"9\", \"10\", \"11\", \"12\", \"14\", \"15\", \"16\", \"17\", \"18\", \"19\", \"20\", \"21\", \"22\", \"23\", \"24\", \"25\", \"26\", \"27\", \"28\", \"29\", \"30\", \"31\", \"32\", \"33\", \"34\", \"35\", \"36\", \"37\", \"38\", \"39\", \"40\", \"41\", \"42\", \"43\", \"44\", \"45\", \"46\", \"47\", \"48\", \"49\", \"50\", \"51\", \"52\", \"53\", \"54\", \"63\", \"64\"], \"mode\": \"lines\", \"name\": \"AUC_micro_max\", \"stepped\": true, \"type\": \"scatter\", \"data\": [0.9035422116527941, 0.9042166732725592, 0.9204155106354868, 0.9204155106354868, 0.9204155106354868, 0.9204155106354868, 0.9204155106354868, 0.9204155106354868, 0.9204155106354868, 0.9204155106354868, 0.9204155106354868, 0.9204155106354868, 0.9204155106354868, 0.9204155106354868, 0.9204155106354868, 0.9204155106354868, 0.9204155106354868, 0.9204155106354868, 0.9204155106354868, 0.9204155106354868, 0.9204155106354868, 0.9204155106354868, 0.9204155106354868, 0.9204155106354868, 0.9204155106354868, 0.9204155106354868, 0.9204155106354868, 0.9204155106354868, 0.9204155106354868, 0.9204155106354868, 0.9204155106354868, 0.9204155106354868, 0.9211327784383669, 0.9211327784383669, 0.9211327784383669, 0.9211327784383669, 0.9211327784383669, 0.9211327784383669, 0.9211327784383669, 0.9211327784383669, 0.9211327784383669, 0.9211327784383669, 0.9211327784383669, 0.9211327784383669, 0.9211327784383669, 0.9211327784383669, 0.9211327784383669, 0.9211327784383669, 0.9211327784383669, 0.9211327784383669, 0.9211327784383669, 0.9211327784383669, 0.9211327784383669, 0.9211327784383669, 0.9243042674065267, 0.9243042674065267]}], \"matthews_correlation\": [{\"categories\": [\"0\", \"1\", \"2\", \"3\", \"4\", \"5\", \"6\", \"7\", \"8\", \"9\", \"10\", \"11\", \"12\", \"14\", \"15\", \"16\", \"17\", \"18\", \"19\", \"20\", \"21\", \"22\", \"23\", \"24\", \"25\", \"26\", \"27\", \"28\", \"29\", \"30\", \"31\", \"32\", \"33\", \"34\", \"35\", \"36\", \"37\", \"38\", \"39\", \"40\", \"41\", \"42\", \"43\", \"44\", \"45\", \"46\", \"47\", \"48\", \"49\", \"50\", \"51\", \"52\", \"53\", \"54\", \"63\", \"64\"], \"mode\": \"markers\", \"name\": \"matthews_correlation\", \"stepped\": false, \"type\": \"scatter\", \"data\": [0.6231314496952846, 0.6345538749068885, 0.6522732758575014, 0.5480652570576182, 0.6193106773327234, 0.6350483914143681, 0.610872127479346, 0.6819145977729624, 0.5058811189273476, 0.4352854456898543, 0.4609613505617503, 0.5833601432329119, 0.5942288955163592, 0.5874591929786199, 0.10426477830980234, 0.4499170593333523, 0.47023106176713647, 0.6081217397722305, 0.591194297640371, 0.6742119137808784, 0.5367583011507708, 0.6169434412654368, 0.27856939833865885, 0.5129718444263754, 0.5997404440823593, 0.6479591597250274, 0.6495358207619815, 0.6019153896970976, 0.6247630831988628, 0.4295792510190604, 0.5472050098264545, 0.5786210969607651, 0.6796143253982978, 0.6761889171135603, 0.6862732104547122, 0.5244234897861432, 0.6459213761247378, 0.59215425998445, 0.6519077177250988, 0.537119292440332, 0.6061809215351635, 0.7070888820144956, 0.4781396725888083, 0.6911521173412943, 0.0, 0.6052031552946858, 0.6146490995545599, 0.659291041552644, 0.5494191280136749, 0.05673086289311755, 0.6176793790803299, 0.6011742878983595, 0.3298868025425274, 0.6864276511545372, 0.723217710429127, 0.35833997109682997]}, {\"categories\": [\"0\", \"1\", \"2\", \"3\", \"4\", \"5\", \"6\", \"7\", \"8\", \"9\", \"10\", \"11\", \"12\", \"14\", \"15\", \"16\", \"17\", \"18\", \"19\", \"20\", \"21\", \"22\", \"23\", \"24\", \"25\", \"26\", \"27\", \"28\", \"29\", \"30\", \"31\", \"32\", \"33\", \"34\", \"35\", \"36\", \"37\", \"38\", \"39\", \"40\", \"41\", \"42\", \"43\", \"44\", \"45\", \"46\", \"47\", \"48\", \"49\", \"50\", \"51\", \"52\", \"53\", \"54\", \"63\", \"64\"], \"mode\": \"lines\", \"name\": \"matthews_correlation_max\", \"stepped\": true, \"type\": \"scatter\", \"data\": [0.6231314496952846, 0.6345538749068885, 0.6522732758575014, 0.6522732758575014, 0.6522732758575014, 0.6522732758575014, 0.6522732758575014, 0.6819145977729624, 0.6819145977729624, 0.6819145977729624, 0.6819145977729624, 0.6819145977729624, 0.6819145977729624, 0.6819145977729624, 0.6819145977729624, 0.6819145977729624, 0.6819145977729624, 0.6819145977729624, 0.6819145977729624, 0.6819145977729624, 0.6819145977729624, 0.6819145977729624, 0.6819145977729624, 0.6819145977729624, 0.6819145977729624, 0.6819145977729624, 0.6819145977729624, 0.6819145977729624, 0.6819145977729624, 0.6819145977729624, 0.6819145977729624, 0.6819145977729624, 0.6819145977729624, 0.6819145977729624, 0.6862732104547122, 0.6862732104547122, 0.6862732104547122, 0.6862732104547122, 0.6862732104547122, 0.6862732104547122, 0.6862732104547122, 0.7070888820144956, 0.7070888820144956, 0.7070888820144956, 0.7070888820144956, 0.7070888820144956, 0.7070888820144956, 0.7070888820144956, 0.7070888820144956, 0.7070888820144956, 0.7070888820144956, 0.7070888820144956, 0.7070888820144956, 0.7070888820144956, 0.723217710429127, 0.723217710429127]}], \"weighted_accuracy\": [{\"categories\": [\"0\", \"1\", \"2\", \"3\", \"4\", \"5\", \"6\", \"7\", \"8\", \"9\", \"10\", \"11\", \"12\", \"14\", \"15\", \"16\", \"17\", \"18\", \"19\", \"20\", \"21\", \"22\", \"23\", \"24\", \"25\", \"26\", \"27\", \"28\", \"29\", \"30\", \"31\", \"32\", \"33\", \"34\", \"35\", \"36\", \"37\", \"38\", \"39\", \"40\", \"41\", \"42\", \"43\", \"44\", \"45\", \"46\", \"47\", \"48\", \"49\", \"50\", \"51\", \"52\", \"53\", \"54\", \"63\", \"64\"], \"mode\": \"markers\", \"name\": \"weighted_accuracy\", \"stepped\": false, \"type\": \"scatter\", \"data\": [0.8541321922200625, 0.8502962163535492, 0.8695708719916178, 0.8597794765052527, 0.8371181359406279, 0.86179370275149, 0.8410001083305934, 0.8915404695713182, 0.8459343041959464, 0.8227930918585225, 0.8363630411647819, 0.8724563162812842, 0.7923548844457025, 0.8161433866624751, 0.6980167624045801, 0.8383417625198453, 0.7633031305817525, 0.8177389488547148, 0.8533454461004967, 0.879873182044577, 0.7931672693851723, 0.8449251677097436, 0.8268266101571881, 0.785176450259179, 0.8156006015729446, 0.869973546910988, 0.8620684865025797, 0.8722048555029012, 0.8702647112883806, 0.8104533010974173, 0.8393695149005126, 0.8527482216846112, 0.8753766359984226, 0.8746194373194112, 0.8740143896640042, 0.8209395252254603, 0.8491552070638642, 0.8469365862673384, 0.8837801927264748, 0.8089720913966421, 0.8643412980450101, 0.8851051504185315, 0.8429582109736318, 0.8729740789318085, 0.7931711479234276, 0.8304495164562942, 0.8350964164456224, 0.8752310526756413, 0.8485672576871008, 0.7966194237854964, 0.8603883285065326, 0.8719995424886016, 0.8257118481344199, 0.8765650569161757, 0.8933269594538096, 0.8093691609549285]}, {\"categories\": [\"0\", \"1\", \"2\", \"3\", \"4\", \"5\", \"6\", \"7\", \"8\", \"9\", \"10\", \"11\", \"12\", \"14\", \"15\", \"16\", \"17\", \"18\", \"19\", \"20\", \"21\", \"22\", \"23\", \"24\", \"25\", \"26\", \"27\", \"28\", \"29\", \"30\", \"31\", \"32\", \"33\", \"34\", \"35\", \"36\", \"37\", \"38\", \"39\", \"40\", \"41\", \"42\", \"43\", \"44\", \"45\", \"46\", \"47\", \"48\", \"49\", \"50\", \"51\", \"52\", \"53\", \"54\", \"63\", \"64\"], \"mode\": \"lines\", \"name\": \"weighted_accuracy_max\", \"stepped\": true, \"type\": \"scatter\", \"data\": [0.8541321922200625, 0.8541321922200625, 0.8695708719916178, 0.8695708719916178, 0.8695708719916178, 0.8695708719916178, 0.8695708719916178, 0.8915404695713182, 0.8915404695713182, 0.8915404695713182, 0.8915404695713182, 0.8915404695713182, 0.8915404695713182, 0.8915404695713182, 0.8915404695713182, 0.8915404695713182, 0.8915404695713182, 0.8915404695713182, 0.8915404695713182, 0.8915404695713182, 0.8915404695713182, 0.8915404695713182, 0.8915404695713182, 0.8915404695713182, 0.8915404695713182, 0.8915404695713182, 0.8915404695713182, 0.8915404695713182, 0.8915404695713182, 0.8915404695713182, 0.8915404695713182, 0.8915404695713182, 0.8915404695713182, 0.8915404695713182, 0.8915404695713182, 0.8915404695713182, 0.8915404695713182, 0.8915404695713182, 0.8915404695713182, 0.8915404695713182, 0.8915404695713182, 0.8915404695713182, 0.8915404695713182, 0.8915404695713182, 0.8915404695713182, 0.8915404695713182, 0.8915404695713182, 0.8915404695713182, 0.8915404695713182, 0.8915404695713182, 0.8915404695713182, 0.8915404695713182, 0.8915404695713182, 0.8915404695713182, 0.8933269594538096, 0.8933269594538096]}], \"average_precision_score_weighted\": [{\"categories\": [\"0\", \"1\", \"2\", \"3\", \"4\", \"5\", \"6\", \"7\", \"8\", \"9\", \"10\", \"11\", \"12\", \"14\", \"15\", \"16\", \"17\", \"18\", \"19\", \"20\", \"21\", \"22\", \"23\", \"24\", \"25\", \"26\", \"27\", \"28\", \"29\", \"30\", \"31\", \"32\", \"33\", \"34\", \"35\", \"36\", \"37\", \"38\", \"39\", \"40\", \"41\", \"42\", \"43\", \"44\", \"45\", \"46\", \"47\", \"48\", \"49\", \"50\", \"51\", \"52\", \"53\", \"54\", \"63\", \"64\"], \"mode\": \"markers\", \"name\": \"average_precision_score_weighted\", \"stepped\": false, \"type\": \"scatter\", \"data\": [0.9061112830231934, 0.907154018724502, 0.9243402036492695, 0.899572207904954, 0.9206447221749107, 0.9115718143444191, 0.8952805348420856, 0.9215492866695868, 0.8974229970150892, 0.7960613547349917, 0.8952684624132641, 0.907899773374354, 0.9123755020464428, 0.8883623791251409, 0.6358285919365991, 0.891665427912361, 0.8519411745310304, 0.909972180570867, 0.9235801903509394, 0.9116712805889181, 0.8735336462977887, 0.8917685994943124, 0.8941378765954772, 0.8637810318432877, 0.9078886947667657, 0.9156628360294314, 0.9230540486678874, 0.9084247319142109, 0.9164759327034341, 0.8702151629088439, 0.8999124883493824, 0.9101366352512356, 0.9264747495713479, 0.9247633216795033, 0.9177481789247389, 0.8796481698342413, 0.9159959860982466, 0.9171455136958736, 0.9086921001648338, 0.8632638927903106, 0.9152607402251963, 0.9161037088798635, 0.9067776852092407, 0.9108333600537742, 0.906402638041607, 0.8973482912562687, 0.8946720950314401, 0.9150982093278277, 0.9103498556182357, 0.8274508975335184, 0.9019945467459791, 0.901482298913821, 0.8966962535727994, 0.9168439345688222, 0.9364601471753288, 0.9345276884518483]}, {\"categories\": [\"0\", \"1\", \"2\", \"3\", \"4\", \"5\", \"6\", \"7\", \"8\", \"9\", \"10\", \"11\", \"12\", \"14\", \"15\", \"16\", \"17\", \"18\", \"19\", \"20\", \"21\", \"22\", \"23\", \"24\", \"25\", \"26\", \"27\", \"28\", \"29\", \"30\", \"31\", \"32\", \"33\", \"34\", \"35\", \"36\", \"37\", \"38\", \"39\", \"40\", \"41\", \"42\", \"43\", \"44\", \"45\", \"46\", \"47\", \"48\", \"49\", \"50\", \"51\", \"52\", \"53\", \"54\", \"63\", \"64\"], \"mode\": \"lines\", \"name\": \"average_precision_score_weighted_max\", \"stepped\": true, \"type\": \"scatter\", \"data\": [0.9061112830231934, 0.907154018724502, 0.9243402036492695, 0.9243402036492695, 0.9243402036492695, 0.9243402036492695, 0.9243402036492695, 0.9243402036492695, 0.9243402036492695, 0.9243402036492695, 0.9243402036492695, 0.9243402036492695, 0.9243402036492695, 0.9243402036492695, 0.9243402036492695, 0.9243402036492695, 0.9243402036492695, 0.9243402036492695, 0.9243402036492695, 0.9243402036492695, 0.9243402036492695, 0.9243402036492695, 0.9243402036492695, 0.9243402036492695, 0.9243402036492695, 0.9243402036492695, 0.9243402036492695, 0.9243402036492695, 0.9243402036492695, 0.9243402036492695, 0.9243402036492695, 0.9243402036492695, 0.9264747495713479, 0.9264747495713479, 0.9264747495713479, 0.9264747495713479, 0.9264747495713479, 0.9264747495713479, 0.9264747495713479, 0.9264747495713479, 0.9264747495713479, 0.9264747495713479, 0.9264747495713479, 0.9264747495713479, 0.9264747495713479, 0.9264747495713479, 0.9264747495713479, 0.9264747495713479, 0.9264747495713479, 0.9264747495713479, 0.9264747495713479, 0.9264747495713479, 0.9264747495713479, 0.9264747495713479, 0.9364601471753288, 0.9364601471753288]}]}, \"metricName\": null, \"primaryMetricName\": \"AUC_weighted\", \"showLegend\": false}, \"run_metrics\": [{\"name\": \"experiment_status\", \"run_id\": \"AutoML_fea5604c-b61b-4056-a4e4-96cf708b46b0\", \"categories\": [0, 1, 2, 3, 4, 5, 6, 7, 8, 9, 10, 11, 12, 13], \"series\": [{\"data\": [\"DatasetEvaluation\", \"FeaturesGeneration\", \"DatasetFeaturization\", \"DatasetFeaturizationCompleted\", \"DatasetCrossValidationSplit\", \"ModelSelection\", \"BestRunExplainModel\", \"ModelExplanationDataSetSetup\", \"PickSurrogateModel\", \"EngineeredFeatureExplanations\", \"EngineeredFeatureExplanations\", \"RawFeaturesExplanations\", \"RawFeaturesExplanations\", \"BestRunExplainModel\"]}]}, {\"name\": \"experiment_status_description\", \"run_id\": \"AutoML_fea5604c-b61b-4056-a4e4-96cf708b46b0\", \"categories\": [0, 1, 2, 3, 4, 5, 6, 7, 8, 9, 10, 11, 12, 13], \"series\": [{\"data\": [\"Gathering dataset statistics.\", \"Generating features for the dataset.\", \"Beginning to fit featurizers and featurize the dataset.\", \"Completed fit featurizers and featurizing the dataset.\", \"Generating individually featurized CV splits.\", \"Beginning model selection.\", \"Best run model explanations started\", \"Model explanations data setup completed\", \"Choosing LightGBM as the surrogate model for explanations\", \"Computation of engineered features started\", \"Computation of engineered features completed\", \"Computation of raw features started\", \"Computation of raw features completed\", \"Best run model explanations completed\"]}]}, {\"name\": \"precision_score_weighted\", \"run_id\": \"AutoML_fea5604c-b61b-4056-a4e4-96cf708b46b0\", \"categories\": [0], \"series\": [{\"data\": [0.8919211589019449]}]}, {\"name\": \"norm_macro_recall\", \"run_id\": \"AutoML_fea5604c-b61b-4056-a4e4-96cf708b46b0\", \"categories\": [0], \"series\": [{\"data\": [0.684117796137247]}]}, {\"name\": \"average_precision_score_weighted\", \"run_id\": \"AutoML_fea5604c-b61b-4056-a4e4-96cf708b46b0\", \"categories\": [0], \"series\": [{\"data\": [0.9364601471753288]}]}, {\"name\": \"AUC_micro\", \"run_id\": \"AutoML_fea5604c-b61b-4056-a4e4-96cf708b46b0\", \"categories\": [0], \"series\": [{\"data\": [0.9243042674065267]}]}, {\"name\": \"average_precision_score_macro\", \"run_id\": \"AutoML_fea5604c-b61b-4056-a4e4-96cf708b46b0\", \"categories\": [0], \"series\": [{\"data\": [0.9153967599671194]}]}, {\"name\": \"log_loss\", \"run_id\": \"AutoML_fea5604c-b61b-4056-a4e4-96cf708b46b0\", \"categories\": [0], \"series\": [{\"data\": [0.3858987661930585]}]}, {\"name\": \"AUC_weighted\", \"run_id\": \"AutoML_fea5604c-b61b-4056-a4e4-96cf708b46b0\", \"categories\": [0], \"series\": [{\"data\": [0.9263249305466124]}]}, {\"name\": \"precision_score_macro\", \"run_id\": \"AutoML_fea5604c-b61b-4056-a4e4-96cf708b46b0\", \"categories\": [0], \"series\": [{\"data\": [0.8847332253939806]}]}, {\"name\": \"precision_score_micro\", \"run_id\": \"AutoML_fea5604c-b61b-4056-a4e4-96cf708b46b0\", \"categories\": [0], \"series\": [{\"data\": [0.8729885057471265]}]}, {\"name\": \"recall_score_weighted\", \"run_id\": \"AutoML_fea5604c-b61b-4056-a4e4-96cf708b46b0\", \"categories\": [0], \"series\": [{\"data\": [0.8729885057471265]}]}, {\"name\": \"recall_score_micro\", \"run_id\": \"AutoML_fea5604c-b61b-4056-a4e4-96cf708b46b0\", \"categories\": [0], \"series\": [{\"data\": [0.8729885057471265]}]}, {\"name\": \"AUC_macro\", \"run_id\": \"AutoML_fea5604c-b61b-4056-a4e4-96cf708b46b0\", \"categories\": [0], \"series\": [{\"data\": [0.9263249305466126]}]}, {\"name\": \"accuracy\", \"run_id\": \"AutoML_fea5604c-b61b-4056-a4e4-96cf708b46b0\", \"categories\": [0], \"series\": [{\"data\": [0.8729885057471265]}]}, {\"name\": \"matthews_correlation\", \"run_id\": \"AutoML_fea5604c-b61b-4056-a4e4-96cf708b46b0\", \"categories\": [0], \"series\": [{\"data\": [0.723217710429127]}]}, {\"name\": \"average_precision_score_micro\", \"run_id\": \"AutoML_fea5604c-b61b-4056-a4e4-96cf708b46b0\", \"categories\": [0], \"series\": [{\"data\": [0.9289700615317044]}]}, {\"name\": \"f1_score_micro\", \"run_id\": \"AutoML_fea5604c-b61b-4056-a4e4-96cf708b46b0\", \"categories\": [0], \"series\": [{\"data\": [0.8729885057471265]}]}, {\"name\": \"weighted_accuracy\", \"run_id\": \"AutoML_fea5604c-b61b-4056-a4e4-96cf708b46b0\", \"categories\": [0], \"series\": [{\"data\": [0.8933269594538096]}]}, {\"name\": \"f1_score_macro\", \"run_id\": \"AutoML_fea5604c-b61b-4056-a4e4-96cf708b46b0\", \"categories\": [0], \"series\": [{\"data\": [0.8468079549483234]}]}, {\"name\": \"balanced_accuracy\", \"run_id\": \"AutoML_fea5604c-b61b-4056-a4e4-96cf708b46b0\", \"categories\": [0], \"series\": [{\"data\": [0.8420588980686234]}]}, {\"name\": \"f1_score_weighted\", \"run_id\": \"AutoML_fea5604c-b61b-4056-a4e4-96cf708b46b0\", \"categories\": [0], \"series\": [{\"data\": [0.8676950680007479]}]}, {\"name\": \"recall_score_macro\", \"run_id\": \"AutoML_fea5604c-b61b-4056-a4e4-96cf708b46b0\", \"categories\": [0], \"series\": [{\"data\": [0.8420588980686234]}]}], \"run_logs\": \"\\nRun is completed.\", \"graph\": {}, \"widget_settings\": {\"childWidgetDisplay\": \"popup\", \"send_telemetry\": false, \"log_level\": \"INFO\", \"sdk_version\": \"1.24.0\"}, \"loading\": false}"
          },
          "metadata": {}
        }
      ],
      "execution_count": 8,
      "metadata": {
        "gather": {
          "logged": 1617002549730
        },
        "jupyter": {
          "outputs_hidden": false,
          "source_hidden": false
        },
        "nteract": {
          "transient": {
            "deleting": false
          }
        }
      }
    },
    {
      "cell_type": "code",
      "source": [
        "remote_run.wait_for_completion(show_output=True)"
      ],
      "outputs": [
        {
          "output_type": "stream",
          "name": "stdout",
          "text": [
            "\n",
            "Current status: FeaturesGeneration. Generating features for the dataset.\n",
            "Current status: ModelSelection. Beginning model selection.\n",
            "\n",
            "****************************************************************************************************\n",
            "DATA GUARDRAILS: \n",
            "\n",
            "TYPE:         Cross validation\n",
            "STATUS:       DONE\n",
            "DESCRIPTION:  Each iteration of the trained model was validated through cross-validation.\n",
            "              \n",
            "DETAILS:      \n",
            "+---------------------------------+\n",
            "|Number of folds                  |\n",
            "+=================================+\n",
            "|10                               |\n",
            "+---------------------------------+\n",
            "\n",
            "****************************************************************************************************\n",
            "\n",
            "TYPE:         Class balancing detection\n",
            "STATUS:       PASSED\n",
            "DESCRIPTION:  Your inputs were analyzed, and all classes are balanced in your training data.\n",
            "              Learn more about imbalanced data: https://aka.ms/AutomatedMLImbalancedData\n",
            "\n",
            "****************************************************************************************************\n",
            "\n",
            "TYPE:         Missing feature values imputation\n",
            "STATUS:       PASSED\n",
            "DESCRIPTION:  No feature missing values were detected in the training data.\n",
            "              Learn more about missing value imputation: https://aka.ms/AutomatedMLFeaturization\n",
            "\n",
            "****************************************************************************************************\n",
            "\n",
            "TYPE:         High cardinality feature detection\n",
            "STATUS:       PASSED\n",
            "DESCRIPTION:  Your inputs were analyzed, and no high cardinality features were detected.\n",
            "              Learn more about high cardinality feature handling: https://aka.ms/AutomatedMLFeaturization\n",
            "\n",
            "****************************************************************************************************\n",
            "\n",
            "****************************************************************************************************\n",
            "ITERATION: The iteration being evaluated.\n",
            "PIPELINE: A summary description of the pipeline being evaluated.\n",
            "DURATION: Time taken for the current iteration.\n",
            "METRIC: The result of computing score on the fitted pipeline.\n",
            "BEST: The best observed score thus far.\n",
            "****************************************************************************************************\n",
            "\n",
            " ITERATION   PIPELINE                                       DURATION      METRIC      BEST\n",
            "         3   RobustScaler ExtremeRandomTrees                0:00:52       0.8780    0.8780\n",
            "         9   SparseNormalizer KNN                           0:00:40       0.7496    0.8780\n",
            "         2   MinMaxScaler RandomForest                      0:00:50       0.9058    0.9058\n",
            "         7   MinMaxScaler ExtremeRandomTrees                0:00:44       0.9010    0.9058\n",
            "        13                                                  0:00:02          nan    0.9058\n",
            "ERROR: {\n",
            "    \"additional_properties\": {},\n",
            "    \"error\": {\n",
            "        \"additional_properties\": {\n",
            "            \"debugInfo\": null\n",
            "        },\n",
            "        \"code\": \"UserError\",\n",
            "        \"severity\": null,\n",
            "        \"message\": \"Unable to find snapshot with id: c18e01b6-d279-4cde-b916-5fb68761c0cd\",\n",
            "        \"message_format\": null,\n",
            "        \"message_parameters\": null,\n",
            "        \"reference_code\": null,\n",
            "        \"details_uri\": null,\n",
            "        \"target\": null,\n",
            "        \"details\": [],\n",
            "        \"inner_error\": {\n",
            "            \"additional_properties\": {},\n",
            "            \"code\": \"NotFoundError\",\n",
            "            \"inner_error\": null\n",
            "        }\n",
            "    },\n",
            "    \"correlation\": {\n",
            "        \"operation\": \"1d0e2887602941478eb8343614cd626c\",\n",
            "        \"request\": \"0702b4eb2fa0e041\"\n",
            "    },\n",
            "    \"environment\": \"southcentralus\",\n",
            "    \"location\": \"southcentralus\",\n",
            "    \"time\": {},\n",
            "    \"component_name\": \"project\"\n",
            "}\n",
            "         8   MinMaxScaler ExtremeRandomTrees                0:00:38       0.8712    0.9058\n",
            "         4   MinMaxScaler RandomForest                      0:00:44       0.9024    0.9058\n",
            "         1   MaxAbsScaler XGBoostClassifier                 0:00:50       0.8847    0.9058\n",
            "         5   MinMaxScaler RandomForest                      0:05:15       0.8968    0.9058\n",
            "         6   StandardScalerWrapper RandomForest             0:05:17       0.8731    0.9058\n",
            "         0   MaxAbsScaler LightGBM                          0:05:20       0.8841    0.9058\n",
            "        11   RobustScaler ExtremeRandomTrees                0:00:37       0.8824    0.9058\n",
            "        10   MinMaxScaler ExtremeRandomTrees                0:00:50       0.8763    0.9058\n",
            "        12   StandardScalerWrapper RandomForest             0:00:43       0.8986    0.9058\n",
            "        14   RobustScaler RandomForest                      0:00:50       0.8677    0.9058\n",
            "        15   StandardScalerWrapper KNN                      0:00:50       0.5203    0.9058\n",
            "        16   MinMaxScaler RandomForest                      0:00:46       0.8735    0.9058\n",
            "        17   MinMaxScaler ExtremeRandomTrees                0:00:46       0.8236    0.9058\n",
            "        19   StandardScalerWrapper XGBoostClassifier        0:00:45       0.9089    0.9089\n",
            "        18   MaxAbsScaler RandomForest                      0:00:47       0.8910    0.9089\n",
            "        20   MaxAbsScaler RandomForest                      0:00:47       0.8991    0.9089\n",
            "        21   MaxAbsScaler ExtremeRandomTrees                0:00:39       0.8415    0.9089\n",
            "        22   MaxAbsScaler ExtremeRandomTrees                0:00:50       0.8634    0.9089\n",
            "        23   StandardScalerWrapper LightGBM                 0:00:44       0.8632    0.9089\n",
            "        24   StandardScalerWrapper ExtremeRandomTrees       0:00:43       0.8295    0.9089\n",
            "        25   MinMaxScaler RandomForest                      0:00:43       0.8932    0.9089\n",
            "        26   MinMaxScaler LightGBM                          0:00:43       0.8956    0.9089\n",
            "        27   MinMaxScaler LightGBM                          0:00:56       0.9075    0.9089\n",
            "        28   StandardScalerWrapper LightGBM                 0:00:49       0.8920    0.9089\n",
            "        29   StandardScalerWrapper LightGBM                 0:00:43       0.8987    0.9089\n",
            "        30   TruncatedSVDWrapper XGBoostClassifier          0:00:47       0.8550    0.9089\n",
            "        31   MaxAbsScaler LightGBM                          0:00:45       0.8836    0.9089\n",
            "        32   StandardScalerWrapper LightGBM                 0:00:42       0.8867    0.9089\n",
            "        33   MaxAbsScaler LightGBM                          0:00:39       0.9099    0.9099\n",
            "        34   MaxAbsScaler LightGBM                          0:00:53       0.9105    0.9105\n",
            "        35   SparseNormalizer XGBoostClassifier             0:00:44       0.9052    0.9105\n",
            "        36   TruncatedSVDWrapper XGBoostClassifier          0:00:44       0.8567    0.9105\n",
            "        37   RobustScaler GradientBoosting                  0:00:55       0.8988    0.9105\n",
            "        38   SparseNormalizer XGBoostClassifier             0:00:44       0.9013    0.9105\n",
            "        39   StandardScalerWrapper ExtremeRandomTrees       0:00:48       0.8866    0.9105\n",
            "        40   TruncatedSVDWrapper XGBoostClassifier          0:00:48       0.8450    0.9105\n",
            "        41   SparseNormalizer LightGBM                      0:00:46       0.8980    0.9105\n",
            "        42   SparseNormalizer XGBoostClassifier             0:00:50       0.9013    0.9105\n",
            "        43   RobustScaler ExtremeRandomTrees                0:00:55       0.8826    0.9105\n",
            "        44   SparseNormalizer XGBoostClassifier             0:00:54       0.8985    0.9105\n",
            "        45   MinMaxScaler LightGBM                          0:00:42       0.8806    0.9105\n",
            "        46   RobustScaler ExtremeRandomTrees                0:00:59       0.8705    0.9105\n",
            "        47   MinMaxScaler ExtremeRandomTrees                0:00:45       0.8680    0.9105\n",
            "        49   SparseNormalizer LightGBM                      0:00:44       0.8986    0.9105\n",
            "        48   MinMaxScaler GradientBoosting                  0:00:54       0.8975    0.9105\n",
            "        50   SparseNormalizer LightGBM                      0:00:41       0.7924    0.9105\n",
            "        51   SparseNormalizer XGBoostClassifier             0:00:45       0.8847    0.9105\n",
            "        52   MaxAbsScaler ExtremeRandomTrees                0:00:49       0.8779    0.9105\n",
            "        53   StandardScalerWrapper LightGBM                 0:00:51       0.8757    0.9105\n",
            "        54   SparseNormalizer XGBoostClassifier             0:00:44       0.9060    0.9105\n",
            "        55   MinMaxScaler LightGBM                          0:00:24          nan    0.9105\n",
            "        56                                                  0:00:10          nan    0.9105\n",
            "        57                                                  0:02:11          nan    0.9105\n",
            "        58                                                  0:02:07          nan    0.9105\n",
            "        59                                                  0:01:39          nan    0.9105\n",
            "        60                                                  0:01:12          nan    0.9105\n",
            "        61                                                  0:01:06          nan    0.9105\n",
            "        62                                                  0:00:35          nan    0.9105\n",
            "        63    VotingEnsemble                                0:01:39       0.9263    0.9263\n",
            "        64    StackEnsemble                                 0:01:38       0.9224    0.9263\n"
          ]
        },
        {
          "output_type": "execute_result",
          "execution_count": 9,
          "data": {
            "text/plain": "{'runId': 'AutoML_fea5604c-b61b-4056-a4e4-96cf708b46b0',\n 'target': 'cluster-capstone',\n 'status': 'Completed',\n 'startTimeUtc': '2021-03-29T07:22:44.821614Z',\n 'endTimeUtc': '2021-03-29T07:53:53.721993Z',\n 'properties': {'num_iterations': '1000',\n  'training_type': 'TrainFull',\n  'acquisition_function': 'EI',\n  'primary_metric': 'AUC_weighted',\n  'train_split': '0',\n  'acquisition_parameter': '0',\n  'num_cross_validation': None,\n  'target': 'cluster-capstone',\n  'AMLSettingsJsonString': '{\"path\":null,\"name\":\"heart-failure-prediction-automl\",\"subscription_id\":\"d4ad7261-832d-46b2-b093-22156001df5b\",\"resource_group\":\"aml-quickstarts-141541\",\"workspace_name\":\"quick-starts-ws-141541\",\"region\":\"southcentralus\",\"compute_target\":\"cluster-capstone\",\"spark_service\":null,\"azure_service\":\"remote\",\"many_models\":false,\"pipeline_fetch_max_batch_size\":1,\"enable_batch_run\":false,\"iterations\":1000,\"primary_metric\":\"AUC_weighted\",\"task_type\":\"classification\",\"data_script\":null,\"validation_size\":0.0,\"n_cross_validations\":null,\"y_min\":null,\"y_max\":null,\"num_classes\":null,\"featurization\":\"auto\",\"_ignore_package_version_incompatibilities\":false,\"is_timeseries\":false,\"max_cores_per_iteration\":1,\"max_concurrent_iterations\":10,\"iteration_timeout_minutes\":null,\"mem_in_mb\":null,\"enforce_time_on_windows\":false,\"experiment_timeout_minutes\":30,\"experiment_exit_score\":null,\"whitelist_models\":null,\"blacklist_algos\":[\"TensorFlowLinearClassifier\",\"TensorFlowDNN\"],\"supported_models\":[\"SGD\",\"BernoulliNaiveBayes\",\"SVM\",\"KNN\",\"RandomForest\",\"XGBoostClassifier\",\"GradientBoosting\",\"LightGBM\",\"DecisionTree\",\"TensorFlowDNN\",\"LogisticRegression\",\"LinearSVM\",\"AveragedPerceptronClassifier\",\"ExtremeRandomTrees\",\"MultinomialNaiveBayes\",\"TensorFlowLinearClassifier\"],\"private_models\":[],\"auto_blacklist\":true,\"blacklist_samples_reached\":false,\"exclude_nan_labels\":true,\"verbosity\":20,\"_debug_log\":\"azureml_automl.log\",\"show_warnings\":false,\"model_explainability\":true,\"service_url\":null,\"sdk_url\":null,\"sdk_packages\":null,\"enable_onnx_compatible_models\":false,\"enable_split_onnx_featurizer_estimator_models\":false,\"vm_type\":\"STANDARD_D2_V2\",\"telemetry_verbosity\":20,\"send_telemetry\":true,\"enable_dnn\":false,\"scenario\":\"SDK-1.13.0\",\"environment_label\":null,\"save_mlflow\":false,\"force_text_dnn\":false,\"enable_feature_sweeping\":true,\"enable_early_stopping\":true,\"early_stopping_n_iters\":10,\"metrics\":null,\"enable_metric_confidence\":false,\"enable_ensembling\":true,\"enable_stack_ensembling\":true,\"ensemble_iterations\":15,\"enable_tf\":false,\"enable_subsampling\":null,\"subsample_seed\":null,\"enable_nimbusml\":false,\"enable_streaming\":false,\"force_streaming\":false,\"track_child_runs\":true,\"allowed_private_models\":[],\"label_column_name\":\"DEATH_EVENT\",\"weight_column_name\":null,\"cv_split_column_names\":null,\"enable_local_managed\":false,\"_local_managed_run_id\":null,\"cost_mode\":1,\"lag_length\":0,\"metric_operation\":\"maximize\",\"preprocess\":true}',\n  'DataPrepJsonString': '{\\\\\"training_data\\\\\": \\\\\"{\\\\\\\\\\\\\"blocks\\\\\\\\\\\\\": [{\\\\\\\\\\\\\"id\\\\\\\\\\\\\": \\\\\\\\\\\\\"8ba7e4d6-82a9-4020-b0ac-04c6e3c6ee2f\\\\\\\\\\\\\", \\\\\\\\\\\\\"type\\\\\\\\\\\\\": \\\\\\\\\\\\\"Microsoft.DPrep.GetDatastoreFilesBlock\\\\\\\\\\\\\", \\\\\\\\\\\\\"arguments\\\\\\\\\\\\\": {\\\\\\\\\\\\\"datastores\\\\\\\\\\\\\": [{\\\\\\\\\\\\\"datastoreName\\\\\\\\\\\\\": \\\\\\\\\\\\\"workspaceblobstore\\\\\\\\\\\\\", \\\\\\\\\\\\\"path\\\\\\\\\\\\\": \\\\\\\\\\\\\"data/heart_failure_clinical_records_dataset.csv\\\\\\\\\\\\\", \\\\\\\\\\\\\"resourceGroup\\\\\\\\\\\\\": \\\\\\\\\\\\\"aml-quickstarts-141541\\\\\\\\\\\\\", \\\\\\\\\\\\\"subscription\\\\\\\\\\\\\": \\\\\\\\\\\\\"d4ad7261-832d-46b2-b093-22156001df5b\\\\\\\\\\\\\", \\\\\\\\\\\\\"workspaceName\\\\\\\\\\\\\": \\\\\\\\\\\\\"quick-starts-ws-141541\\\\\\\\\\\\\"}]}, \\\\\\\\\\\\\"localData\\\\\\\\\\\\\": {}, \\\\\\\\\\\\\"isEnabled\\\\\\\\\\\\\": true, \\\\\\\\\\\\\"name\\\\\\\\\\\\\": null, \\\\\\\\\\\\\"annotation\\\\\\\\\\\\\": null}, {\\\\\\\\\\\\\"id\\\\\\\\\\\\\": \\\\\\\\\\\\\"33a4742e-7d98-4e09-84d2-76c884bebfaa\\\\\\\\\\\\\", \\\\\\\\\\\\\"type\\\\\\\\\\\\\": \\\\\\\\\\\\\"Microsoft.DPrep.ParseDelimitedBlock\\\\\\\\\\\\\", \\\\\\\\\\\\\"arguments\\\\\\\\\\\\\": {\\\\\\\\\\\\\"columnHeadersMode\\\\\\\\\\\\\": 3, \\\\\\\\\\\\\"fileEncoding\\\\\\\\\\\\\": 0, \\\\\\\\\\\\\"handleQuotedLineBreaks\\\\\\\\\\\\\": false, \\\\\\\\\\\\\"preview\\\\\\\\\\\\\": false, \\\\\\\\\\\\\"separator\\\\\\\\\\\\\": \\\\\\\\\\\\\",\\\\\\\\\\\\\", \\\\\\\\\\\\\"skipRows\\\\\\\\\\\\\": 0, \\\\\\\\\\\\\"skipRowsMode\\\\\\\\\\\\\": 0}, \\\\\\\\\\\\\"localData\\\\\\\\\\\\\": {}, \\\\\\\\\\\\\"isEnabled\\\\\\\\\\\\\": true, \\\\\\\\\\\\\"name\\\\\\\\\\\\\": null, \\\\\\\\\\\\\"annotation\\\\\\\\\\\\\": null}, {\\\\\\\\\\\\\"id\\\\\\\\\\\\\": \\\\\\\\\\\\\"81772f99-b4a4-4b21-94e1-6fff5c10f9ca\\\\\\\\\\\\\", \\\\\\\\\\\\\"type\\\\\\\\\\\\\": \\\\\\\\\\\\\"Microsoft.DPrep.DropColumnsBlock\\\\\\\\\\\\\", \\\\\\\\\\\\\"arguments\\\\\\\\\\\\\": {\\\\\\\\\\\\\"columns\\\\\\\\\\\\\": {\\\\\\\\\\\\\"type\\\\\\\\\\\\\": 0, \\\\\\\\\\\\\"details\\\\\\\\\\\\\": {\\\\\\\\\\\\\"selectedColumns\\\\\\\\\\\\\": [\\\\\\\\\\\\\"Path\\\\\\\\\\\\\"]}}}, \\\\\\\\\\\\\"localData\\\\\\\\\\\\\": {}, \\\\\\\\\\\\\"isEnabled\\\\\\\\\\\\\": true, \\\\\\\\\\\\\"name\\\\\\\\\\\\\": null, \\\\\\\\\\\\\"annotation\\\\\\\\\\\\\": null}, {\\\\\\\\\\\\\"id\\\\\\\\\\\\\": \\\\\\\\\\\\\"307ca0ee-1a9c-460f-bc43-5bc4c77a85fa\\\\\\\\\\\\\", \\\\\\\\\\\\\"type\\\\\\\\\\\\\": \\\\\\\\\\\\\"Microsoft.DPrep.SetColumnTypesBlock\\\\\\\\\\\\\", \\\\\\\\\\\\\"arguments\\\\\\\\\\\\\": {\\\\\\\\\\\\\"columnConversion\\\\\\\\\\\\\": [{\\\\\\\\\\\\\"column\\\\\\\\\\\\\": {\\\\\\\\\\\\\"type\\\\\\\\\\\\\": 2, \\\\\\\\\\\\\"details\\\\\\\\\\\\\": {\\\\\\\\\\\\\"selectedColumn\\\\\\\\\\\\\": \\\\\\\\\\\\\"age\\\\\\\\\\\\\"}}, \\\\\\\\\\\\\"typeProperty\\\\\\\\\\\\\": 3}, {\\\\\\\\\\\\\"column\\\\\\\\\\\\\": {\\\\\\\\\\\\\"type\\\\\\\\\\\\\": 2, \\\\\\\\\\\\\"details\\\\\\\\\\\\\": {\\\\\\\\\\\\\"selectedColumn\\\\\\\\\\\\\": \\\\\\\\\\\\\"anaemia\\\\\\\\\\\\\"}}, \\\\\\\\\\\\\"typeProperty\\\\\\\\\\\\\": 2}, {\\\\\\\\\\\\\"column\\\\\\\\\\\\\": {\\\\\\\\\\\\\"type\\\\\\\\\\\\\": 2, \\\\\\\\\\\\\"details\\\\\\\\\\\\\": {\\\\\\\\\\\\\"selectedColumn\\\\\\\\\\\\\": \\\\\\\\\\\\\"creatinine_phosphokinase\\\\\\\\\\\\\"}}, \\\\\\\\\\\\\"typeProperty\\\\\\\\\\\\\": 2}, {\\\\\\\\\\\\\"column\\\\\\\\\\\\\": {\\\\\\\\\\\\\"type\\\\\\\\\\\\\": 2, \\\\\\\\\\\\\"details\\\\\\\\\\\\\": {\\\\\\\\\\\\\"selectedColumn\\\\\\\\\\\\\": \\\\\\\\\\\\\"diabetes\\\\\\\\\\\\\"}}, \\\\\\\\\\\\\"typeProperty\\\\\\\\\\\\\": 2}, {\\\\\\\\\\\\\"column\\\\\\\\\\\\\": {\\\\\\\\\\\\\"type\\\\\\\\\\\\\": 2, \\\\\\\\\\\\\"details\\\\\\\\\\\\\": {\\\\\\\\\\\\\"selectedColumn\\\\\\\\\\\\\": \\\\\\\\\\\\\"ejection_fraction\\\\\\\\\\\\\"}}, \\\\\\\\\\\\\"typeProperty\\\\\\\\\\\\\": 2}, {\\\\\\\\\\\\\"column\\\\\\\\\\\\\": {\\\\\\\\\\\\\"type\\\\\\\\\\\\\": 2, \\\\\\\\\\\\\"details\\\\\\\\\\\\\": {\\\\\\\\\\\\\"selectedColumn\\\\\\\\\\\\\": \\\\\\\\\\\\\"high_blood_pressure\\\\\\\\\\\\\"}}, \\\\\\\\\\\\\"typeProperty\\\\\\\\\\\\\": 2}, {\\\\\\\\\\\\\"column\\\\\\\\\\\\\": {\\\\\\\\\\\\\"type\\\\\\\\\\\\\": 2, \\\\\\\\\\\\\"details\\\\\\\\\\\\\": {\\\\\\\\\\\\\"selectedColumn\\\\\\\\\\\\\": \\\\\\\\\\\\\"platelets\\\\\\\\\\\\\"}}, \\\\\\\\\\\\\"typeProperty\\\\\\\\\\\\\": 3}, {\\\\\\\\\\\\\"column\\\\\\\\\\\\\": {\\\\\\\\\\\\\"type\\\\\\\\\\\\\": 2, \\\\\\\\\\\\\"details\\\\\\\\\\\\\": {\\\\\\\\\\\\\"selectedColumn\\\\\\\\\\\\\": \\\\\\\\\\\\\"serum_creatinine\\\\\\\\\\\\\"}}, \\\\\\\\\\\\\"typeProperty\\\\\\\\\\\\\": 3}, {\\\\\\\\\\\\\"column\\\\\\\\\\\\\": {\\\\\\\\\\\\\"type\\\\\\\\\\\\\": 2, \\\\\\\\\\\\\"details\\\\\\\\\\\\\": {\\\\\\\\\\\\\"selectedColumn\\\\\\\\\\\\\": \\\\\\\\\\\\\"serum_sodium\\\\\\\\\\\\\"}}, \\\\\\\\\\\\\"typeProperty\\\\\\\\\\\\\": 2}, {\\\\\\\\\\\\\"column\\\\\\\\\\\\\": {\\\\\\\\\\\\\"type\\\\\\\\\\\\\": 2, \\\\\\\\\\\\\"details\\\\\\\\\\\\\": {\\\\\\\\\\\\\"selectedColumn\\\\\\\\\\\\\": \\\\\\\\\\\\\"sex\\\\\\\\\\\\\"}}, \\\\\\\\\\\\\"typeProperty\\\\\\\\\\\\\": 2}, {\\\\\\\\\\\\\"column\\\\\\\\\\\\\": {\\\\\\\\\\\\\"type\\\\\\\\\\\\\": 2, \\\\\\\\\\\\\"details\\\\\\\\\\\\\": {\\\\\\\\\\\\\"selectedColumn\\\\\\\\\\\\\": \\\\\\\\\\\\\"smoking\\\\\\\\\\\\\"}}, \\\\\\\\\\\\\"typeProperty\\\\\\\\\\\\\": 2}, {\\\\\\\\\\\\\"column\\\\\\\\\\\\\": {\\\\\\\\\\\\\"type\\\\\\\\\\\\\": 2, \\\\\\\\\\\\\"details\\\\\\\\\\\\\": {\\\\\\\\\\\\\"selectedColumn\\\\\\\\\\\\\": \\\\\\\\\\\\\"time\\\\\\\\\\\\\"}}, \\\\\\\\\\\\\"typeProperty\\\\\\\\\\\\\": 2}, {\\\\\\\\\\\\\"column\\\\\\\\\\\\\": {\\\\\\\\\\\\\"type\\\\\\\\\\\\\": 2, \\\\\\\\\\\\\"details\\\\\\\\\\\\\": {\\\\\\\\\\\\\"selectedColumn\\\\\\\\\\\\\": \\\\\\\\\\\\\"DEATH_EVENT\\\\\\\\\\\\\"}}, \\\\\\\\\\\\\"typeProperty\\\\\\\\\\\\\": 2}]}, \\\\\\\\\\\\\"localData\\\\\\\\\\\\\": {}, \\\\\\\\\\\\\"isEnabled\\\\\\\\\\\\\": true, \\\\\\\\\\\\\"name\\\\\\\\\\\\\": null, \\\\\\\\\\\\\"annotation\\\\\\\\\\\\\": null}], \\\\\\\\\\\\\"inspectors\\\\\\\\\\\\\": [], \\\\\\\\\\\\\"meta\\\\\\\\\\\\\": {\\\\\\\\\\\\\"savedDatasetId\\\\\\\\\\\\\": \\\\\\\\\\\\\"ed8218bd-2f9b-4e15-80ad-c35fc2eab4ad\\\\\\\\\\\\\", \\\\\\\\\\\\\"datasetType\\\\\\\\\\\\\": \\\\\\\\\\\\\"tabular\\\\\\\\\\\\\", \\\\\\\\\\\\\"subscriptionId\\\\\\\\\\\\\": \\\\\\\\\\\\\"d4ad7261-832d-46b2-b093-22156001df5b\\\\\\\\\\\\\", \\\\\\\\\\\\\"workspaceId\\\\\\\\\\\\\": \\\\\\\\\\\\\"2722ccde-5c46-462d-b7c4-fa7e9b63410c\\\\\\\\\\\\\", \\\\\\\\\\\\\"workspaceLocation\\\\\\\\\\\\\": \\\\\\\\\\\\\"southcentralus\\\\\\\\\\\\\", \\\\\\\\\\\\\"partition_keys\\\\\\\\\\\\\": \\\\\\\\\\\\\"true\\\\\\\\\\\\\"}}\\\\\", \\\\\"activities\\\\\": 0}',\n  'EnableSubsampling': None,\n  'runTemplate': 'AutoML',\n  'azureml.runsource': 'automl',\n  'display_task_type': 'classification',\n  'dependencies_versions': '{\"azureml-widgets\": \"1.24.0\", \"azureml-train\": \"1.24.0\", \"azureml-train-restclients-hyperdrive\": \"1.24.0\", \"azureml-train-core\": \"1.24.0\", \"azureml-train-automl\": \"1.24.0\", \"azureml-train-automl-runtime\": \"1.24.0\", \"azureml-train-automl-client\": \"1.24.0\", \"azureml-tensorboard\": \"1.24.0\", \"azureml-telemetry\": \"1.24.0\", \"azureml-sdk\": \"1.24.0\", \"azureml-samples\": \"0+unknown\", \"azureml-pipeline\": \"1.24.0\", \"azureml-pipeline-steps\": \"1.24.0\", \"azureml-pipeline-core\": \"1.24.0\", \"azureml-opendatasets\": \"1.24.0\", \"azureml-model-management-sdk\": \"1.0.1b6.post1\", \"azureml-mlflow\": \"1.24.0\", \"azureml-interpret\": \"1.24.0\", \"azureml-explain-model\": \"1.24.0\", \"azureml-defaults\": \"1.24.0\", \"azureml-dataset-runtime\": \"1.24.0\", \"azureml-dataprep\": \"2.11.1\", \"azureml-dataprep-rslex\": \"1.9.0\", \"azureml-dataprep-native\": \"30.0.0\", \"azureml-datadrift\": \"1.24.0\", \"azureml-core\": \"1.24.0\", \"azureml-contrib-services\": \"1.24.0\", \"azureml-contrib-server\": \"1.24.0\", \"azureml-contrib-reinforcementlearning\": \"1.24.0\", \"azureml-contrib-pipeline-steps\": \"1.24.0\", \"azureml-contrib-notebook\": \"1.24.0\", \"azureml-contrib-gbdt\": \"1.24.0\", \"azureml-contrib-fairness\": \"1.24.0\", \"azureml-contrib-dataset\": \"1.24.0\", \"azureml-cli-common\": \"1.24.0\", \"azureml-automl-runtime\": \"1.24.0\", \"azureml-automl-dnn-nlp\": \"1.24.0\", \"azureml-automl-core\": \"1.24.0\", \"azureml-accel-models\": \"1.24.0\"}',\n  '_aml_system_scenario_identification': 'Remote.Parent',\n  'ClientType': 'SDK',\n  'environment_cpu_name': 'AzureML-AutoML',\n  'environment_cpu_label': 'prod',\n  'environment_gpu_name': 'AzureML-AutoML-GPU',\n  'environment_gpu_label': 'prod',\n  'root_attribution': 'automl',\n  'attribution': 'AutoML',\n  'Orchestrator': 'AutoML',\n  'CancelUri': 'https://southcentralus.experiments.azureml.net/jasmine/v1.0/subscriptions/d4ad7261-832d-46b2-b093-22156001df5b/resourceGroups/aml-quickstarts-141541/providers/Microsoft.MachineLearningServices/workspaces/quick-starts-ws-141541/experimentids/98a7af5e-7507-4693-abf8-1f102f75e88a/cancel/AutoML_fea5604c-b61b-4056-a4e4-96cf708b46b0',\n  'ClientSdkVersion': '1.24.0',\n  'snapshotId': '00000000-0000-0000-0000-000000000000',\n  'SetupRunId': 'AutoML_fea5604c-b61b-4056-a4e4-96cf708b46b0_setup',\n  'SetupRunContainerId': 'dcid.AutoML_fea5604c-b61b-4056-a4e4-96cf708b46b0_setup',\n  'FeaturizationRunJsonPath': 'featurizer_container.json',\n  'FeaturizationRunId': 'AutoML_fea5604c-b61b-4056-a4e4-96cf708b46b0_featurize',\n  'ProblemInfoJsonString': '{\"dataset_num_categorical\": 0, \"is_sparse\": false, \"subsampling\": false, \"dataset_classes\": 2, \"dataset_features\": 12, \"dataset_samples\": 299, \"single_frequency_class_detected\": false}',\n  'ModelExplainRunId': 'AutoML_fea5604c-b61b-4056-a4e4-96cf708b46b0_ModelExplain'},\n 'inputDatasets': [{'dataset': {'id': 'ed8218bd-2f9b-4e15-80ad-c35fc2eab4ad'}, 'consumptionDetails': {'type': 'RunInput', 'inputName': 'training_data', 'mechanism': 'Direct'}}],\n 'outputDatasets': [],\n 'logFiles': {},\n 'submittedBy': 'ODL_User 141541'}"
          },
          "metadata": {}
        }
      ],
      "execution_count": 9,
      "metadata": {
        "gather": {
          "logged": 1617004443393
        }
      }
    },
    {
      "cell_type": "markdown",
      "source": [
        "## Best Model\n",
        "\n",
        "TODO: In the cell below, get the best model from the automl experiments and display all the properties of the model.\n",
        "\n"
      ],
      "metadata": {}
    },
    {
      "cell_type": "code",
      "source": [],
      "outputs": [],
      "execution_count": null,
      "metadata": {}
    },
    {
      "cell_type": "code",
      "source": [
        "best_run, fitted_model = remote_run.get_output()\n",
        "print(best_run)\n",
        "print(fitted_model)\n",
        "best_run_metrics = best_run.get_metrics()\n",
        "for metric_name in best_run_metrics:\n",
        "    metric = best_run_metrics[metric_name]\n",
        "    print(metric_name, metric)\n",
        "\n"
      ],
      "outputs": [
        {
          "output_type": "stream",
          "name": "stdout",
          "text": [
            "Run(Experiment: heart-failure-prediction-automl,\n",
            "Id: AutoML_fea5604c-b61b-4056-a4e4-96cf708b46b0_63,\n",
            "Type: azureml.scriptrun,\n",
            "Status: Completed)\n",
            "Pipeline(memory=None,\n",
            "         steps=[('datatransformer',\n",
            "                 DataTransformer(enable_dnn=None, enable_feature_sweeping=None,\n",
            "                                 feature_sweeping_config=None,\n",
            "                                 feature_sweeping_timeout=None,\n",
            "                                 featurization_config=None, force_text_dnn=None,\n",
            "                                 is_cross_validation=None,\n",
            "                                 is_onnx_compatible=None, logger=None,\n",
            "                                 observer=None, task=None, working_dir=None)),\n",
            "                ('prefittedsoftvotingclassifier',...\n",
            "                                                                                               silent=None,\n",
            "                                                                                               subsample=0.9,\n",
            "                                                                                               tree_method='hist',\n",
            "                                                                                               verbose=-10,\n",
            "                                                                                               verbosity=0))],\n",
            "                                                                     verbose=False))],\n",
            "                                               flatten_transform=None,\n",
            "                                               weights=[0.06666666666666667,\n",
            "                                                        0.06666666666666667,\n",
            "                                                        0.13333333333333333,\n",
            "                                                        0.06666666666666667,\n",
            "                                                        0.13333333333333333,\n",
            "                                                        0.13333333333333333,\n",
            "                                                        0.13333333333333333,\n",
            "                                                        0.06666666666666667,\n",
            "                                                        0.06666666666666667,\n",
            "                                                        0.06666666666666667,\n",
            "                                                        0.06666666666666667]))],\n",
            "         verbose=False)\n",
            "recall_score_macro 0.8420588980686234\n",
            "f1_score_weighted 0.8676950680007479\n",
            "f1_score_macro 0.8468079549483234\n",
            "precision_score_weighted 0.8919211589019449\n",
            "average_precision_score_weighted 0.9364601471753288\n",
            "precision_score_macro 0.8847332253939806\n",
            "balanced_accuracy 0.8420588980686234\n",
            "f1_score_micro 0.8729885057471265\n",
            "weighted_accuracy 0.8933269594538096\n",
            "accuracy 0.8729885057471265\n",
            "average_precision_score_macro 0.9153967599671194\n",
            "recall_score_micro 0.8729885057471265\n",
            "precision_score_micro 0.8729885057471265\n",
            "average_precision_score_micro 0.9289700615317044\n",
            "AUC_micro 0.9243042674065267\n",
            "recall_score_weighted 0.8729885057471265\n",
            "norm_macro_recall 0.684117796137247\n",
            "log_loss 0.3858987661930585\n",
            "matthews_correlation 0.723217710429127\n",
            "AUC_macro 0.9263249305466126\n",
            "AUC_weighted 0.9263249305466124\n",
            "accuracy_table aml://artifactId/ExperimentRun/dcid.AutoML_fea5604c-b61b-4056-a4e4-96cf708b46b0_63/accuracy_table\n",
            "confusion_matrix aml://artifactId/ExperimentRun/dcid.AutoML_fea5604c-b61b-4056-a4e4-96cf708b46b0_63/confusion_matrix\n"
          ]
        }
      ],
      "execution_count": 10,
      "metadata": {
        "gather": {
          "logged": 1617004467855
        },
        "jupyter": {
          "outputs_hidden": false,
          "source_hidden": false
        },
        "nteract": {
          "transient": {
            "deleting": false
          }
        }
      }
    },
    {
      "cell_type": "code",
      "source": [
        "model = best_run.register_model(model_path='outputs/model.pkl', model_name='automal_heartfailure_prediction_model',\n",
        "                        tags={'Training context':'Auto ML'},\n",
        "                        properties={'AUC': best_run_metrics['AUC_weighted'], 'Accuracy': best_run_metrics['accuracy']})\n",
        "\n",
        "print(model.name, model.id, model.version, sep='\\t')"
      ],
      "outputs": [
        {
          "output_type": "stream",
          "name": "stdout",
          "text": [
            "automal_heartfailure_prediction_model\tautomal_heartfailure_prediction_model:1\t1\n"
          ]
        }
      ],
      "execution_count": 11,
      "metadata": {
        "gather": {
          "logged": 1617004468426
        },
        "jupyter": {
          "outputs_hidden": false,
          "source_hidden": false
        },
        "nteract": {
          "transient": {
            "deleting": false
          }
        }
      }
    },
    {
      "cell_type": "markdown",
      "source": [
        "## Model Deployment\n",
        "\n",
        "Remember you have to deploy only one of the two models you trained.. Perform the steps in the rest of this notebook only if you wish to deploy this model.\n",
        "\n",
        "TODO: In the cell below, register the model, create an inference config and deploy the model as a web service."
      ],
      "metadata": {}
    },
    {
      "cell_type": "code",
      "source": [
        "env = best_run.get_environment()\n",
        "\n",
        "script_file = 'score.py'\n",
        "best_run.download_file('outputs/scoring_file_v_1_0_0.py', script_file)"
      ],
      "outputs": [],
      "execution_count": 12,
      "metadata": {
        "gather": {
          "logged": 1617004469496
        },
        "jupyter": {
          "outputs_hidden": false,
          "source_hidden": false
        },
        "nteract": {
          "transient": {
            "deleting": false
          }
        }
      }
    },
    {
      "cell_type": "markdown",
      "source": [
        "TODO: In the cell below, send a request to the web service you deployed to test it."
      ],
      "metadata": {
        "collapsed": true,
        "gather": {
          "logged": 1598431657736
        },
        "jupyter": {
          "outputs_hidden": false,
          "source_hidden": false
        },
        "nteract": {
          "transient": {
            "deleting": false
          }
        }
      }
    },
    {
      "cell_type": "code",
      "source": [
        "from azureml.core.model import InferenceConfig\n",
        "from azureml.core.webservice import AciWebservice\n",
        "from azureml.core.webservice import Webservice\n",
        "from azureml.core.model import Model\n",
        "from azureml.core.environment import Environment\n",
        "\n",
        "inference_config = InferenceConfig(entry_script=script_file, environment=env)\n",
        "\n",
        "deployment_config = AciWebservice.deploy_configuration(cpu_cores = 1, \n",
        "                                                       memory_gb = 1)\n",
        "\n",
        "deploy_service_name= 'automl-model-deployment'\n",
        "service = Model.deploy(ws,deploy_service_name,  [model], inference_config, deployment_config)\n",
        "\n",
        "service.wait_for_deployment(show_output = True)\n",
        "\n",
        "scoring_uri = service.scoring_uri\n",
        "\n",
        "print(\"State: \",service.state)\n",
        "print(\"\\nScoring URI: \", scoring_uri)"
      ],
      "outputs": [
        {
          "output_type": "stream",
          "name": "stdout",
          "text": [
            "Tips: You can try get_logs(): https://aka.ms/debugimage#dockerlog or local deployment: https://aka.ms/debugimage#debug-locally to debug if deployment takes longer than 10 minutes.\n",
            "Running\n",
            "2021-03-29 07:54:30+00:00 Creating Container Registry if not exists.\n",
            "2021-03-29 07:54:31+00:00 Registering the environment.\n",
            "2021-03-29 07:54:31+00:00 Use the existing image.\n",
            "2021-03-29 07:54:32+00:00 Generating deployment configuration.\n",
            "2021-03-29 07:54:32+00:00 Submitting deployment to compute.\n",
            "2021-03-29 07:54:35+00:00 Checking the status of deployment automl-model-deployment..\n",
            "2021-03-29 07:58:00+00:00 Checking the status of inference endpoint automl-model-deployment.\n",
            "Succeeded\n",
            "ACI service creation operation finished, operation \"Succeeded\"\n",
            "State:  Healthy\n",
            "\n",
            "Scoring URI:  http://e024fe18-d111-450c-9650-143a2aca7489.southcentralus.azurecontainer.io/score\n"
          ]
        }
      ],
      "execution_count": 13,
      "metadata": {
        "gather": {
          "logged": 1617004692971
        },
        "jupyter": {
          "outputs_hidden": false,
          "source_hidden": false
        },
        "nteract": {
          "transient": {
            "deleting": false
          }
        }
      }
    },
    {
      "cell_type": "markdown",
      "source": [
        "TODO: In the cell below, print the logs of the web service and delete the service"
      ],
      "metadata": {
        "collapsed": true,
        "gather": {
          "logged": 1598432765711
        },
        "jupyter": {
          "outputs_hidden": false,
          "source_hidden": false
        },
        "nteract": {
          "transient": {
            "deleting": false
          }
        }
      }
    },
    {
      "cell_type": "code",
      "source": [
        "\n",
        "# Enable app insights\n",
        "service.update(enable_app_insights=True)"
      ],
      "outputs": [],
      "execution_count": 14,
      "metadata": {
        "jupyter": {
          "outputs_hidden": false,
          "source_hidden": false
        },
        "nteract": {
          "transient": {
            "deleting": false
          }
        },
        "gather": {
          "logged": 1617004693897
        }
      }
    },
    {
      "cell_type": "code",
      "source": [
        "import requests\n",
        "import json\n",
        "\n",
        "# URL for the web service, should be similar to:\n",
        "#scoring_uri = 'http://0d469fee-33c0-4ce9-9dac-2767356110c9.southcentralus.azurecontainer.io/score'\n",
        "# If the service is authenticated, set the key or token\n",
        "#key = 'zuv0yY9prOPHFssuYSFWDJPhnVMxgJqG'\n",
        "#two set of data to score, so we get two results back\n",
        "#age,anaemia,creatinine_phosphokinase,diabetes,ejection_fraction,high_blood_pressure,platelets,serum_creatinine,serum_sodium,sex,smoking,time,DEATH_EVENT\n",
        "\n",
        "data = {\"data\": [\n",
        "    {\"age\": 75, \n",
        "     \"anaemia\": 0, \n",
        "     \"creatinine_phosphokinase\": 582, \n",
        "     \"diabetes\": 0, \n",
        "     \"ejection_fraction\": 20, \n",
        "     \"high_blood_pressure\": 1, \n",
        "     \"platelets\": 265000, \n",
        "     \"serum_creatinine\": 1.9, \n",
        "     \"serum_sodium\": 130, \n",
        "     \"sex\": 1, \n",
        "     \"smoking\": 0, \n",
        "     \"time\": 4},\n",
        "\n",
        "    {\"age\": 55, \n",
        "     \"anaemia\": 0, \n",
        "     \"creatinine_phosphokinase\": 7861, \n",
        "     \"diabetes\": 0, \n",
        "     \"ejection_fraction\": 38, \n",
        "     \"high_blood_pressure\": 0, \n",
        "     \"platelets\": 263358.03, \n",
        "     \"serum_creatinine\": 1.1, \n",
        "     \"serum_sodium\": 136, \n",
        "     \"sex\": 1, \n",
        "     \"smoking\": 0, \n",
        "     \"time\": 6},\n",
        "      ]}\n",
        "    \n",
        "# Convert to JSON string\n",
        "input_data = json.dumps(data)\n",
        "with open(\"data.json\", \"w\") as _f:\n",
        "    _f.write(input_data)\n",
        "\n",
        "# Set the content type\n",
        "headers = {'Content-Type': 'application/json'}\n",
        "# If authentication is enabled, set the authorization header\n",
        "#headers['Authorization'] = f'Bearer {key}'\n",
        "\n",
        "# Make the request and display the response\n",
        "resp = requests.post(scoring_uri, input_data, headers=headers)\n",
        "print(resp.json())\n",
        "print(\"Case 0: Death, Case 1: Death.\")"
      ],
      "outputs": [
        {
          "output_type": "stream",
          "name": "stdout",
          "text": [
            "{\"result\": [1, 1]}\n",
            "Case 0: Death, Case 1: Death.\n"
          ]
        }
      ],
      "execution_count": 20,
      "metadata": {
        "gather": {
          "logged": 1617006239373
        }
      }
    },
    {
      "cell_type": "code",
      "source": [
        "data = [{\"age\": 65, \n",
        "     \"anaemia\": 0, \n",
        "     \"creatinine_phosphokinase\": 146, \n",
        "     \"diabetes\": 0, \n",
        "     \"ejection_fraction\": 20, \n",
        "     \"high_blood_pressure\": 0, \n",
        "     \"platelets\": 162000, \n",
        "     \"serum_creatinine\": 1.3, \n",
        "     \"serum_sodium\": 129, \n",
        "     \"sex\": 1, \n",
        "     \"smoking\": 1, \n",
        "     \"time\": 7},\n",
        "    \n",
        "    {\"age\": 55, \n",
        "     \"anaemia\": 0, \n",
        "     \"creatinine_phosphokinase\": 109, \n",
        "     \"diabetes\": 0, \n",
        "     \"ejection_fraction\": 35, \n",
        "     \"high_blood_pressure\": 0, \n",
        "     \"platelets\": 254000, \n",
        "     \"serum_creatinine\": 1.1, \n",
        "     \"serum_sodium\": 139, \n",
        "     \"sex\": 1, \n",
        "     \"smoking\": 1, \n",
        "     \"time\": 60},\n",
        "      ]\n",
        "    \n",
        "print(data)\n"
      ],
      "outputs": [
        {
          "output_type": "stream",
          "name": "stdout",
          "text": [
            "[{'age': 65, 'anaemia': 0, 'creatinine_phosphokinase': 146, 'diabetes': 0, 'ejection_fraction': 20, 'high_blood_pressure': 0, 'platelets': 162000, 'serum_creatinine': 1.3, 'serum_sodium': 129, 'sex': 1, 'smoking': 1, 'time': 7}, {'age': 55, 'anaemia': 0, 'creatinine_phosphokinase': 109, 'diabetes': 0, 'ejection_fraction': 35, 'high_blood_pressure': 0, 'platelets': 254000, 'serum_creatinine': 1.1, 'serum_sodium': 139, 'sex': 1, 'smoking': 1, 'time': 60}]\n"
          ]
        }
      ],
      "execution_count": 21,
      "metadata": {
        "gather": {
          "logged": 1617006321916
        }
      }
    },
    {
      "cell_type": "code",
      "source": [
        "# test using service instance\n",
        "input_data = json.dumps({\n",
        "    'data': data\n",
        "})\n",
        "\n",
        "output = service.run(input_data)\n",
        "print(output)\n",
        "print(\"Case 0: Death, Case 1: No Death.\")"
      ],
      "outputs": [
        {
          "output_type": "stream",
          "name": "stdout",
          "text": [
            "{\"result\": [1, 0]}\n",
            "Case 0: Death, Case 1: No Death.\n"
          ]
        }
      ],
      "execution_count": 24,
      "metadata": {
        "gather": {
          "logged": 1617006396669
        }
      }
    },
    {
      "cell_type": "code",
      "source": [
        "\n",
        "logs = service.get_logs()\n",
        "logs"
      ],
      "outputs": [
        {
          "output_type": "execute_result",
          "execution_count": 18,
          "data": {
            "text/plain": "'2021-03-29T07:57:55,060640800+00:00 - iot-server/run \\n2021-03-29T07:57:55,062073000+00:00 - rsyslog/run \\n2021-03-29T07:57:55,068672200+00:00 - gunicorn/run \\n2021-03-29T07:57:55,083813100+00:00 - nginx/run \\n/usr/sbin/nginx: /azureml-envs/azureml_2b14f450572e78de640d54eaabed5e4d/lib/libcrypto.so.1.0.0: no version information available (required by /usr/sbin/nginx)\\n/usr/sbin/nginx: /azureml-envs/azureml_2b14f450572e78de640d54eaabed5e4d/lib/libcrypto.so.1.0.0: no version information available (required by /usr/sbin/nginx)\\n/usr/sbin/nginx: /azureml-envs/azureml_2b14f450572e78de640d54eaabed5e4d/lib/libssl.so.1.0.0: no version information available (required by /usr/sbin/nginx)\\n/usr/sbin/nginx: /azureml-envs/azureml_2b14f450572e78de640d54eaabed5e4d/lib/libssl.so.1.0.0: no version information available (required by /usr/sbin/nginx)\\n/usr/sbin/nginx: /azureml-envs/azureml_2b14f450572e78de640d54eaabed5e4d/lib/libssl.so.1.0.0: no version information available (required by /usr/sbin/nginx)\\nrsyslogd: /azureml-envs/azureml_2b14f450572e78de640d54eaabed5e4d/lib/libuuid.so.1: no version information available (required by rsyslogd)\\nEdgeHubConnectionString and IOTEDGE_IOTHUBHOSTNAME are not set. Exiting...\\n2021-03-29T07:57:56,301719500+00:00 - iot-server/finish 1 0\\n2021-03-29T07:57:56,315935800+00:00 - Exit code 1 is normal. Not restarting iot-server.\\nStarting gunicorn 19.9.0\\nListening at: http://127.0.0.1:31311 (70)\\nUsing worker: sync\\nworker timeout is set to 300\\nBooting worker with pid: 96\\nSPARK_HOME not set. Skipping PySpark Initialization.\\nGenerating new fontManager, this may take some time...\\nInitializing logger\\n2021-03-29 07:58:01,046 | root | INFO | Starting up app insights client\\n2021-03-29 07:58:01,046 | root | INFO | Starting up request id generator\\n2021-03-29 07:58:01,047 | root | INFO | Starting up app insight hooks\\n2021-03-29 07:58:01,047 | root | INFO | Invoking user\\'s init function\\n2021-03-29 07:58:09,912 | azureml.core | WARNING | Failure while loading azureml_run_type_providers. Failed to load entrypoint automl = azureml.train.automl.run:AutoMLRun._from_run_dto with exception (cryptography 3.2 (/azureml-envs/azureml_2b14f450572e78de640d54eaabed5e4d/lib/python3.6/site-packages), Requirement.parse(\\'cryptography<4.0.0,>=3.3.1; extra == \"crypto\"\\'), {\\'PyJWT\\'}).\\nFailure while loading azureml_run_type_providers. Failed to load entrypoint automl = azureml.train.automl.run:AutoMLRun._from_run_dto with exception (cryptography 3.2 (/azureml-envs/azureml_2b14f450572e78de640d54eaabed5e4d/lib/python3.6/site-packages), Requirement.parse(\\'cryptography<4.0.0,>=3.3.1; extra == \"crypto\"\\'), {\\'PyJWT\\'}).\\n2021-03-29 07:58:10,882 | root | INFO | Users\\'s init has completed successfully\\n2021-03-29 07:58:10,918 | root | INFO | Skipping middleware: dbg_model_info as it\\'s not enabled.\\n2021-03-29 07:58:10,918 | root | INFO | Skipping middleware: dbg_resource_usage as it\\'s not enabled.\\n2021-03-29 07:58:10,920 | root | INFO | Scoring timeout is found from os.environ: 60000 ms\\n2021-03-29 07:58:10,938 | root | INFO | 200\\n127.0.0.1 - - [29/Mar/2021:07:58:10 +0000] \"GET /swagger.json HTTP/1.0\" 200 2858 \"-\" \"Go-http-client/1.1\"\\n2021-03-29 07:58:12,732 | root | INFO | 200\\n127.0.0.1 - - [29/Mar/2021:07:58:12 +0000] \"GET /swagger.json HTTP/1.0\" 200 2858 \"-\" \"Go-http-client/1.1\"\\n2021-03-29 07:58:13,689 | root | INFO | 200\\n127.0.0.1 - - [29/Mar/2021:07:58:13 +0000] \"GET /swagger.json HTTP/1.0\" 200 2858 \"-\" \"Go-http-client/1.1\"\\n2021-03-29 07:58:13,917 | root | INFO | Validation Request Content-Type\\n2021-03-29 07:58:13,918 | root | INFO | Scoring Timer is set to 60.0 seconds\\n2021-03-29 07:58:14,061 | root | INFO | 200\\n127.0.0.1 - - [29/Mar/2021:07:58:14 +0000] \"POST /score HTTP/1.0\" 200 22 \"-\" \"python-requests/2.25.1\"\\n2021-03-29 07:58:14,098 | root | INFO | Validation Request Content-Type\\n2021-03-29 07:58:14,099 | root | INFO | Scoring Timer is set to 60.0 seconds\\n2021-03-29 07:58:14,184 | root | INFO | 200\\n127.0.0.1 - - [29/Mar/2021:07:58:14 +0000] \"POST /score HTTP/1.0\" 200 22 \"-\" \"python-requests/2.25.1\"\\n'"
          },
          "metadata": {}
        }
      ],
      "execution_count": 18,
      "metadata": {
        "gather": {
          "logged": 1617004694955
        }
      }
    },
    {
      "cell_type": "code",
      "source": [
        "service.delete()"
      ],
      "outputs": [],
      "execution_count": 25,
      "metadata": {
        "gather": {
          "logged": 1617006458605
        }
      }
    }
  ],
  "metadata": {
    "kernel_info": {
      "name": "python3"
    },
    "kernelspec": {
      "name": "python3",
      "language": "python",
      "display_name": "Python 3"
    },
    "language_info": {
      "name": "python",
      "version": "3.6.9",
      "mimetype": "text/x-python",
      "codemirror_mode": {
        "name": "ipython",
        "version": 3
      },
      "pygments_lexer": "ipython3",
      "nbconvert_exporter": "python",
      "file_extension": ".py"
    },
    "nteract": {
      "version": "nteract-front-end@1.0.0"
    },
    "microsoft": {
      "host": {
        "AzureML": {
          "notebookHasBeenCompleted": true
        }
      }
    }
  },
  "nbformat": 4,
  "nbformat_minor": 2
}